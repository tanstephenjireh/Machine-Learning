{
 "cells": [
  {
   "cell_type": "markdown",
   "metadata": {},
   "source": [
    "# Problem Set 3 CS129.18\n",
    "\n",
    "The following problem set will revolve around the Enron Emails dataset.\n",
    "The dataset `data/enron-data/` directory has 6 files. The objective is to build a classifier for whether email is spam or not.\n"
   ]
  },
  {
   "cell_type": "markdown",
   "metadata": {},
   "source": [
    "## Requirements\n",
    "\n",
    "\n",
    ">Spam or Ham?\n",
    "\n",
    "Using the lessons on Naive Bayes and TF-IDF, and the other resource notebooks, show the following in this Jupyter Notebook.\n",
    "\n",
    "Write your answers down as Markdown cells or comments in the code.\n",
    "\n",
    "**Using Enron 1 and 2**\n",
    "\n",
    "1. How many Spam Emails are there? \n",
    "\n",
    "2. Structure the email data from the 2 directories into 1 dataframe with columns: Status, Subject, Body \n",
    "\n",
    "3. Build a Naive Bayes classifier to classify whether emails are spam or not. \n",
    "\n",
    "4. What is the longest ham email? \n",
    "\n",
    "5. What is the accuracy of your model?\n",
    "\n",
    "6. Include the Subject in the analysis of the emails, does the accuracy/performance of the model increase? \n",
    "\n",
    "\n",
    "\n",
    "-----\n",
    "\n",
    "\n",
    "Bonus : Answer questions 1-6 using Enron 1,2, and 3.\n",
    "\n",
    "----"
   ]
  },
  {
   "cell_type": "code",
   "execution_count": 1,
   "metadata": {},
   "outputs": [],
   "source": [
    "%matplotlib inline\n",
    "\n",
    "import matplotlib.pylab as plt\n",
    "import seaborn as sns\n",
    "import numpy as np\n",
    "import pandas as pd\n",
    "import os\n",
    "import re\n",
    "import random"
   ]
  },
  {
   "cell_type": "code",
   "execution_count": 2,
   "metadata": {},
   "outputs": [
    {
     "name": "stdout",
     "output_type": "stream",
     "text": [
      "data/enron-data/enron1 ['ham', 'spam', 'test_ham', 'test_spam'] 2\n",
      "data/enron-data/enron1\\ham [] 3672\n",
      "data/enron-data/enron1\\spam [] 1499\n",
      "data/enron-data/enron1\\test_ham [] 2\n",
      "data/enron-data/enron1\\test_spam [] 2\n"
     ]
    }
   ],
   "source": [
    "rootdir = \"data/enron-data/enron1\"\n",
    "# Loop through all the directories, sub directories and files in the above folder, and print them.\n",
    "for directories, subdirs, files in os.walk(rootdir):\n",
    "    print(directories, subdirs, len(files))"
   ]
  },
  {
   "cell_type": "markdown",
   "metadata": {},
   "source": [
    "<div class=\"alert alert-block alert-info\">\n",
    "<b>Enron1</b>\n",
    "</div>"
   ]
  },
  {
   "cell_type": "markdown",
   "metadata": {},
   "source": [
    "# Process of making a dataframe from ham and spam folder"
   ]
  },
  {
   "cell_type": "markdown",
   "metadata": {},
   "source": [
    "### Append the list of emails in ham_list & spam_list & list all the ham status in ham_status and spam status in spam_status"
   ]
  },
  {
   "cell_type": "code",
   "execution_count": 20,
   "metadata": {},
   "outputs": [],
   "source": [
    "ham_list = []\n",
    "ham_status = []\n",
    "ham_subject = []\n",
    "ham_body = []\n",
    "\n",
    "spam_list = []\n",
    "spam_status = []\n",
    "spam_subject = []\n",
    "spam_body = []\n",
    "\n",
    "\n",
    "for directories, subdirs, files in os.walk(rootdir):\n",
    "    if (os.path.split(directories)[1]  == 'ham'):\n",
    "        for filename in files:      \n",
    "            ham_status.append(filename.split(\".\")[3])\n",
    "            \n",
    "    if (os.path.split(directories)[1]  == 'ham'):\n",
    "        for filename in files:      \n",
    "            with open(os.path.join(directories, filename), encoding=\"latin-1\") as f:\n",
    "                data = f.read()\n",
    "                ham_list.append(data)\n",
    "\n",
    "    if (os.path.split(directories)[1]  == 'spam'):\n",
    "        for filename in files:      \n",
    "            spam_status.append(filename.split(\".\")[3])\n",
    "            \n",
    "    if (os.path.split(directories)[1]  == 'spam'):\n",
    "        for filename in files:      \n",
    "            with open(os.path.join(directories, filename), encoding=\"latin-1\") as f:\n",
    "                data = f.read()\n",
    "                spam_list.append(data)"
   ]
  },
  {
   "cell_type": "markdown",
   "metadata": {},
   "source": [
    "### Append on ham_subject_list all the list of subject"
   ]
  },
  {
   "cell_type": "markdown",
   "metadata": {},
   "source": [
    "Get the \"Subject\" since every text file starts with the capital Subject"
   ]
  },
  {
   "cell_type": "code",
   "execution_count": 21,
   "metadata": {},
   "outputs": [],
   "source": [
    "ham_subject_list = []\n",
    "spam_subject_list = []\n",
    "\n",
    "for texts in ham_list:\n",
    "    new_list = texts.split('\\n')\n",
    "    for list in new_list:\n",
    "        if list.startswith('Subject'):\n",
    "            ham_subject_list.append(list)\n",
    "\n",
    "for texts in spam_list:\n",
    "    new_list = texts.split('\\n')\n",
    "    for list in new_list:\n",
    "        if list.startswith('Subject'):\n",
    "            spam_subject_list.append(list)\n",
    "            \n",
    "# ham_subject_list"
   ]
  },
  {
   "cell_type": "markdown",
   "metadata": {},
   "source": [
    "### Append on ham_subject the subjects "
   ]
  },
  {
   "cell_type": "code",
   "execution_count": 22,
   "metadata": {},
   "outputs": [],
   "source": [
    "for subjects in ham_subject_list:\n",
    "    ham_subject.append(subjects.split(\": \")[-1])\n",
    "\n",
    "for subjects in spam_subject_list:\n",
    "    spam_subject.append(subjects.split(\": \")[-1])"
   ]
  },
  {
   "cell_type": "markdown",
   "metadata": {},
   "source": [
    "### Use regex to match unwanted characters and retain only the messages"
   ]
  },
  {
   "cell_type": "code",
   "execution_count": 23,
   "metadata": {},
   "outputs": [],
   "source": [
    "for body in ham_list:\n",
    "    text = re.sub(r'Subject:.*|Subject :.*|subject:.*|subject :.*|from :.*|to :.*\\n.*\\n.*|cc :.*\\n.*|- - - -.*\\n.*\\n.*\\n.*\\n.*|\\\" [a-z].*|\\d{2} / \\d{2} / \\d{2}.*|\\| - - -.*|\\| \\| \\| \\|.*|\\| \\d{1,2} , \\d{1,3}.*|\\| [a-zA-Z]+ / d \\| [a-zA-Z].*', \"\", body)\n",
    "    text2 = text.replace('\\n', ' ')\n",
    "    ham_body.append(text2)\n",
    "\n",
    "for body in spam_list:\n",
    "    text = re.sub(r'Subject:.*|Subject :.*|subject:.*|subject :.*|from :.*|to :.*\\n.*\\n.*|cc :.*\\n.*|- - - -.*\\n.*\\n.*\\n.*\\n.*|\\\" [a-z].*|\\d{2} / \\d{2} / \\d{2}.*|\\| - - -.*|\\| \\| \\| \\|.*|\\| \\d{1,2} , \\d{1,3}.*|\\| [a-zA-Z]+ / d \\| [a-zA-Z].*', \"\", body)\n",
    "    text2 = text.replace('\\n', ' ')\n",
    "    spam_body.append(text2)"
   ]
  },
  {
   "cell_type": "markdown",
   "metadata": {},
   "source": [
    "### Extend the lists of ham to add the lists of spam"
   ]
  },
  {
   "cell_type": "code",
   "execution_count": 24,
   "metadata": {},
   "outputs": [],
   "source": [
    "ham_status.extend(spam_status)\n",
    "ham_subject.extend(spam_subject)\n",
    "ham_body.extend(spam_body)"
   ]
  },
  {
   "cell_type": "markdown",
   "metadata": {},
   "source": [
    "### Make a dictionary for the Status, Subject, and Body"
   ]
  },
  {
   "cell_type": "code",
   "execution_count": 25,
   "metadata": {},
   "outputs": [],
   "source": [
    "df_enron1 = {'Status': ham_status,\n",
    "             'Subject': ham_subject,\n",
    "             'Body': ham_body\n",
    "}"
   ]
  },
  {
   "cell_type": "markdown",
   "metadata": {},
   "source": [
    "### Finally, make a dataframe from the dictionary"
   ]
  },
  {
   "cell_type": "code",
   "execution_count": 26,
   "metadata": {},
   "outputs": [
    {
     "data": {
      "text/html": [
       "<div>\n",
       "<style scoped>\n",
       "    .dataframe tbody tr th:only-of-type {\n",
       "        vertical-align: middle;\n",
       "    }\n",
       "\n",
       "    .dataframe tbody tr th {\n",
       "        vertical-align: top;\n",
       "    }\n",
       "\n",
       "    .dataframe thead th {\n",
       "        text-align: right;\n",
       "    }\n",
       "</style>\n",
       "<table border=\"1\" class=\"dataframe\">\n",
       "  <thead>\n",
       "    <tr style=\"text-align: right;\">\n",
       "      <th></th>\n",
       "      <th>Status</th>\n",
       "      <th>Subject</th>\n",
       "      <th>Body</th>\n",
       "    </tr>\n",
       "  </thead>\n",
       "  <tbody>\n",
       "    <tr>\n",
       "      <th>0</th>\n",
       "      <td>ham</td>\n",
       "      <td>christmas tree farm pictures</td>\n",
       "      <td></td>\n",
       "    </tr>\n",
       "    <tr>\n",
       "      <th>1</th>\n",
       "      <td>ham</td>\n",
       "      <td>vastar resources , inc .</td>\n",
       "      <td>gary , production from the high island larger...</td>\n",
       "    </tr>\n",
       "    <tr>\n",
       "      <th>2</th>\n",
       "      <td>ham</td>\n",
       "      <td>calpine daily gas nomination</td>\n",
       "      <td>- calpine daily gas nomination 1 . doc</td>\n",
       "    </tr>\n",
       "    <tr>\n",
       "      <th>3</th>\n",
       "      <td>ham</td>\n",
       "      <td>issue</td>\n",
       "      <td>fyi - see note below - already done . stella ...</td>\n",
       "    </tr>\n",
       "    <tr>\n",
       "      <th>4</th>\n",
       "      <td>ham</td>\n",
       "      <td>meter 7268 nov allocation</td>\n",
       "      <td>fyi .   lauri . . i have put this on strangas...</td>\n",
       "    </tr>\n",
       "    <tr>\n",
       "      <th>...</th>\n",
       "      <td>...</td>\n",
       "      <td>...</td>\n",
       "      <td>...</td>\n",
       "    </tr>\n",
       "    <tr>\n",
       "      <th>5166</th>\n",
       "      <td>spam</td>\n",
       "      <td>our pro - forma invoice attached</td>\n",
       "      <td>divide cover most gave . trip , until energy ...</td>\n",
       "    </tr>\n",
       "    <tr>\n",
       "      <th>5167</th>\n",
       "      <td>spam</td>\n",
       "      <td>str _ rndlen ( 2 - 4 ) } { extra _ time _ 4 } ...</td>\n",
       "      <td>{ bodyhtml }</td>\n",
       "    </tr>\n",
       "    <tr>\n",
       "      <th>5168</th>\n",
       "      <td>spam</td>\n",
       "      <td>check me out !</td>\n",
       "      <td>61 bb hey derm bbbbb check out paris , and ma...</td>\n",
       "    </tr>\n",
       "    <tr>\n",
       "      <th>5169</th>\n",
       "      <td>spam</td>\n",
       "      <td>hot jobs</td>\n",
       "      <td>global marketing specialties po box 300 east ...</td>\n",
       "    </tr>\n",
       "    <tr>\n",
       "      <th>5170</th>\n",
       "      <td>spam</td>\n",
       "      <td>save up to 89 % on ink + no shipping cost</td>\n",
       "      <td>save up to 89 % on inkjet , laser copier supp...</td>\n",
       "    </tr>\n",
       "  </tbody>\n",
       "</table>\n",
       "<p>5171 rows × 3 columns</p>\n",
       "</div>"
      ],
      "text/plain": [
       "     Status                                            Subject  \\\n",
       "0       ham                       christmas tree farm pictures   \n",
       "1       ham                           vastar resources , inc .   \n",
       "2       ham                       calpine daily gas nomination   \n",
       "3       ham                                              issue   \n",
       "4       ham                          meter 7268 nov allocation   \n",
       "...     ...                                                ...   \n",
       "5166   spam                   our pro - forma invoice attached   \n",
       "5167   spam  str _ rndlen ( 2 - 4 ) } { extra _ time _ 4 } ...   \n",
       "5168   spam                                     check me out !   \n",
       "5169   spam                                           hot jobs   \n",
       "5170   spam          save up to 89 % on ink + no shipping cost   \n",
       "\n",
       "                                                   Body  \n",
       "0                                                        \n",
       "1      gary , production from the high island larger...  \n",
       "2                - calpine daily gas nomination 1 . doc  \n",
       "3      fyi - see note below - already done . stella ...  \n",
       "4      fyi .   lauri . . i have put this on strangas...  \n",
       "...                                                 ...  \n",
       "5166   divide cover most gave . trip , until energy ...  \n",
       "5167                                       { bodyhtml }  \n",
       "5168   61 bb hey derm bbbbb check out paris , and ma...  \n",
       "5169   global marketing specialties po box 300 east ...  \n",
       "5170   save up to 89 % on inkjet , laser copier supp...  \n",
       "\n",
       "[5171 rows x 3 columns]"
      ]
     },
     "execution_count": 26,
     "metadata": {},
     "output_type": "execute_result"
    }
   ],
   "source": [
    "df_enron1 = pd.DataFrame(df_enron1)\n",
    "df_enron1"
   ]
  },
  {
   "cell_type": "markdown",
   "metadata": {},
   "source": [
    "-----\n",
    "\n",
    "\n",
    "## 1.) How many Spam Emails are there? \n",
    ">Enron1\n",
    "\n",
    "----"
   ]
  },
  {
   "cell_type": "code",
   "execution_count": 27,
   "metadata": {},
   "outputs": [
    {
     "name": "stdout",
     "output_type": "stream",
     "text": [
      "Spam Emails in Enron1: 1499\n"
     ]
    }
   ],
   "source": [
    "enron_1_spam = df_enron1.Status.value_counts()['spam']\n",
    "print(f'Spam Emails in Enron1: {enron_1_spam}')"
   ]
  },
  {
   "cell_type": "markdown",
   "metadata": {},
   "source": [
    "-----\n",
    "\n",
    "\n",
    "## 2.) Structure the email data from the 2 directories into 1 dataframe with columns: Status, Subject, Body \n",
    ">Enron1\n",
    "\n",
    "----"
   ]
  },
  {
   "cell_type": "markdown",
   "metadata": {},
   "source": [
    " <span style=\"font-family: Arial; font-size:1.4em;color:blue;\"> Delete the rows with empty values of Body </p>"
   ]
  },
  {
   "cell_type": "code",
   "execution_count": 28,
   "metadata": {},
   "outputs": [
    {
     "data": {
      "text/html": [
       "<div>\n",
       "<style scoped>\n",
       "    .dataframe tbody tr th:only-of-type {\n",
       "        vertical-align: middle;\n",
       "    }\n",
       "\n",
       "    .dataframe tbody tr th {\n",
       "        vertical-align: top;\n",
       "    }\n",
       "\n",
       "    .dataframe thead th {\n",
       "        text-align: right;\n",
       "    }\n",
       "</style>\n",
       "<table border=\"1\" class=\"dataframe\">\n",
       "  <thead>\n",
       "    <tr style=\"text-align: right;\">\n",
       "      <th></th>\n",
       "      <th>Status</th>\n",
       "      <th>Subject</th>\n",
       "      <th>Body</th>\n",
       "    </tr>\n",
       "  </thead>\n",
       "  <tbody>\n",
       "    <tr>\n",
       "      <th>1</th>\n",
       "      <td>ham</td>\n",
       "      <td>vastar resources , inc .</td>\n",
       "      <td>gary , production from the high island larger...</td>\n",
       "    </tr>\n",
       "    <tr>\n",
       "      <th>2</th>\n",
       "      <td>ham</td>\n",
       "      <td>calpine daily gas nomination</td>\n",
       "      <td>- calpine daily gas nomination 1 . doc</td>\n",
       "    </tr>\n",
       "    <tr>\n",
       "      <th>3</th>\n",
       "      <td>ham</td>\n",
       "      <td>issue</td>\n",
       "      <td>fyi - see note below - already done . stella ...</td>\n",
       "    </tr>\n",
       "    <tr>\n",
       "      <th>4</th>\n",
       "      <td>ham</td>\n",
       "      <td>meter 7268 nov allocation</td>\n",
       "      <td>fyi .   lauri . . i have put this on strangas...</td>\n",
       "    </tr>\n",
       "    <tr>\n",
       "      <th>5</th>\n",
       "      <td>ham</td>\n",
       "      <td>mcmullen gas for 11 / 99</td>\n",
       "      <td>jackie , since the inlet to 3 river plant is ...</td>\n",
       "    </tr>\n",
       "    <tr>\n",
       "      <th>...</th>\n",
       "      <td>...</td>\n",
       "      <td>...</td>\n",
       "      <td>...</td>\n",
       "    </tr>\n",
       "    <tr>\n",
       "      <th>5166</th>\n",
       "      <td>spam</td>\n",
       "      <td>our pro - forma invoice attached</td>\n",
       "      <td>divide cover most gave . trip , until energy ...</td>\n",
       "    </tr>\n",
       "    <tr>\n",
       "      <th>5167</th>\n",
       "      <td>spam</td>\n",
       "      <td>str _ rndlen ( 2 - 4 ) } { extra _ time _ 4 } ...</td>\n",
       "      <td>{ bodyhtml }</td>\n",
       "    </tr>\n",
       "    <tr>\n",
       "      <th>5168</th>\n",
       "      <td>spam</td>\n",
       "      <td>check me out !</td>\n",
       "      <td>61 bb hey derm bbbbb check out paris , and ma...</td>\n",
       "    </tr>\n",
       "    <tr>\n",
       "      <th>5169</th>\n",
       "      <td>spam</td>\n",
       "      <td>hot jobs</td>\n",
       "      <td>global marketing specialties po box 300 east ...</td>\n",
       "    </tr>\n",
       "    <tr>\n",
       "      <th>5170</th>\n",
       "      <td>spam</td>\n",
       "      <td>save up to 89 % on ink + no shipping cost</td>\n",
       "      <td>save up to 89 % on inkjet , laser copier supp...</td>\n",
       "    </tr>\n",
       "  </tbody>\n",
       "</table>\n",
       "<p>5071 rows × 3 columns</p>\n",
       "</div>"
      ],
      "text/plain": [
       "     Status                                            Subject  \\\n",
       "1       ham                           vastar resources , inc .   \n",
       "2       ham                       calpine daily gas nomination   \n",
       "3       ham                                              issue   \n",
       "4       ham                          meter 7268 nov allocation   \n",
       "5       ham                           mcmullen gas for 11 / 99   \n",
       "...     ...                                                ...   \n",
       "5166   spam                   our pro - forma invoice attached   \n",
       "5167   spam  str _ rndlen ( 2 - 4 ) } { extra _ time _ 4 } ...   \n",
       "5168   spam                                     check me out !   \n",
       "5169   spam                                           hot jobs   \n",
       "5170   spam          save up to 89 % on ink + no shipping cost   \n",
       "\n",
       "                                                   Body  \n",
       "1      gary , production from the high island larger...  \n",
       "2                - calpine daily gas nomination 1 . doc  \n",
       "3      fyi - see note below - already done . stella ...  \n",
       "4      fyi .   lauri . . i have put this on strangas...  \n",
       "5      jackie , since the inlet to 3 river plant is ...  \n",
       "...                                                 ...  \n",
       "5166   divide cover most gave . trip , until energy ...  \n",
       "5167                                       { bodyhtml }  \n",
       "5168   61 bb hey derm bbbbb check out paris , and ma...  \n",
       "5169   global marketing specialties po box 300 east ...  \n",
       "5170   save up to 89 % on inkjet , laser copier supp...  \n",
       "\n",
       "[5071 rows x 3 columns]"
      ]
     },
     "execution_count": 28,
     "metadata": {},
     "output_type": "execute_result"
    }
   ],
   "source": [
    "df_enron1 = df_enron1[df_enron1['Body'] != ' ']\n",
    "df_enron1"
   ]
  },
  {
   "cell_type": "code",
   "execution_count": 29,
   "metadata": {},
   "outputs": [
    {
     "name": "stdout",
     "output_type": "stream",
     "text": [
      "ham     3660\n",
      "spam    1411\n",
      "Name: Status, dtype: int64\n"
     ]
    },
    {
     "data": {
      "image/png": "[encoded data removed]",
      "text/plain": [
       "<Figure size 720x360 with 1 Axes>"
      ]
     },
     "metadata": {},
     "output_type": "display_data"
    }
   ],
   "source": [
    "sns.set(rc={'figure.figsize':(10,5)})\n",
    "ax=sns.countplot(x='Status', data=df_enron1)\n",
    "ax.set_xticklabels(ax.get_xticklabels())\n",
    "\n",
    "print(df_enron1.Status.value_counts().head())"
   ]
  },
  {
   "cell_type": "markdown",
   "metadata": {},
   "source": [
    "-----\n",
    "\n",
    "\n",
    "## 3.) Build a Naive Bayes classifier to classify whether emails are spam or not. \n",
    ">Enron1\n",
    "\n",
    "----"
   ]
  },
  {
   "cell_type": "markdown",
   "metadata": {},
   "source": [
    " <span style=\"font-family: Arial; font-size:1.4em;color:blue;\"> Using only the Body </p>"
   ]
  },
  {
   "cell_type": "code",
   "execution_count": 30,
   "metadata": {},
   "outputs": [],
   "source": [
    "from sklearn.model_selection import train_test_split, cross_val_score\n",
    "from sklearn.feature_extraction.text import TfidfVectorizer\n",
    "from sklearn.naive_bayes import GaussianNB\n",
    "\n",
    "X_train, X_test, y_train, y_test = train_test_split(df_enron1['Body'], df_enron1['Status'], test_size=0.3, random_state=42)"
   ]
  },
  {
   "cell_type": "code",
   "execution_count": 31,
   "metadata": {},
   "outputs": [],
   "source": [
    "# Vectorizer\n",
    "tf = TfidfVectorizer(stop_words='english')"
   ]
  },
  {
   "cell_type": "code",
   "execution_count": 32,
   "metadata": {},
   "outputs": [],
   "source": [
    "tf_X_train = tf.fit_transform(X_train)"
   ]
  },
  {
   "cell_type": "code",
   "execution_count": 33,
   "metadata": {},
   "outputs": [
    {
     "data": {
      "text/plain": [
       "GaussianNB()"
      ]
     },
     "execution_count": 33,
     "metadata": {},
     "output_type": "execute_result"
    }
   ],
   "source": [
    "G_classifier = GaussianNB()\n",
    "G_classifier.fit(tf_X_train.toarray(), y_train)"
   ]
  },
  {
   "cell_type": "markdown",
   "metadata": {},
   "source": [
    "-----\n",
    "\n",
    "\n",
    "## 4.) What is the longest ham email? \n",
    ">Enron1\n",
    "\n",
    "----"
   ]
  },
  {
   "cell_type": "code",
   "execution_count": 34,
   "metadata": {
    "collapsed": true,
    "jupyter": {
     "outputs_hidden": true
    },
    "tags": []
   },
   "outputs": [
    {
     "name": "stdout",
     "output_type": "stream",
     "text": [
      "     Status                       Subject   Body\n",
      "3488    ham  \" red , white and blue out \"  31404\n",
      "================================================================================================================================================================\n"
     ]
    },
    {
     "data": {
      "text/plain": [
       "\"  ' pjadell @ yahoo . com ' ; ' bob @ cybersitebuilders . com ' ; ' worml 998 @ hotmail . com ' ; ' janie . beth @ prodigy . net ' ; ' gakin @ mccarthy . com ' ; ' vja @ flash . net ' ; ' locke . alder @ gte . net ' ; ' calexaol @ 7 - 11 . com ' ; ' erika @ publish . no . irs . gov ' ; ' ali @ buz . net ' ; ' brada @ ticnet . com ' ; ' svallen @ aol . com ' ; ' jand 30 @ aol . com ' ; ' allan @ stratsolgroup . com ' ; ' chuck _ anderson @ oxy . com ' ; ' mdqsga 96 @ aol . com ' ; ' brian _ anhalt @ bigfoot . com ' ; ' aranda @ nbstx . com ' ; ' aggiemom @ archer . cx ' ; ' jard @ nortelnetworks . com ' ; ' abarch @ airmail . net ' ; ' narguello @ yahoo . com ' ; ' jarmstrong @ tqtx . com ' ; ' mikie @ aggie . zzn . com ' ; ' ag 85 @ home . com ' ; ' kmarnold @ home . com ' ; ' hollya @ cyber - designs . com ' ; ' hughashburn @ netscape . net ' ; ' bob @ cybersitebuilders . com ' ; ' olinatkinson @ dellnet . com ' ; ' papaayres @ aol . com ' ; ' abackof 68 @ aol . com ' ; ' badgett @ ti . com ' ; ' kbailie @ nortel . com ' ; ' wjbaird @ mapsco . com ' ; ' jbaker @ ecomtrading . com ' ; ' tim . banigan @ nortelnetworks . com ' ; ' atbarlow @ mail . smu . edu ' ; ' arnonvic @ aol . com ' ; ' john _ laurabarr @ email . msn . com ' ; ' jillmbarrow @ hotmail . com ' ; ' b - barton @ ti . com ' ; ' tbates @ why . net ' ; ' normabautista @ worldnet . att . net ' ; ' baweja @ aol . com ' ; ' gbaxley @ nt . com ' ; ' dabayers @ juno . com ' ; ' jbeard @ halff . com ' ; ' bearden . e @ grainger . com ' ; ' tbeaslel @ tuelectric . com ' ; ' kayebeatty @ aol . com ' ; ' triciabeaudreau @ hotmail . com ' ; ' abeckley @ executrain - dal . com ' ; ' scott . r . bellamy @ marshmc . com ' ; ' chiaggie @ aol . com ' ; ' dbenefield @ merit . com ' ; ' bryan @ dalmac . com ' ; ' bennie @ flash . net ' ; ' bergerd @ earthlink . net ' ; ' ted . e . bernard @ ac . com ' ; ' sberry @ nortel . com ' ; ' jody . bingham @ ps . net ' ; ' bobird @ att . com ' ; ' keithbird @ yahoo . com ' ; ' mbish @ nortel . com ' ; ' dawn . bitar @ ps . net ' ; ' bittners @ swbell . net ' ; ' akbjerke @ postoffice . swbell . net ' ; ' michael . blahitka @ intervoice - brite . com ' ; ' blairsl @ juno . com ' ; ' bnlblake @ flash . net ' ; ' gbock 2 @ excite . com ' ; ' bobb 761 @ worldnet . att . net ' ; ' jbond @ genuity . com ' ; ' bonsai 2 @ flash . net ' ; ' bonerhk @ earthlink . net ' ; ' warrenlb @ aol . com ' ; ' dbb @ sa - inc . com ' ; ' lynnbottlinger @ hotmail . com ' ; ' dkboughton @ home . com ' ; ' mbouma @ pgbpike . com ' ; ' bowden _ rap @ msn . com ' ; ' jfbowen @ swbell . net ' ; ' cbowersl @ airmail . net ' ; ' scott . bowers @ eds . com ' ; ' mbag 92 @ aol . com ' ; ' lorna @ . com ' ; ' sheryl . bradley @ eds . com ' ; ' andybradshaw @ home . com ' ; ' bramlett @ home . com ' ; ' mwbranch @ aol . com ' ; ' tbrandish @ bigfoot . com ' ; ' kbrannon @ flash . net ' ; ' bebe - tx @ mindspring . com ' ; ' devere @ flash . net ' ; ' lgbrennan @ earthlink . net ' ; ' nicole @ dalmac . com ' ; ' tmbreeze @ gte . net ' ; ' gwb 2 @ flash . net ' ; ' john @ smithsummers . com ' ; ' bmbrinkl @ aol . com ' ; ' nateb 7899 @ aol . com ' ; ' melissabrooks @ mindspring . com ' ; ' rhbrooks @ vartec . net ' ; ' bbrooks @ sbair . com ' ; ' dbrosey @ airmail . net ' ; ' bbrown @ micron . com ' ; ' klbo 2 @ cs . com ' ; ' erich . browne @ central . sun . com ' ; ' deniseb @ ticnet . com ' ; ' jbrozovi @ usa . alcatel . com ' ; ' bruckm @ airmail . net ' ; ' bbruton @ scan - direct . com ' ; ' david . a . bryant @ bigfoot . com ' ; ' ccb @ nortelnetworks . com ' ; ' jnkbull @ netzero . com ' ; ' burchta 330 @ aol . com ' ; ' drburdenjr @ aol . com ' ; ' jburnett @ foxsports . net ' ; ' haleburr @ aol . com ' ; ' burrow @ nortel . ca ' ; ' rbl 419 @ aol . com ' ; ' mikebusch @ mail . com ' ; ' cbyrum @ goodmanfamily . com ' ; ' calkfamf @ home . com ' ; ' kcameron @ yahoo - inc . com ' ; ' jsmiley @ pisd . edu ' ; ' jajasoup @ aol . com ' ; ' laurie . canning @ ericsson . com ' ; ' jjcantwell @ worldnet . att . net ' ; ' djcarr @ texas . net ' ; ' richardjcarroll @ yahoo . com ' ; ' drviv @ yahoo . com ' ; ' rob @ startech . org ' ; ' tcarson 98 @ yahoo . com ' ; ' brandacarter @ microlabs . com ' ; ' lee _ carter @ seha . com ' ; ' dcarter 768 @ aol . com ' ; carter , rhonda ; ' todd . carter @ fnc . fujitsu . com ' ; ' cwc 68 @ swbell . net ' ; ' jcash @ firstam . com ' ; ' tcastellanos @ usa . net ' ; ' wcaudi @ concentric . net ' ; ' cavanaug @ gustafson . com ' ; ' cschamberlin @ mindspring . com ' ; ' ebeth @ airmail . net ' ; ' cookie _ chambers @ pagenet . com ' ; ' jchamp 5626 @ aol . com ' ; ' sherriel @ flash . net ' ; ' smchamp @ dhc . net ' ; ' svchandl @ garlandisd . net ' ; ' fectac @ aol . com ' ; ' chris . chastain @ ey . com ' ; ' ccchatham @ aol . com ' ; ' kevin . chilcoat @ fritolay . com ' ; ' mattc @ dallas . net ' ; ' jchoc @ msn . com ' ; ' shannon @ thechristianfamily . com ' ; ' christian @ medicine . tamu . edu ' ; ' jcipolla @ hotmail . com ' ; ' dclark @ dhc . net ' ; ' sclark @ dhc . net ' ; ' mclary @ elux . com ' ; ' brad @ bigl 2 sports . com ' ; ' clemmons @ home . com ' ; ' beth 2047 @ aol . com ' ; ' acoble @ cisco . com ' ; ' jjcoburn @ aol . com ' ; ' dbclaw @ hotmail . com ' ; ' matt _ cole @ yahoo . com ' ; ' cac 75442 @ aol . com ' ; ' jcoll 75442 @ aol . com ' ; ' jorubycol @ aol . com ' ; ' collins 587 @ hotmail . com ' ; ' condoaggie @ aol . com ' ; ' swcbox @ aol . com ' ; ' crcandmac @ aol . com ' ; ' crcook @ gte . net ' ; ' martha _ cook @ publicis - usa . com ' ; ' mustrdsd @ flash . net ' ; ' acooper 401 @ aol . com ' ; ' jcooper 95 @ yahoo . com ' ; ' karen . m . cope @ dal . frb . org ' ; ' kellyandamy @ sprintmail . com ' ; ' vc 4445 @ earthlink . com ' ; ' brendyc @ aol . com ' ; ' kdcornell @ compuserve . com ' ; ' sc 93 @ hotmail . com ' ; ' bcorrell @ aol . com ' ; ' mcortino @ swbell . net ' ; ' cowan 95 @ aol . com ' ; ' coxl 997 @ yahoo . com ' ; ' monarch @ usa . net ' ; ' jason _ cox @ hotmail . com ' ; ' lacoyne @ flashcom . net ' ; ' garycl 2345 @ aol . com ' ; ' julesag 95 @ flash . net ' ; ' crawfordsl @ cdm . com ' ; ' phantom 495 @ aol . com ' ; ' ccriswel @ pisd . edu ' ; ' sec @ inetinc . com ' ; ' holly . a . cromack @ ac . com ' ; ' kcudlipp @ arimail . net ' ; ' mrculp @ home . com ' ; ' cathy . cupps @ eds . com ' ; ' curranc @ diamtech . com ' ; ' andyc @ gwmail . plano . gov ' ; ' lindsay _ daigle @ yahoo . com ' ; ' ag 93 whoop @ hotmail . com ' ; ' dtddtd 444 @ aol . com ' ; ' edaniel @ flash . net ' ; ' tamidarby @ home . com ' ; ' cagladan @ usa . net ' ; ' smitadas @ ix . netcom . com ' ; ' cgwd 94 @ aol . com ' ; ' kay . daugherty 3 @ gte . net ' ; ' bob _ daughrity @ cabp . com ' ; ' aggiel 984 @ juno . com ' ; ' jdd . rad @ gte . net ' ; ' riverl @ flash . net ' ; ' rogercdavis @ home . com ' ; ' stefaniedavis @ yahoo . com ' ; ' bamadavis @ aol . com ' ; ' dawsonsix @ aol . com ' ; ' heather @ icsi . net ' ; ' stephanie _ s _ day @ compusa . com ' ; ' cdelarios @ home . com ' ; ' cdeangulo @ msn . com ' ; ' ldeardurff @ mckinneyisd . net ' ; ' mdeardurff 62 @ msn . com ' ; ' victor . de . hoyos @ fritolay . com ' ; ' mrichmnd @ ix . netcom . com ' ; ' kelly 95 ag @ aol . com ' ; ' ivan 53 @ aol . com ' ; ' bdempsey @ dnaent . com ' ; ' macdeth @ swbell . net ' ; ' allandl @ airmail . net ' ; ' deweesw @ ttc . com ' ; ' tgd @ ffhm . com ' ; ' to _ ronda @ airmail . net ' ; ' jmditrapani @ nextlink . com ' ; ' ledlugos @ aol . com ' ; ' dlugosch @ home . com ' ; ' melvausa @ netscape . net ' ; ' aol 93775 @ dlemail . itg . ti . com ' ; ' chas 41 @ airmail . net ' ; ' mdorsett @ uni - bell . org ' ; ' m - mdouglas @ worldnet . att . net ' ; ' dovers @ sprintmail . com ' ; ' lorip @ rsn . hp . com ' ; ' michelle . drawert @ gte . net ' ; ' tisdalel @ flash . net ' ; ' sdrotma @ pisd . edu ' ; ' ndsouza @ unt . edu ' ; ' gary . dubois @ pizzahut . com ' ; ' madudko @ aol . com ' ; ' fduewall @ wmcobb . com ' ; ' jduffy @ cisco . com ' ; ' dduffy @ mis - world . com ' ; ' blakey @ flash . net ' ; ' greg _ dupree @ bigfoot . com ' ; ' michael . duran @ ps . net ' ; ' g - durham @ ti . coin ' ; ' crma @ flash . net ' ; ' travisdye @ home . com ' ; ' earnshaw @ flash . net ' ; ' mechols @ fastlane . net ' ; ' jason . eggl @ indsys . ge . com ' ; ' reicher @ tell . net ' ; ' eiland @ ti . com ' ; ' tome @ gwmail . plano . gov ' ; ' s _ elliott @ hotmail . com ' ; ' lellis @ ch 2 m . com ' ; ' tedcarles @ earthlink . net ' ; ' stephen . elmendorf @ teradyne . com ' ; ' bembrey @ ccgmail . com ' ; ' rempey @ waymark . net ' ; ' mengels @ airmail . net ' ; ' mentrop @ yahoo . com ' ; ' jepps @ intecom . com ' ; ' donerb @ home . com ' ; ' lucy _ vsi @ ix . netcom . com ' ; ' mike @ estesfinancial . com ' ; ' setch @ onebox . com ' ; ' kathyeudy @ yahoo . com ' ; ' pevers @ home . com ' ; ' kewing @ airmail . net ' ; ' deon . b . fair @ ac . com ' ; ' lisalynn 98 @ hotmail . com ' ; ' drjuiceplus @ home . com ' ; ' sfaseler @ lg . com ' ; ' rfeldman @ ascend . com ' ; ' j . felkner @ worldnet . att . net ' ; ' jferguso @ mony . com ' ; ' roger . ferguson @ fluor . com ' ; ' jtferrarol @ home . com ' ; ' tfiedler @ flash . net ' ; ' ififfick @ hharchitects . com ' ; ' davidfinley 82 @ yahoo . com ' ; ' duke . fisher @ wcom . com ' ; ' j _ fishero @ yahoo . com ' ; ' dfitzgerald @ mesquiteisd . org ' ; ' lpfitz @ wt . net ' ; ' 102372 . 2423 @ compuserve . com ' ; ' fleck @ concentric . net ' ; ' jannet @ dallas . net ' ; ' fleitman @ msn . com ' ; ' samf @ dallas . net ' ; ' rjflorio @ worldnet . att . net ' ; ' gulfview @ gateway . net ' ; ' d - forbes @ rtis . ray . com ' ; ' bgfort @ earthlink . net ' ; ' clfoster @ airmail . net ' ; ' r . foster @ prelude . com ' ; ' gfoyt @ hdrinc . com ' ; ' sfrancis @ everdream . com ' ; ' halgodal @ flash . net ' ; ' hedgehogracing @ msn . com ' ; ' steve . french @ aggies . org ' ; ' jfreytag @ airmail . net ' ; ' blakef @ msn . com ' ; ' michael . froman @ octel . com ' ; ' afruhling @ metasolv . com ' ; ' fuentes @ noval . net ' ; ' hiroko @ rsn . hp . com ' ; ' fulkfamily @ home . com ' ; ' ron . fuqua @ usa . alcatel . com ' ; ' debra . galarde @ eds . com ' ; ' txhoss @ ix . netcom . com ' ; ' jared . galloway @ fnc . fujitsu . com ' ; ' aubree . garrett @ fnc . fujitsu . com ' ; ' toniandmikeg @ home . com ' ; ' cwgary @ ont . com ' ; ' 2 ags @ flash . net ' ; ' sgaster @ kpmg . com ' ; ' zgoner @ airmail . net ' ; ' dgedeon @ vectrix . com ' ; ' tara . gedeon @ brannforbes . com ' ; ' jcjones @ rsn . hp . com ' ; ' tageo @ mindspring . com ' ; ' tgeorge @ flash . net ' ; ' teresagill @ email . com ' ; ' rglover @ halff . com ' ; ' dfglynnl @ msn . com ' ; ' mgolaboff @ eqrworld . com ' ; ' judie _ good @ yahoo . com ' ; ' gorski @ aggies . com ' ; ' algough @ yahoo . com ' ; ' neilgould @ usa . net ' ; ' sallsgraham @ hotmail . com ' ; ' pgranier @ portal . com ' ; ' begrant @ flash . net ' ; ' rgrantham @ worldnet . att . net ' ; ' tgravett @ wans . net ' ; ' chris _ greer @ hp . com ' ; ' hgreer @ alldata . net ' ; ' chrisg @ micrografx . com ' ; ' donindfw @ ix . netcom . com ' ; ' dan @ productcentre . com ' ; ' jgroce @ lasercomm - inc . com ' ; ' juggernaut @ connect . net ' ; ' katie _ gruebel @ hotmail . com ' ; ' amynurse @ hotmail . com ' ; ' bag 2 @ airmail . net ' ; ' kenneth _ guest @ hp . com ' ; ' jgump @ mail . arco . com ' ; ' wylie . gunter @ eds . com ' ; ' tim . gutschlag @ fnc . fujitsu . com ' ; ' guzmans @ home . com ' ; ' cherihaby @ home . com ' ; ' julie _ halloran @ yahoo . com ' ; ' chaltom @ conedrive . textron . com ' ; ' hamelb 21 @ ont . com ' ; ' talana 99 @ hotmail . com ' ; ' greg . hanks @ hanksbrokerage . com ' ; ' rharbin @ aris . com ' ; ' carrie . l . hardy @ fritolay . com ' ; ' scott _ harkins @ msn . com ' ; ' jharper @ flash . net ' ; ' jharrington @ sagetelecom . net ' ; ' roynteri @ mail . com ' ; ' steveharrod @ msn . com ' ; ' hartfield @ ti . com ' ; ' terry . k . hartzog @ us . arthurandersen . com ' ; ' kharvey @ pcrrent . com ' ; ' marji . j . harvey @ mail . sprint . com ' ; ' b - haskettl @ ti . com ' ; ' kelly _ hayes @ harwoodmarketing . com ' ; ' mhaye @ amkor . com ' ; ' alanh @ alliancearch . com ' ; ' mheath @ nextlink . com ' ; ' mheffner @ home . com ' ; ' jets @ ti . com ' ; ' glenn @ hc - cpa . com ' ; ' toddmel @ texoma . net ' ; ' kimberly . henderson @ ey . com ' ; ' dah 85 @ mindspring . com ' ; ' shenley @ flash . net ' ; ' rahennessy @ earthlink . com ' ; ' jherblin @ onramp . net ' ; ' carynlynn @ msn . com ' ; ' nascar @ mikeh . net ' ; ' travis @ herringangus . com ' ; ' anandted @ msn . com ' ; ' dherron @ pisd . edu ' ; ' mitchherzog @ yahoo . com ' ; ' sc _ hester @ hotmail . com ' ; ' jheye @ psp . com ' ; ' mhickox @ fiskrob . com ' ; ' lori @ efficient . com ' ; ' phinojos @ micro . honeywell . com ' ; ' d . hirt @ dialogic . com ' ; ' danetami @ airmail . net ' ; ' randyhobert @ msn . com ' ; ' blakekimhodge @ yahoo . com ' ; ' will @ . com ' ; ' choldrid @ airmail . net ' ; ' jnh @ ti . com ' ; ' tholman @ gte . net ' ; ' sholmeso 0 @ msn . com ' ; ' jholstea @ jpi . com ' ; ' sholton @ ticnet . com ' ; ' holyoak @ flash . net ' ; ' phorton @ usa . alcatel . com ' ; ' scott @ horton . net ' ; ' thowes @ mail . arco . com ' ; ' chad @ tice . com ' ; ' hugghins @ gte . net ' ; ' jhummel @ memc . com ' ; ' markhunt @ bigfoot . com ' ; ' thehurd @ hex . net ' ; ' b - hutcheson @ ti . com ' ; ' j . r . iacoponelli @ mciworld . com ' ; ' billirish @ hotmail . com ' ; ' czjkjj @ msn . com ' ; ' pat . jackson @ fnc . fujitsu . com ' ; ' sjackson @ opsos . net ' ; ' ararat @ flash . net ' ; ' stevejames @ home . com ' ; ' chellejanow @ hotmail . com ' ; ' asmith _ scuba @ yahoo . com ' ; ' bjehu @ yahoo . com ' ; ' ashlea _ jenkins @ hotmail . com ' ; ' cjenson @ flash . net ' ; ' mljideas @ home . com ' ; ' slj @ waymark . net ' ; ' rjolly _ 1 @ yahoo . com ' ; ' bsjones 50 @ hotmail . com ' ; ' craig - charlottejones @ worldnet . att . net ' ; ' danny @ lanyx . com ' ; ' mattjones @ ccgmail . com ' ; ' wjones @ clearsail . net ' ; ' sjordan 3 @ compuserve . com ' ; ' ryanjust @ hotmail . com ' ; ' chip @ cscfinancial . com ' ; ' lkcbsl @ home . com ' ; ' makall 5 @ flash . net ' ; ' twk @ msg . ti . com ' ; ' mkaplan @ augustmail . com ' ; ' ckarlik @ swbell . net ' ; ' shafia 30 @ hotmail . com ' ; ' mlkawas @ hotmail . com ' ; ' chipk @ nortel . com ' ; ' markkelley _ wurzburg @ yahoo . com ' ; ' mkelly 2575 @ juno . com ' ; ' danken 8765 @ home . com ' ; ' wolfcamp @ hotmail . com ' ; ' mjkereluk @ msn . com ' ; ' ckerley @ apclink . com ' ; ' lkerr @ evl . net ' ; ' r . kessel @ ssss . com ' ; ' dkessler @ waymark . net ' ; ' mkessner @ hotmail . com ' ; ' troykey @ peoplepc . com ' ; ' akilpatrick @ kurion . com ' ; ' kings 2 @ flash . net ' ; ' kingsr @ home . com ' ; ' jkingston @ ti . com ' ; ' skirchner @ worldnet . att . net ' ; ' chuck @ digitalpilot . com ' ; ' michael . kleppe @ ericsson . com ' ; ' jklouda @ flash . net ' ; ' dennis _ kniery @ hp . com ' ; ' sschulz @ mail . smu . edu ' ; ' lakohler @ raytheon . com ' ; ' james . kornegay @ eds . com ' ; ' knrkrause @ aol . com ' ; ' kckuddes @ altavista . com ' ; ' sakula @ flash . net ' ; ' skutchin @ leaelliott . com ' ; ' bladdusaw @ ti . com ' ; ' 103745 . 342 @ compuserve . com ' ; ' mellake @ yahoo . com ' ; ' paul . lake @ ps . net ' ; ' slakie @ texas . net ' ; ' jplane @ gte . net ' ; ' mlangloys @ aol . com ' ; ' rlanicek @ home . com ' ; ' barrett . lankford @ painewebber . com ' ; ' mlara @ pisd . edu ' ; ' gsl @ msn . com ' ; ' mikepl @ bnr . ca ' ; ' klavergne @ earthling . net ' ; ' winner @ sportsstandings . com ' ; ' mlecrone @ aol . com ' ; ' banglee @ ti . com ' ; ' coyote 97 @ swbell . net ' ; ' robertlee @ poboxes . com ' ; ' j . lemmons @ worldnet . att . net ' ; ' lesliel @ airmail . net ' ; ' lerich @ flash . net ' ; ' rlessmann @ home . com ' ; ' elethe @ gte . net ' ; ' mikelew @ nortelnetworks . com ' ; ' lewisr 691 @ home . com ' ; ' laliefer @ aol . com ' ; ' hkl 5320 @ dcccd . edu ' ; ' gmlz @ msg . ti . com ' ; ' blightsey @ systemdesk . com ' ; ' 74464 . 2612 @ compuserve . com ' ; ' jlind 2402 @ aol . com ' ; ' dlindstrom @ icidallas . com ' ; ' glinebaugh @ prodigy . net ' ; ' eflinhoff @ aol . com ' ; ' the . lisewskys @ prodigy . net ' ; ' mlish @ kennedywilson . com ' ; ' heidident @ aol . com ' ; ' katie 96 ag @ yahoo . com ' ; ' john _ london @ acs - inc . com ' ; ' ro 219 @ aol . com ' ; ' balott @ aol . com ' ; ' wadel @ swbell . net ' ; ' tglovell @ onramp . net ' ; ' tlovell @ ticnet . com ' ; ' rmlowry 4 @ yahoo . com ' ; ' mploya @ ti . com ' ; ' aggie 97 @ hotmail . com ' ; ' jlugo @ rhaaia . com ' ; ' klukshin @ kpmg . com ' ; ' dluna @ raltron . com ' ; ' ped @ nortel . ca ' ; ' clyons @ metasolv . com ' ; ' paulandkarin @ msn . com ' ; ' rlyttons @ aol . com ' ; ' emaas 94 @ yahoo . com ' ; ' spam . bait @ worldnet . att . net ' ; ' neardal @ airmail . net ' ; ' mmachesney @ aol . com ' ; ' netaces @ airmail . net ' ; ' richard . maddox @ mci . com ' ; ' betty . magee @ homesbybetty . com ' ; ' jmagrude @ jpi . com ' ; ' pxm @ msg . ti . com ' ; ' tracemajor @ hotmail . com ' ; ' mmalakoff @ aol . com ' ; ' judy . j . manning @ fritolay . com ' ; ' norris @ mantooth . com ' ; ' marchand _ darryl @ msn . com ' ; ' nrm 2000 @ hotmail . com ' ; ' mike . marino @ usoncology . com ' ; ' branonmarsh @ hotmail . com ' ; ' rmartin @ coserv . net ' ; ' dmason @ highpointtravel . com ' ; ' seanab @ gte . net ' ; ' debm 394 @ aol . com ' ; ' mathews - amy @ yahoo . com ' ; ' ags 84 @ aol . com ' ; ' equestlnm @ excite . com ' ; ' mjmattson @ home . com ' ; ' bmatulal @ airmail . net ' ; ' ilvjesus @ flash . net ' ; ' kmay 4001 @ aol . com ' ; ' cmayber @ pisd . edu ' ; ' jasonmayes @ earthlink . net ' ; ' jimbobq 88 @ aol . com ' ; ' mccaff @ anet - dfw . com ' ; ' bmccainl 62 @ aol . com ' ; ' almac @ wans . net ' ; ' mike . mcdonald @ ey . com ' ; ' dhm @ mcdowelllabel . com ' ; ' tmcevoy @ wordware . com ' ; ' trisheeey @ hotmail . com ' ; ' bmcgrego @ metrogroup . com ' ; ' rmckee @ ti . com ' ; ' jim _ mcmahan @ ctxmort . com ' ; ' bmcmillan @ motion - dynamics . com ' ; ' pmeggs @ aol . com ' ; ' mendezn @ nortelnetworks . com ' ; ' jenabug @ flash . net ' ; ' m _ mentzer @ hotmail . com ' ; ' sandymergen @ hotmail . com ' ; ' smerrill @ flash . net ' ; ' tiffany _ merrill @ yahoo . com ' ; ' jmersiovsky @ metasolv . com ' ; ' emetting @ hntb . com ' ; ' sue _ middleton @ juno . com ' ; ' jbm 326 @ aol . com ' ; ' barbmiller @ qualtx . com ' ; ' michael _ c . _ miller @ ac . com ' ; ' miller @ dallas . net ' ; ' hdjemills @ earthlink . net ' ; ' jmills @ dallas . net ' ; ' dminaldi @ contactdallas . com ' ; ' rminney @ entercon . com ' ; ' mlm @ ti . com ' ; ' jenmizar @ yahoo . com ' ; ' moonaggie @ cs . com ' ; ' jason @ aggies . org ' ; ' pipkins @ gateway . net ' ; ' danny . morris @ mciworld . com ' ; ' jcipolla @ hotmail . com ' ; ' cmorse @ waymark . net ' ; ' aggietx @ swbell . net ' ; ' m _ muecke @ hotmail . com ' ; ' jeff . mundt @ wcom . com ' ; ' amurphy 96 @ hotmail . com ' ; ' jmurphy 4 @ hotmail . com ' ; ' dannym @ churchrealty . com ' ; ' cmyers @ mycon . com ' ; ' greg @ lsil . com ' ; ' jnlzaza @ earthlink . net ' ; ' erinsneedham @ hotmail . com ' ; ' tpneeley @ worldnet . att . net ' ; ' jnelson @ source . com ' ; ' jnerwich @ mindspring . com ' ; ' goonet @ hotmail . com ' ; ' rpnew @ aol . com ' ; ' jeff . newton @ fritolay . com ' ; ' chrisgnichols @ yahoo . com ' ; ' r . niedenfuehr @ worldnet . att . net ' ; ' nielsonc @ sprynet . com ' ; ' rniesen @ ti . com ' ; ' jnobll @ jcpenney . com ' ; ' timcathy @ flash . net ' ; ' merkicpa @ gte . net ' ; ' rnorris @ joefunkconstr . com ' ; ' aggiel @ airmail . net ' ; ' cnorton @ brierley . com ' ; ' janicen @ architeriors . com ' ; ' nnowik @ mhagroup . com ' ; ' toconnor @ varo . com ' ; ' melody . oliver @ eds . com ' ; ' s - oliverl @ ti . com ' ; ' adrienneolsen @ hotmail . com ' ; ' roneal @ ins - inc . com ' ; ' tfonofrio @ aol . com ' ; ' b - orem @ rtis . ray . com ' ; ' jetpilot @ sprintmail . com ' ; ' orr @ caprock . net ' ; ' kwunsch @ ci . garland . tx . us ' ; ' jott @ rsn . hp . com ' ; ' tamc 66 @ aol . com ' ; ' atm 97 @ aol . com ' ; ' powen 94 @ yahoo . com ' ; ' yohanp @ netscape . net ' ; ' palitza @ att . net ' ; ' dpalmer @ pisd . edu ' ; ' cparker @ garlandpower - light . org ' ; ' wanda . parker @ wjpenterprises . com ' ; ' tamu 97 @ airmail . net ' ; ' jpatoskie @ home . com ' ; ' judy . peacock @ worldnet . att . net ' ; ' david . a . pearl @ travelers . com ' ; ' katie @ lifelinehomehealth . com ' ; ' ppedison @ aol . com ' ; ' lpeichel @ nortelnetworks . com ' ; ' mpell @ uswebcks . com ' ; ' dannyp 83 @ gte . net ' ; ' david _ perry @ 3 com . com ' ; ' picardl 999 @ hotmail . com ' ; ' friscoattorney @ aol . com ' ; ' dphillips @ pfsoutsourcing . com ' ; ' cpierce @ lee - eng . com ' ; ' kurtpifer @ hotmail . com ' ; ' stephen _ pilcher @ yahoo . com ' ; ' wpindar 3 @ email . msn . com ' ; ' pingenot @ gte . net ' ; ' pinzon @ nortel . com ' ; ' mwpiper @ onramp . net ' ; ' dpitts @ acm . org ' ; ' ppjp @ airmail . net ' ; ' mplumer @ synhrgy . com ' ; ' randy @ pogueinc . com ' ; ' jerrypoin @ home . com ' ; ' tony . pollacia @ fritolay . com ' ; ' tammypon @ hmhs . com ' ; ' kent @ webdelight . net ' ; ' cporter @ nortelnetworks . com ' ; ' sporter @ texas . net ' ; ' porterfields @ prodigy . net ' ; ' texas _ anm @ yahoo . com ' ; ' poteet @ dmans . com ' ; ' billpowello 4 @ home . com ' ; ' ammy 5 @ aol . com ' ; ' joshp @ thisco . com ' ; ' marykpowl @ syscodallas . com ' ; ' prater 2 @ earthlink . net ' ; ' dprattl @ home . com ' ; ' d - presley @ tamu . edu ' ; ' musicgrl 68 @ aol . com ' ; ' pauld @ homemail . com ' ; ' kpruitt @ gasequipment . com ' ; ' pprzada @ aol . com ' ; ' beckyp @ bmisystems . com ' ; ' impurdy @ 5 pillars . com ' ; ' mrpyatt @ airmail . net ' ; ' jlqjr @ gte . net ' ; ' scradford @ aol . com ' ; ' melissa _ ragan @ richards . com ' ; ' eric . ragle @ cisco - eagle . com ' ; ' maheswaran _ rajasekharan @ i 2 . com ' ; ' kikiaggie @ webcombo . net ' ; ' mramsey @ unitedad . com ' ; ' michael . rasmussen @ ps . net ' ; ' j - read @ tamu . edu ' ; ' jlreadpa @ aol . com ' ; ' reasor @ rsn . hp . com ' ; ' reck @ gateway . net ' ; ' cindy . redman @ eds . com ' ; ' dreed @ is . arco . com ' ; ' reedl 00 @ msn . com ' ; ' tdreed @ airmail . net ' ; ' solutionhr @ aol . com ' ; ' jreeves @ agave . com ' ; ' cremmele @ aol . com ' ; ' rrestivo @ eversoft . com ' ; ' erice 8 @ aol . com ' ; ' sanrice @ aol . com ' ; ' ct _ richard @ hotmail . com ' ; ' mrichard @ arcmail . com ' ; ' krichards @ acsdallas . com ' ; ' paula . g . richmond @ fritolay . com ' ; ' jrickman @ hppclaw . com ' ; ' tlrigby @ home . com ' ; ' kcriggs @ yahoo . com ' ; ' mrightm @ mail . arco . com ' ; ' jriha @ businessobjects . com ' ; ' rrinker @ wtd . net ' ; ' rippees @ swbell . net ' ; ' rippel @ utdallas . edu ' ; ' writchie @ ci . irving . tx . us ' ; ' bradyroberts @ hotmail . com ' ; ' laserbaker @ worldnet . att . net ' ; ' frobert @ aol . com ' ; ' krisaggi @ aol . com ' ; ' ker @ ti . com ' ; ' roco @ nortel . com ' ; ' kjroeker @ airmail . net ' ; ' jimroseo 3 @ home . com ' ; ' suzanne _ ross @ campbellsoup . com ' ; ' jim _ rountree @ logiclsales . com ' ; ' eddie . rueffer @ mci . com ' ; ' srupprecht @ chubb . com ' ; ' jennyr @ wtd . net ' ; ' kimed @ hotmail . com ' ; ' jryan @ uswebcks . com ' ; ' emsalazar 25 @ hotmail . com ' ; ' k - salazarl @ ti . com ' ; ' jlsales @ waymark . net ' ; ' msanchez @ mckinneytexas . org ' ; ' steven . sarkissian @ painwebber . com ' ; ' danna @ nortelnetworks . com ' ; ' tsawyers @ aol . com ' ; ' scheumack @ juno . com ' ; ' dschmidt @ camozzi - usa . com ' ; ' pschmidt @ connect . net ' ; ' tammyms @ yahoo . com ' ; ' nathan . schockmel @ usa . alcatel . com ' ; ' kschoenhals @ metasolv . com ' ; ' schuelerjs @ aol . com ' ; ' diana _ p _ seal @ email . mobil . com ' ; ' pkemper @ 3 dfx . com ' ; ' sherri . seeger @ wylieisd . net ' ; ' maseeley @ avaya . com ' ; ' tseely @ attglobal . net ' ; ' rshackelford @ home . com ' ; ' shannons @ websurfer . net ' ; ' jtshannon @ ticnet . com ' ; ' loren . sharkey @ brinker . com ' ; ' rehan @ computer . org ' ; ' gryffynn @ aol . com ' ; ' xosloren @ ti . com ' ; ' roger . shellenberger @ exscol . exch . eds . com ' ; ' kshelton @ amfm . com ' ; ' samleannshields @ aol . com ' ; ' sbshin @ evl . net ' ; ' alsikes @ pbsj . com ' ; ' glenn _ silva @ gmaccm . com ' ; ' frank . silva @ industrialrisk . com ' ; ' simmonds @ marykay . com ' ; ' atmrick @ aol . com ' ; ' isivin @ aol . com ' ; ' rskaggs @ hksinc . com ' ; ' bskalberg @ aol . com ' ; ' todd @ nkn . net ' ; ' dsmart @ dttus . com ' ; ' amy . l . smith @ eds . com ' ; ' egsmith @ home . com ' ; ' john _ charles _ smith @ compuserve . com ' ; ' john - h - smith @ raytheon . com ' ; ' ksmith @ kma - rjfs . com ' ; ' shanda @ wans . net ' ; ' michael . smith @ usa . alcatel . com ' ; ' rjsmith @ minutemaid . com ' ; ' rsmith @ metasolv . com ' ; ' dick _ smith @ pagenet . com ' ; ' agent _ maroon @ hotmail . com ' ; ' enviropure @ home . com ' ; ' unclewil @ home . com ' ; ' jsmitherman @ cinemark . com ' ; ' jim _ snow @ millipore . com ' ; ' gpsparks @ hotmail . com ' ; ' tspo 92891 @ aol . com ' ; ' dspencer @ dbssystems . com ' ; ' lspielel @ txu . com ' ; ' txagl 987 @ aol . com ' ; ' g - stanford @ raytheon . com ' ; ' petgeoguru @ hotmail . com ' ; ' jstara @ arcmail . com ' ; ' kgstavin @ garlandisd . net ' ; ' tbstebbins @ aol . com ' ; ' jsteck @ ti . com ' ; ' steffler @ mindspring . com ' ; ' gsteglich @ home . com ' ; ' shane @ computer . org ' ; ' sastephen @ home . com ' ; ' dereks @ us . ibm . com ' ; ' tsteudtner @ aol . com ' ; ' jill . stevens @ risd . org ' ; ' jnelwyn @ aol . com ' ; ' dons @ gwmail . plano . gov ' ; ' mstewart 70 @ aol . com ' ; ' pstewart 86 @ hotmail . com ' ; ' rastewartl 2 @ hotmail . com ' ; ' msticken @ airmail . net ' ; ' cstockmoe @ yahoo . com ' ; ' k - stokes @ tamu . edu ' ; ' michael _ stone @ nt . com ' ; ' mcstrietzel @ home . com ' ; ' staceys @ omassociates . com ' ; ' sstroth @ glitsch . com ' ; ' h - r . strozewski @ worldnet . att . net ' ; ' astryker @ swbell . net ' ; ' macecs @ hotmail . com ' ; ' smsturgeon @ kpmg . com ' ; ' sullivan 22 @ home . com ' ; ' normas @ airmail . net ' ; ' wswanson @ cyberramp . net ' ; ' rtank 20 @ aol . com ' ; ' matt _ tanner @ txu . com ' ; ' ftargac @ hotmail . com ' ; ' taylorgr @ nortel . com ' ; ' taylorl @ airmail . net ' ; ' aggierob @ hotmail . com ' ; ' teresa . taylor @ st . com ' ; ' ticaw @ hotmail . com ' ; ' wst @ flash . net ' ; ' caceett @ hotmail . com ' ; ' punt 3442 @ aol . com ' ; ' chris . t @ prodigy . net ' ; ' denise . thatcher @ eds . com ' ; ' mjthed @ earthlink . net ' ; ' brandon . theis @ eds . com ' ; ' steve _ thelen @ cushwake . com ' ; ' arthur . thomas @ ace - ina . com ' ; ' tthomas @ cooperinst . org ' ; ' dthomps 2 @ pisd . edu ' ; ' nthompson @ swst . com ' ; ' psthompson @ mindspring . com ' ; ' rthompso @ kofax . com ' ; ' tierney _ thompson @ winston - school . org ' ; ' b - tinker @ ti . com ' ; ' tipp @ airmail . net ' ; ' atokarz @ usa . alcatel . com ' ; ' bevtoney @ aol . com ' ; ' kstowery @ mindspring . com ' ; ' patrick . traubert @ tripointglobal . com ' ; ' heidigigem 96 @ yahoo . com ' ; ' tiffanytrox @ yahoo . com ' ; ' dddtruitt @ juno . com ' ; ' tschetter @ worldnet . att . net ' ; ' 9 mtucker @ home . com ' ; ' oxymomloree @ aol . com ' ; ' cturner @ entest . net ' ; ' aisdal @ aol . com ' ; ' rachturney @ yahoo . com ' ; ' gulteig @ starrunner . net ' ; ' gutay @ airmail . net ' ; ' hutay @ yahoo . com ' ; ' valls @ earthlink . net ' ; ' hvanpelt @ msn . net ' ; ' dwv @ vanderburg . org ' ; ' timv @ cheerful . com ' ; ' r - cvaughn @ juno . com ' ; ' annette . vela @ homecomings . com ' ; ' jvetkoetter @ pipeline . com ' ; ' diane _ vetter @ hotmail . com ' ; ' vicem @ hdvest . com ' ; ' jennifer @ vilches . org ' ; ' pvilches @ home . com ' ; ' spvill @ flash . net ' ; ' ssv @ attglobal . net ' ; ' kristi . l . vitek @ fritolay . com ' ; ' voltin @ airmail . net ' ; ' wagso 0 @ yahoo . com ' ; ' walessc @ nortelnetworks . com ' ; ' bwalker @ fmtinv . com ' ; ' brian . walker @ exchange - point . com ' ; ' deanwalker @ computer . org ' ; ' ken . walker @ mscsoftware . com ' ; ' shannon . wallace @ usa . net ' ; ' b _ wallace @ prodigy . net ' ; ' wwallenl @ airmail . net ' ; ' mkwalle @ yahoo . com ' ; ' twaller @ excite . com ' ; ' drwaller @ hotmail . com ' ; ' maxwalters @ worldnet . att . net ' ; ' kwalzel @ cisco . com ' ; ' julie . warden @ mhmr . state . tx . us ' ; ' warner @ ont . com ' ; ' watersco @ flash . net ' ; ' julie . watkins @ eds . com ' ; ' apwo 397 @ juno . com ' ; ' patricia . watsono 2 @ ey . com ' ; ' jwebb @ dalsemi . com ' ; ' jkwebb 41 @ gateway . net ' ; ' debbiew @ mciworld . com ' ; ' robin - w @ juno . com ' ; ' sally _ welch @ excite . com ' ; ' twelch @ nortelnetworks . com ' ; ' awaller @ csc . com ' ; ' gregwemhoener @ home . com ' ; ' susanwempe @ hotmail . com ' ; ' jwest 78 @ aol . com ' ; ' mike . west @ usa . alcatel . com ' ; ' joannwest @ earthlink . net ' ; ' mweynand @ flash . net ' ; ' weynandken @ johndeere . com ' ; ' mweynand @ flash . net ' ; ' mmw @ airmail . net ' ; ' ewheal @ jcpenney . com ' ; ' swhite @ tx . pathnet . net ' ; ' txag 93 sw @ flash . net ' ; ' chris @ iex . com ' ; ' wiegard @ nortel . com ' ; ' cindyw @ pobox . com ' ; ' jbouldin @ teleteam . com ' ; ' mike @ paragon - tx . com ' ; ' rtwilkinsn @ aol . com ' ; ' jerriw @ arn . net ' ; ' joeaggie 93 @ msn . com ' ; ' kristilw @ swbell . net ' ; ' a 50 @ flash . net ' ; ' rkwbdw 580 @ cs . com ' ; ' kswccw @ swbell . net ' ; ' designpath @ sprynet . com ' ; ' drw 58 ag @ aol . com ' ; ' wilsonaggies @ home . com ' ; ' normabautista @ worldnet . att . net ' ; ' skisheri @ aol . com ' ; ' emajo . wilson @ gte . net ' ; ' jenkonquin @ aol . com ' ; ' wvicw @ aol . com ' ; ' teresa . wood @ st . com ' ; ' lwood 963 @ flash . net ' ; ' tcwoolley @ writeme . com ' ; ' sworsham @ supermovers . com ' ; ' brad _ worth @ csicontrols . com ' ; ' wrightson . family @ gte . net ' ; ' dwu @ tqtx . com ' ; ' dlwylie @ swbell . net ' ; ' christa . yakel @ sap - ag . de ' ; ' yarbrough _ james @ hotmail . com ' ; ' suzan @ guyyork . com ' ; ' karen _ znoj @ merck . com '   this just in ags ! if you are going to the osu game on sept 22 , a red , white & blue out is being planned , just like the maroon out games for the osu game . ags , what better statement can we aggies make , than to celebrate the love and support for our country ' s freedom , and our patriotic nature , than this way : imagine . . . the fightin ' texas aggie band playing  playing military drills as they walk around the stadium , and we celebrate our love for our country , and our support for all the heroes , alive and deceased . color assignments are as follows : 3 rd deck : red 2 nd deck : white lst deck : blue pass the word on . . . . we have 1 1 / 2 weeks ! ! the spirit of america , and the aggie spirit is still alive . god bless america , the free nation . pass it on .\""
      ]
     },
     "execution_count": 34,
     "metadata": {},
     "output_type": "execute_result"
    }
   ],
   "source": [
    "# Make the df_enron1 dataframe\n",
    "df_enron1 = {'Status': ham_status,\n",
    "             'Subject': ham_subject,\n",
    "             'Body': ham_body\n",
    "}\n",
    "df_enron1 = pd.DataFrame(df_enron1)\n",
    "\n",
    "\n",
    "# Return the length of the body for ham status\n",
    "def length(column):\n",
    "    status = column[0]\n",
    "    body = column[2]\n",
    "    if status == 'ham':\n",
    "        return len(body)\n",
    "    return body\n",
    "\n",
    "df_enron1['Body'] = df_enron1.apply(length, axis=1)\n",
    "\n",
    "\n",
    "# Make the ham dataframe containing only the ham status\n",
    "ham = df_enron1[df_enron1['Status'] == 'ham']\n",
    "\n",
    "\n",
    "# Get the max length of the body\n",
    "max_len_body = ham.Body.max()\n",
    "\n",
    "\n",
    "# Get the index of the longest body\n",
    "print(ham[ham['Body'] == max_len_body])\n",
    "\n",
    "print('='*160)\n",
    "\n",
    "# Make the df_enron1 dataframe again and find the index with longest ham email\n",
    "df_enron1 = {'Status': ham_status,\n",
    "             'Subject': ham_subject,\n",
    "             'Body': ham_body\n",
    "}\n",
    "df_enron1 = pd.DataFrame(df_enron1)\n",
    "df_enron1.iloc[3488].Body"
   ]
  },
  {
   "cell_type": "markdown",
   "metadata": {},
   "source": [
    "-----\n",
    "\n",
    "\n",
    "## 5.) What is the accuracy of your model? \n",
    ">Enron1\n",
    "\n",
    "----"
   ]
  },
  {
   "cell_type": "markdown",
   "metadata": {},
   "source": [
    " <span style=\"font-family: Arial; font-size:1.4em;color:blue;\"> Using 10-fold cross-validation </p>"
   ]
  },
  {
   "cell_type": "code",
   "execution_count": 35,
   "metadata": {
    "tags": []
   },
   "outputs": [
    {
     "name": "stdout",
     "output_type": "stream",
     "text": [
      "(1522, 38972)\n",
      "Accuracy: 92.83 percent\n"
     ]
    }
   ],
   "source": [
    "tf_X_test = tf.transform(X_test)\n",
    "\n",
    "scores = cross_val_score(G_classifier, tf_X_test.toarray(), y_test, cv=10)\n",
    "acc = scores.mean()\n",
    "print(tf_X_test.shape)\n",
    "print(\"Accuracy: %0.2f percent\" % (acc *100))"
   ]
  },
  {
   "cell_type": "code",
   "execution_count": 36,
   "metadata": {},
   "outputs": [],
   "source": [
    "y_test = pd.DataFrame(y_test)\n",
    "\n",
    "df = pd.DataFrame(X_test).merge(y_test, left_index=True, right_index=True)\n",
    "df = df.mask(df == 0, df.max(axis=1), axis=0) # making the index from 1 to end of row but it's not working\n",
    "\n",
    "df['PRED'] = G_classifier.predict(tf_X_test.toarray())"
   ]
  },
  {
   "cell_type": "code",
   "execution_count": 37,
   "metadata": {},
   "outputs": [
    {
     "data": {
      "text/html": [
       "<div>\n",
       "<style scoped>\n",
       "    .dataframe tbody tr th:only-of-type {\n",
       "        vertical-align: middle;\n",
       "    }\n",
       "\n",
       "    .dataframe tbody tr th {\n",
       "        vertical-align: top;\n",
       "    }\n",
       "\n",
       "    .dataframe thead th {\n",
       "        text-align: right;\n",
       "    }\n",
       "</style>\n",
       "<table border=\"1\" class=\"dataframe\">\n",
       "  <thead>\n",
       "    <tr style=\"text-align: right;\">\n",
       "      <th></th>\n",
       "      <th>Body</th>\n",
       "      <th>Status</th>\n",
       "      <th>PRED</th>\n",
       "    </tr>\n",
       "  </thead>\n",
       "  <tbody>\n",
       "    <tr>\n",
       "      <th>1733</th>\n",
       "      <td>currently , prior month deals are inactivated...</td>\n",
       "      <td>ham</td>\n",
       "      <td>ham</td>\n",
       "    </tr>\n",
       "    <tr>\n",
       "      <th>3059</th>\n",
       "      <td>daren - per janet , the price of $ 5 . 235 + ...</td>\n",
       "      <td>ham</td>\n",
       "      <td>ham</td>\n",
       "    </tr>\n",
       "    <tr>\n",
       "      <th>34</th>\n",
       "      <td>i wanted to update you on those phillips deal...</td>\n",
       "      <td>ham</td>\n",
       "      <td>ham</td>\n",
       "    </tr>\n",
       "    <tr>\n",
       "      <th>2175</th>\n",
       "      <td>teco tap 110 . 000 / hpl iferc ; 12 . 500 / e...</td>\n",
       "      <td>ham</td>\n",
       "      <td>ham</td>\n",
       "    </tr>\n",
       "    <tr>\n",
       "      <th>1680</th>\n",
       "      <td>deal # 231757 purchase the deal in sitara ind...</td>\n",
       "      <td>ham</td>\n",
       "      <td>ham</td>\n",
       "    </tr>\n",
       "    <tr>\n",
       "      <th>...</th>\n",
       "      <td>...</td>\n",
       "      <td>...</td>\n",
       "      <td>...</td>\n",
       "    </tr>\n",
       "    <tr>\n",
       "      <th>4320</th>\n",
       "      <td>googlecash gives you all the tools you need t...</td>\n",
       "      <td>spam</td>\n",
       "      <td>spam</td>\n",
       "    </tr>\n",
       "    <tr>\n",
       "      <th>4338</th>\n",
       "      <td>tired of paying high tobacco taxes ? we guara...</td>\n",
       "      <td>spam</td>\n",
       "      <td>spam</td>\n",
       "    </tr>\n",
       "    <tr>\n",
       "      <th>357</th>\n",
       "      <td>please hold thursday , march 9 th 11 : 30 - 5...</td>\n",
       "      <td>ham</td>\n",
       "      <td>ham</td>\n",
       "    </tr>\n",
       "    <tr>\n",
       "      <th>2764</th>\n",
       "      <td>daren - was there a deal for 5 . 000 at cp &amp; ...</td>\n",
       "      <td>ham</td>\n",
       "      <td>ham</td>\n",
       "    </tr>\n",
       "    <tr>\n",
       "      <th>3905</th>\n",
       "      <td>warning : this message has had one or more at...</td>\n",
       "      <td>spam</td>\n",
       "      <td>spam</td>\n",
       "    </tr>\n",
       "  </tbody>\n",
       "</table>\n",
       "<p>1522 rows × 3 columns</p>\n",
       "</div>"
      ],
      "text/plain": [
       "                                                   Body Status  PRED\n",
       "1733   currently , prior month deals are inactivated...    ham   ham\n",
       "3059   daren - per janet , the price of $ 5 . 235 + ...    ham   ham\n",
       "34     i wanted to update you on those phillips deal...    ham   ham\n",
       "2175   teco tap 110 . 000 / hpl iferc ; 12 . 500 / e...    ham   ham\n",
       "1680   deal # 231757 purchase the deal in sitara ind...    ham   ham\n",
       "...                                                 ...    ...   ...\n",
       "4320   googlecash gives you all the tools you need t...   spam  spam\n",
       "4338   tired of paying high tobacco taxes ? we guara...   spam  spam\n",
       "357    please hold thursday , march 9 th 11 : 30 - 5...    ham   ham\n",
       "2764   daren - was there a deal for 5 . 000 at cp & ...    ham   ham\n",
       "3905   warning : this message has had one or more at...   spam  spam\n",
       "\n",
       "[1522 rows x 3 columns]"
      ]
     },
     "execution_count": 37,
     "metadata": {},
     "output_type": "execute_result"
    }
   ],
   "source": [
    "df"
   ]
  },
  {
   "cell_type": "markdown",
   "metadata": {},
   "source": [
    " <span style=\"font-family: Arial; font-size:1.4em;color:blue;\"> Model is pretty good </p>"
   ]
  },
  {
   "cell_type": "code",
   "execution_count": 42,
   "metadata": {},
   "outputs": [
    {
     "name": "stdout",
     "output_type": "stream",
     "text": [
      "              precision    recall  f1-score   support\n",
      "\n",
      "         ham       0.96      0.96      0.96      1090\n",
      "        spam       0.89      0.89      0.89       432\n",
      "\n",
      "    accuracy                           0.94      1522\n",
      "   macro avg       0.92      0.93      0.92      1522\n",
      "weighted avg       0.94      0.94      0.94      1522\n",
      "\n"
     ]
    },
    {
     "data": {
      "image/png": "[encoded data removed]",
      "text/plain": [
       "<Figure size 720x360 with 2 Axes>"
      ]
     },
     "metadata": {},
     "output_type": "display_data"
    }
   ],
   "source": [
    "from sklearn import metrics\n",
    "from sklearn.metrics import classification_report\n",
    "\n",
    "cm = metrics.confusion_matrix(y_test, G_classifier.predict(tf_X_test.toarray()))\n",
    "\n",
    "ax= plt.subplot()\n",
    "sns.heatmap(cm, annot=True, fmt='g', ax=ax, cmap=\"YlGnBu\");  #annot=True to annotate cells, ftm='g' to disable scientific notation\n",
    "\n",
    "# labels, title and ticks\n",
    "ax.set_xlabel('Predicted labels');ax.set_ylabel('Actual labels'); \n",
    "ax.set_title('Using only the Body'); \n",
    "ax.xaxis.set_ticklabels(['Ham', 'Spam']); ax.yaxis.set_ticklabels(['Ham', 'Spam']);\n",
    "\n",
    "print(classification_report(y_test, G_classifier.predict(tf_X_test.toarray())))"
   ]
  },
  {
   "cell_type": "markdown",
   "metadata": {},
   "source": [
    " <span style=\"font-family: Arial; font-size:1.4em;color:blue;\"> Let's try this out! </p>"
   ]
  },
  {
   "cell_type": "code",
   "execution_count": 43,
   "metadata": {},
   "outputs": [
    {
     "data": {
      "text/plain": [
       "array(['spam', 'ham'], dtype='<U4')"
      ]
     },
     "execution_count": 43,
     "metadata": {},
     "output_type": "execute_result"
    }
   ],
   "source": [
    "examples = ['Free Viagra now!!!', 'Hi Bob, how about a game of golf tomorrow?']\n",
    "example_counts = tf.transform(examples)\n",
    "predictions = G_classifier.predict(example_counts.toarray())\n",
    "predictions"
   ]
  },
  {
   "cell_type": "markdown",
   "metadata": {},
   "source": [
    "-----\n",
    "\n",
    "\n",
    "## 6.) Include the Subject in the analysis of the emails, does the accuracy/performance of the model increase? \n",
    ">Enron1\n",
    "\n",
    "----"
   ]
  },
  {
   "cell_type": "code",
   "execution_count": 44,
   "metadata": {},
   "outputs": [],
   "source": [
    "df_enron1 = df_enron1[df_enron1['Body'] != ' ']\n",
    "df_enron1['Subject & Body'] = df_enron1['Subject'].map(str) + df_enron1['Body'].map(str)\n",
    "\n",
    "X_train, X_test, y_train, y_test = train_test_split(df_enron1['Subject & Body'], df_enron1['Status'], test_size=0.3, random_state=42)"
   ]
  },
  {
   "cell_type": "code",
   "execution_count": 45,
   "metadata": {},
   "outputs": [
    {
     "data": {
      "text/plain": [
       "GaussianNB()"
      ]
     },
     "execution_count": 45,
     "metadata": {},
     "output_type": "execute_result"
    }
   ],
   "source": [
    "# Vectorizer\n",
    "tf = TfidfVectorizer(stop_words='english')\n",
    "\n",
    "tf_X_train = tf.fit_transform(X_train)\n",
    "\n",
    "G_classifier = GaussianNB()\n",
    "G_classifier.fit(tf_X_train.toarray(), y_train)"
   ]
  },
  {
   "cell_type": "code",
   "execution_count": 46,
   "metadata": {},
   "outputs": [
    {
     "name": "stdout",
     "output_type": "stream",
     "text": [
      "(1522, 39630)\n",
      "Accuracy: 94.15 percent\n"
     ]
    }
   ],
   "source": [
    "tf_X_test = tf.transform(X_test)\n",
    "\n",
    "scores = cross_val_score(G_classifier, tf_X_test.toarray(), y_test, cv=10)\n",
    "acc = scores.mean()\n",
    "print(tf_X_test.shape)\n",
    "print(\"Accuracy: %0.2f percent\" % (acc *100))"
   ]
  },
  {
   "cell_type": "markdown",
   "metadata": {},
   "source": [
    " <span style=\"font-family: Arial; font-size:1.4em;color:blue;\"> The Accuracy increases by 1-2% higher </p>"
   ]
  },
  {
   "cell_type": "markdown",
   "metadata": {},
   "source": [
    " <span style=\"font-family: Arial; font-size:1.4em;color:blue;\"> The precision for ham became higher by 1% </p>"
   ]
  },
  {
   "cell_type": "markdown",
   "metadata": {},
   "source": [
    " <span style=\"font-family: Arial; font-size:1.4em;color:blue;\"> Though the precision of Spam didn't change as False Spam didn't have much change </p>"
   ]
  },
  {
   "cell_type": "markdown",
   "metadata": {},
   "source": [
    " <span style=\"font-family: Arial; font-size:1.4em;color:blue;\"> In terms of the recall for Spam, it became higher by 4% since False Ham became lower </p>"
   ]
  },
  {
   "cell_type": "code",
   "execution_count": 47,
   "metadata": {},
   "outputs": [
    {
     "name": "stdout",
     "output_type": "stream",
     "text": [
      "              precision    recall  f1-score   support\n",
      "\n",
      "         ham       0.97      0.96      0.96      1090\n",
      "        spam       0.89      0.93      0.91       432\n",
      "\n",
      "    accuracy                           0.95      1522\n",
      "   macro avg       0.93      0.94      0.94      1522\n",
      "weighted avg       0.95      0.95      0.95      1522\n",
      "\n"
     ]
    },
    {
     "data": {
      "image/png": "[encoded data removed]",
      "text/plain": [
       "<Figure size 720x360 with 2 Axes>"
      ]
     },
     "metadata": {},
     "output_type": "display_data"
    }
   ],
   "source": [
    "from sklearn import metrics\n",
    "from sklearn.metrics import classification_report\n",
    "\n",
    "cm = metrics.confusion_matrix(y_test, G_classifier.predict(tf_X_test.toarray()))\n",
    "\n",
    "ax= plt.subplot()\n",
    "sns.heatmap(cm, annot=True, fmt='g', ax=ax, cmap=\"YlGnBu\");  #annot=True to annotate cells, ftm='g' to disable scientific notation\n",
    "\n",
    "# labels, title and ticks\n",
    "ax.set_xlabel('Predicted labels');ax.set_ylabel('Actual labels'); \n",
    "ax.set_title('Using the Subject & Body'); \n",
    "ax.xaxis.set_ticklabels(['Ham', 'Spam']); ax.yaxis.set_ticklabels(['Ham', 'Spam']);\n",
    "\n",
    "print(classification_report(y_test, G_classifier.predict(tf_X_test.toarray())))"
   ]
  },
  {
   "cell_type": "markdown",
   "metadata": {},
   "source": [
    " <span style=\"font-family: Arial; font-size:1.4em;color:blue;\"> Let's try this out! </p>"
   ]
  },
  {
   "cell_type": "code",
   "execution_count": 48,
   "metadata": {},
   "outputs": [
    {
     "data": {
      "text/plain": [
       "array(['spam', 'ham'], dtype='<U4')"
      ]
     },
     "execution_count": 48,
     "metadata": {},
     "output_type": "execute_result"
    }
   ],
   "source": [
    "# Format: [Subject Body, Subject Body]\n",
    "\n",
    "examples = ['October Deal Free Viagra now!!!', 'Gametime Hi Bob, how about a game of golf tomorrow?']\n",
    "example_counts = tf.transform(examples)\n",
    "predictions = G_classifier.predict(example_counts.toarray())\n",
    "predictions"
   ]
  },
  {
   "cell_type": "markdown",
   "metadata": {},
   "source": [
    "<div class=\"alert alert-block alert-danger\">\n",
    "<b>Enron2</b>\n",
    "</div>"
   ]
  },
  {
   "cell_type": "markdown",
   "metadata": {},
   "source": [
    "# For enron2 & enron3: Let's make a function that returns the dataframe of ham and spam folder"
   ]
  },
  {
   "cell_type": "code",
   "execution_count": 4,
   "metadata": {},
   "outputs": [],
   "source": [
    "def get_list(rootdir, ham=True, spam=True):\n",
    "    '''\n",
    "    This function returns a tuple of ham list \n",
    "    and spam list by default.\n",
    "    Set the other parameter to False to only \n",
    "    return the parameter that is True\n",
    "    '''\n",
    "    ham_list = []\n",
    "    spam_list = []\n",
    "    \n",
    "\n",
    "    for directories, subdirs, files in os.walk(rootdir):\n",
    "        if (os.path.split(directories)[1]  == 'ham'):\n",
    "            for filename in files:      \n",
    "                with open(os.path.join(directories, filename), encoding=\"latin-1\") as f:\n",
    "                    data = f.read()\n",
    "                    ham_list.append(data)\n",
    "    \n",
    "        if (os.path.split(directories)[1]  == 'spam'):\n",
    "            for filename in files:      \n",
    "                with open(os.path.join(directories, filename), encoding=\"latin-1\") as f:\n",
    "                    data = f.read()\n",
    "                    spam_list.append(data)\n",
    "        \n",
    "    if ham & spam:\n",
    "        return ham_list, spam_list\n",
    "    elif ham is True:\n",
    "        return ham_list\n",
    "    elif spam is True:\n",
    "        return spam_list\n",
    "        \n",
    "    \n",
    "def get_status(rootdir, ham=True, spam=True):\n",
    "    '''\n",
    "    This function returns a tuple of ham status \n",
    "    and spam status by default.\n",
    "    Set the other parameter to False to only \n",
    "    return the parameter that is True\n",
    "    '''\n",
    "    ham_status = []\n",
    "    spam_status = []\n",
    "    \n",
    "    for directories, subdirs, files in os.walk(rootdir):\n",
    "        if (os.path.split(directories)[1]  == 'ham'):\n",
    "            for filename in files:      \n",
    "                ham_status.append(filename.split(\".\")[3])\n",
    "        if (os.path.split(directories)[1]  == 'spam'):\n",
    "            for filename in files:      \n",
    "                spam_status.append(filename.split(\".\")[3])\n",
    "                \n",
    "    if ham & spam:\n",
    "        return ham_status, spam_status\n",
    "    elif ham is True:\n",
    "        return ham_status\n",
    "    elif spam is True:\n",
    "        return spam_status\n",
    "\n",
    "\n",
    "def get_subject_list(rootdir, ham=True, spam=True):\n",
    "    '''\n",
    "    This function returns a tuple of ham &\n",
    "    spam subjects by default including the word\n",
    "    \"Subject:\"\n",
    "    Set the other parameter to False to only \n",
    "    return the parameter that is True\n",
    "    '''\n",
    "    ham_subject_list = []\n",
    "    spam_subject_list = []\n",
    "\n",
    "    for texts in get_list(rootdir, True, False):\n",
    "        new_list = texts.split('\\n')\n",
    "        for list in new_list:\n",
    "            if list.startswith('Subject'):\n",
    "                ham_subject_list.append(list)\n",
    "\n",
    "    for texts in get_list(rootdir, False, True):\n",
    "        new_list = texts.split('\\n')\n",
    "        for list in new_list:\n",
    "            if list.startswith('Subject'):\n",
    "                spam_subject_list.append(list)\n",
    "    \n",
    "    if ham & spam:\n",
    "        return ham_subject_list, spam_subject_list\n",
    "    elif ham is True:\n",
    "        return ham_subject_list\n",
    "    elif spam is True:\n",
    "        return spam_subject_list\n",
    "    \n",
    "\n",
    "def get_subject(rootdir, ham=True, spam=True):\n",
    "    '''\n",
    "    This function only returns a tuple of list of messages \n",
    "    of ham & spam subjects by default excluding \n",
    "    the word \"Subject:\"\n",
    "    Set the other parameter to False to only \n",
    "    return the parameter that is True\n",
    "    '''\n",
    "    ham_subject = []\n",
    "    spam_subject = []\n",
    "    \n",
    "    for subjects in get_subject_list(rootdir, True, False):\n",
    "        ham_subject.append(subjects.split(\": \")[-1])\n",
    "\n",
    "    for subjects in get_subject_list(rootdir, False, True):\n",
    "        spam_subject.append(subjects.split(\": \")[-1])\n",
    "\n",
    "    if ham & spam:\n",
    "        return ham_subject, spam_subject\n",
    "    elif ham is True:\n",
    "        return ham_subject\n",
    "    elif spam is True:\n",
    "        return spam_subject\n",
    "\n",
    "    \n",
    "    \n",
    "def get_body(rootdir, ham=True, spam=True):\n",
    "    '''\n",
    "    This function returns a tuple of body or the \n",
    "    email message of ham and spam by default.\n",
    "    Set the other parameter to False to only \n",
    "    return the parameter that is True\n",
    "    '''\n",
    "    ham_body = []\n",
    "    spam_body = []\n",
    "    \n",
    "    for body in get_list(rootdir, True, False):\n",
    "        text = re.sub(r'Subject:.*|Subject :.*|subject:.*|subject :.*|from :.*|to :.*\\n.*\\n.*|cc :.*\\n.*|- - - -.*\\n.*\\n.*\\n.*\\n.*|\\\" [a-z].*|\\d{2} / \\d{2} / \\d{2}.*|\\| - - -.*|\\| \\| \\| \\|.*|\\| \\d{1,2} , \\d{1,3}.*|\\| [a-zA-Z]+ / d \\| [a-zA-Z].*', \"\", body)\n",
    "        text2 = text.replace('\\n', ' ')\n",
    "        ham_body.append(text2)\n",
    "\n",
    "    for body in get_list(rootdir, False, True):\n",
    "        text = re.sub(r'Subject:.*|Subject :.*|subject:.*|subject :.*|from :.*|to :.*\\n.*\\n.*|cc :.*\\n.*|- - - -.*\\n.*\\n.*\\n.*\\n.*|\\\" [a-z].*|\\d{2} / \\d{2} / \\d{2}.*|\\| - - -.*|\\| \\| \\| \\|.*|\\| \\d{1,2} , \\d{1,3}.*|\\| [a-zA-Z]+ / d \\| [a-zA-Z].*', \"\", body)\n",
    "        text2 = text.replace('\\n', ' ')\n",
    "        spam_body.append(text2)\n",
    "    \n",
    "    if ham & spam:\n",
    "        return ham_body, spam_body\n",
    "    elif ham is True:\n",
    "        return ham_body\n",
    "    elif spam is True:\n",
    "        return spam_body\n",
    "    \n",
    "\n",
    "def main(rootdir):\n",
    "    '''\n",
    "    This function structures the email data from the \n",
    "    2 directories into 1 dataframe \n",
    "    with columns: Status, Subject, Body\n",
    "    '''\n",
    "    ham_status, spam_status = get_status(rootdir)\n",
    "    ham_status.extend(spam_status)\n",
    "    \n",
    "    ham_subject, spam_subject = get_subject(rootdir)\n",
    "    ham_subject.extend(spam_subject)\n",
    "    \n",
    "    ham_body, spam_body = get_body(rootdir)\n",
    "    ham_body.extend(spam_body)\n",
    "    \n",
    "    df = pd.DataFrame({'Status': ham_status,\n",
    "             'Subject': ham_subject,\n",
    "             'Body': ham_body})\n",
    "    \n",
    "    return df\n",
    "\n",
    "\n",
    "if __name__ == '__main__':\n",
    "    main(rootdir)"
   ]
  },
  {
   "cell_type": "code",
   "execution_count": 1187,
   "metadata": {},
   "outputs": [],
   "source": [
    "df_enron2 = main('data/enron-data/enron2')"
   ]
  },
  {
   "cell_type": "code",
   "execution_count": 1188,
   "metadata": {},
   "outputs": [
    {
     "data": {
      "text/html": [
       "<div>\n",
       "<style scoped>\n",
       "    .dataframe tbody tr th:only-of-type {\n",
       "        vertical-align: middle;\n",
       "    }\n",
       "\n",
       "    .dataframe tbody tr th {\n",
       "        vertical-align: top;\n",
       "    }\n",
       "\n",
       "    .dataframe thead th {\n",
       "        text-align: right;\n",
       "    }\n",
       "</style>\n",
       "<table border=\"1\" class=\"dataframe\">\n",
       "  <thead>\n",
       "    <tr style=\"text-align: right;\">\n",
       "      <th></th>\n",
       "      <th>Status</th>\n",
       "      <th>Subject</th>\n",
       "      <th>Body</th>\n",
       "    </tr>\n",
       "  </thead>\n",
       "  <tbody>\n",
       "    <tr>\n",
       "      <th>0</th>\n",
       "      <td>ham</td>\n",
       "      <td>rankings</td>\n",
       "      <td>thank you .</td>\n",
       "    </tr>\n",
       "    <tr>\n",
       "      <th>1</th>\n",
       "      <td>ham</td>\n",
       "      <td>visit to enron</td>\n",
       "      <td>vince , dec . 29 at 9 : 00 will be fine . i h...</td>\n",
       "    </tr>\n",
       "    <tr>\n",
       "      <th>2</th>\n",
       "      <td>ham</td>\n",
       "      <td>research group move to the 19 th floor</td>\n",
       "      <td>hello all : in case any of you feel energetic...</td>\n",
       "    </tr>\n",
       "    <tr>\n",
       "      <th>3</th>\n",
       "      <td>ham</td>\n",
       "      <td>christmas baskets</td>\n",
       "      <td>the christmas baskets have been ordered . we ...</td>\n",
       "    </tr>\n",
       "    <tr>\n",
       "      <th>4</th>\n",
       "      <td>ham</td>\n",
       "      <td>japan candidate</td>\n",
       "      <td>vince , i spoke with whalley at the sa offsit...</td>\n",
       "    </tr>\n",
       "    <tr>\n",
       "      <th>...</th>\n",
       "      <td>...</td>\n",
       "      <td>...</td>\n",
       "      <td>...</td>\n",
       "    </tr>\n",
       "    <tr>\n",
       "      <th>5850</th>\n",
       "      <td>spam</td>\n",
       "      <td>3 . 55 %</td>\n",
       "      <td>ha http : / / voj 2 hcdc . rote . espoeiur . ...</td>\n",
       "    </tr>\n",
       "    <tr>\n",
       "      <th>5851</th>\n",
       "      <td>spam</td>\n",
       "      <td>localized software , all languages available .</td>\n",
       "      <td>hello , we would like to offer localized soft...</td>\n",
       "    </tr>\n",
       "    <tr>\n",
       "      <th>5852</th>\n",
       "      <td>spam</td>\n",
       "      <td>instant branded software download</td>\n",
       "      <td>software sales http : / / francois . jetlow ....</td>\n",
       "    </tr>\n",
       "    <tr>\n",
       "      <th>5853</th>\n",
       "      <td>spam</td>\n",
       "      <td>localized software , all languages available .</td>\n",
       "      <td>hello , we would like to offer localized soft...</td>\n",
       "    </tr>\n",
       "    <tr>\n",
       "      <th>5854</th>\n",
       "      <td>spam</td>\n",
       "      <td>microsoft autoroute 2005 dvd uk - $ 19 . 95</td>\n",
       "      <td>discounted software store http : / / yielded ...</td>\n",
       "    </tr>\n",
       "  </tbody>\n",
       "</table>\n",
       "<p>5855 rows × 3 columns</p>\n",
       "</div>"
      ],
      "text/plain": [
       "     Status                                         Subject  \\\n",
       "0       ham                                        rankings   \n",
       "1       ham                                  visit to enron   \n",
       "2       ham          research group move to the 19 th floor   \n",
       "3       ham                               christmas baskets   \n",
       "4       ham                                 japan candidate   \n",
       "...     ...                                             ...   \n",
       "5850   spam                                        3 . 55 %   \n",
       "5851   spam  localized software , all languages available .   \n",
       "5852   spam               instant branded software download   \n",
       "5853   spam  localized software , all languages available .   \n",
       "5854   spam     microsoft autoroute 2005 dvd uk - $ 19 . 95   \n",
       "\n",
       "                                                   Body  \n",
       "0                                           thank you .  \n",
       "1      vince , dec . 29 at 9 : 00 will be fine . i h...  \n",
       "2      hello all : in case any of you feel energetic...  \n",
       "3      the christmas baskets have been ordered . we ...  \n",
       "4      vince , i spoke with whalley at the sa offsit...  \n",
       "...                                                 ...  \n",
       "5850   ha http : / / voj 2 hcdc . rote . espoeiur . ...  \n",
       "5851   hello , we would like to offer localized soft...  \n",
       "5852   software sales http : / / francois . jetlow ....  \n",
       "5853   hello , we would like to offer localized soft...  \n",
       "5854   discounted software store http : / / yielded ...  \n",
       "\n",
       "[5855 rows x 3 columns]"
      ]
     },
     "execution_count": 1188,
     "metadata": {},
     "output_type": "execute_result"
    }
   ],
   "source": [
    "df_enron2"
   ]
  },
  {
   "cell_type": "markdown",
   "metadata": {},
   "source": [
    "-----\n",
    "\n",
    "\n",
    "## 1.) How many Spam Emails are there? \n",
    ">Enron2\n",
    "\n",
    "----"
   ]
  },
  {
   "cell_type": "code",
   "execution_count": 1190,
   "metadata": {},
   "outputs": [
    {
     "name": "stdout",
     "output_type": "stream",
     "text": [
      "Spam Emails in Enron2: 1494\n"
     ]
    }
   ],
   "source": [
    "enron_2_spam = df_enron2.Status.value_counts()['spam']\n",
    "print(f'Spam Emails in Enron2: {enron_2_spam}')"
   ]
  },
  {
   "cell_type": "markdown",
   "metadata": {},
   "source": [
    "-----\n",
    "\n",
    "\n",
    "## 2.) Structure the email data from the 2 directories into 1 dataframe with columns: Status, Subject, Body \n",
    ">Enron2\n",
    "\n",
    "----"
   ]
  },
  {
   "cell_type": "markdown",
   "metadata": {},
   "source": [
    " <span style=\"font-family: Arial; font-size:1.4em;color:red;\"> Delete the rows with empty values of Body </p>"
   ]
  },
  {
   "cell_type": "code",
   "execution_count": 1197,
   "metadata": {},
   "outputs": [
    {
     "data": {
      "text/html": [
       "<div>\n",
       "<style scoped>\n",
       "    .dataframe tbody tr th:only-of-type {\n",
       "        vertical-align: middle;\n",
       "    }\n",
       "\n",
       "    .dataframe tbody tr th {\n",
       "        vertical-align: top;\n",
       "    }\n",
       "\n",
       "    .dataframe thead th {\n",
       "        text-align: right;\n",
       "    }\n",
       "</style>\n",
       "<table border=\"1\" class=\"dataframe\">\n",
       "  <thead>\n",
       "    <tr style=\"text-align: right;\">\n",
       "      <th></th>\n",
       "      <th>Status</th>\n",
       "      <th>Subject</th>\n",
       "      <th>Body</th>\n",
       "    </tr>\n",
       "  </thead>\n",
       "  <tbody>\n",
       "    <tr>\n",
       "      <th>0</th>\n",
       "      <td>ham</td>\n",
       "      <td>rankings</td>\n",
       "      <td>thank you .</td>\n",
       "    </tr>\n",
       "    <tr>\n",
       "      <th>1</th>\n",
       "      <td>ham</td>\n",
       "      <td>visit to enron</td>\n",
       "      <td>vince , dec . 29 at 9 : 00 will be fine . i h...</td>\n",
       "    </tr>\n",
       "    <tr>\n",
       "      <th>2</th>\n",
       "      <td>ham</td>\n",
       "      <td>research group move to the 19 th floor</td>\n",
       "      <td>hello all : in case any of you feel energetic...</td>\n",
       "    </tr>\n",
       "    <tr>\n",
       "      <th>3</th>\n",
       "      <td>ham</td>\n",
       "      <td>christmas baskets</td>\n",
       "      <td>the christmas baskets have been ordered . we ...</td>\n",
       "    </tr>\n",
       "    <tr>\n",
       "      <th>4</th>\n",
       "      <td>ham</td>\n",
       "      <td>japan candidate</td>\n",
       "      <td>vince , i spoke with whalley at the sa offsit...</td>\n",
       "    </tr>\n",
       "    <tr>\n",
       "      <th>...</th>\n",
       "      <td>...</td>\n",
       "      <td>...</td>\n",
       "      <td>...</td>\n",
       "    </tr>\n",
       "    <tr>\n",
       "      <th>5850</th>\n",
       "      <td>spam</td>\n",
       "      <td>3 . 55 %</td>\n",
       "      <td>ha http : / / voj 2 hcdc . rote . espoeiur . ...</td>\n",
       "    </tr>\n",
       "    <tr>\n",
       "      <th>5851</th>\n",
       "      <td>spam</td>\n",
       "      <td>localized software , all languages available .</td>\n",
       "      <td>hello , we would like to offer localized soft...</td>\n",
       "    </tr>\n",
       "    <tr>\n",
       "      <th>5852</th>\n",
       "      <td>spam</td>\n",
       "      <td>instant branded software download</td>\n",
       "      <td>software sales http : / / francois . jetlow ....</td>\n",
       "    </tr>\n",
       "    <tr>\n",
       "      <th>5853</th>\n",
       "      <td>spam</td>\n",
       "      <td>localized software , all languages available .</td>\n",
       "      <td>hello , we would like to offer localized soft...</td>\n",
       "    </tr>\n",
       "    <tr>\n",
       "      <th>5854</th>\n",
       "      <td>spam</td>\n",
       "      <td>microsoft autoroute 2005 dvd uk - $ 19 . 95</td>\n",
       "      <td>discounted software store http : / / yielded ...</td>\n",
       "    </tr>\n",
       "  </tbody>\n",
       "</table>\n",
       "<p>5852 rows × 3 columns</p>\n",
       "</div>"
      ],
      "text/plain": [
       "     Status                                         Subject  \\\n",
       "0       ham                                        rankings   \n",
       "1       ham                                  visit to enron   \n",
       "2       ham          research group move to the 19 th floor   \n",
       "3       ham                               christmas baskets   \n",
       "4       ham                                 japan candidate   \n",
       "...     ...                                             ...   \n",
       "5850   spam                                        3 . 55 %   \n",
       "5851   spam  localized software , all languages available .   \n",
       "5852   spam               instant branded software download   \n",
       "5853   spam  localized software , all languages available .   \n",
       "5854   spam     microsoft autoroute 2005 dvd uk - $ 19 . 95   \n",
       "\n",
       "                                                   Body  \n",
       "0                                           thank you .  \n",
       "1      vince , dec . 29 at 9 : 00 will be fine . i h...  \n",
       "2      hello all : in case any of you feel energetic...  \n",
       "3      the christmas baskets have been ordered . we ...  \n",
       "4      vince , i spoke with whalley at the sa offsit...  \n",
       "...                                                 ...  \n",
       "5850   ha http : / / voj 2 hcdc . rote . espoeiur . ...  \n",
       "5851   hello , we would like to offer localized soft...  \n",
       "5852   software sales http : / / francois . jetlow ....  \n",
       "5853   hello , we would like to offer localized soft...  \n",
       "5854   discounted software store http : / / yielded ...  \n",
       "\n",
       "[5852 rows x 3 columns]"
      ]
     },
     "execution_count": 1197,
     "metadata": {},
     "output_type": "execute_result"
    }
   ],
   "source": [
    "df_enron2 = df_enron2[df_enron2['Body'] != ' ']\n",
    "df_enron2"
   ]
  },
  {
   "cell_type": "code",
   "execution_count": 1199,
   "metadata": {},
   "outputs": [
    {
     "name": "stdout",
     "output_type": "stream",
     "text": [
      "ham     4358\n",
      "spam    1494\n",
      "Name: Status, dtype: int64\n"
     ]
    },
    {
     "data": {
      "image/png": "[encoded data removed]",
      "text/plain": [
       "<Figure size 720x360 with 1 Axes>"
      ]
     },
     "metadata": {},
     "output_type": "display_data"
    }
   ],
   "source": [
    "sns.set(rc={'figure.figsize':(10,5)})\n",
    "ax=sns.countplot(x='Status', data=df_enron2)\n",
    "ax.set_xticklabels(ax.get_xticklabels())\n",
    "\n",
    "print(df_enron2.Status.value_counts().head())"
   ]
  },
  {
   "cell_type": "markdown",
   "metadata": {},
   "source": [
    "-----\n",
    "\n",
    "\n",
    "## 3.) Build a Naive Bayes classifier to classify whether emails are spam or not. \n",
    ">Enron2\n",
    "\n",
    "----"
   ]
  },
  {
   "cell_type": "markdown",
   "metadata": {},
   "source": [
    " <span style=\"font-family: Arial; font-size:1.4em;color:red;\"> Using only the Body </p>"
   ]
  },
  {
   "cell_type": "code",
   "execution_count": 1202,
   "metadata": {},
   "outputs": [],
   "source": [
    "from sklearn.model_selection import train_test_split, cross_val_score\n",
    "from sklearn.feature_extraction.text import TfidfVectorizer\n",
    "from sklearn.naive_bayes import GaussianNB\n",
    "\n",
    "X_train, X_test, y_train, y_test = train_test_split(df_enron2['Body'], df_enron2['Status'], test_size=0.3, random_state=42)"
   ]
  },
  {
   "cell_type": "code",
   "execution_count": 1203,
   "metadata": {},
   "outputs": [],
   "source": [
    "# Vectorizer\n",
    "tf = TfidfVectorizer(stop_words='english')"
   ]
  },
  {
   "cell_type": "code",
   "execution_count": 1204,
   "metadata": {},
   "outputs": [],
   "source": [
    "tf_X_train = tf.fit_transform(X_train)"
   ]
  },
  {
   "cell_type": "code",
   "execution_count": 1205,
   "metadata": {},
   "outputs": [
    {
     "data": {
      "text/plain": [
       "GaussianNB()"
      ]
     },
     "execution_count": 1205,
     "metadata": {},
     "output_type": "execute_result"
    }
   ],
   "source": [
    "G_classifier = GaussianNB()\n",
    "G_classifier.fit(tf_X_train.toarray(), y_train)"
   ]
  },
  {
   "cell_type": "markdown",
   "metadata": {},
   "source": [
    "-----\n",
    "\n",
    "\n",
    "## 4.) What is the longest ham email? \n",
    ">Enron2\n",
    "\n",
    "----"
   ]
  },
  {
   "cell_type": "code",
   "execution_count": 1214,
   "metadata": {
    "collapsed": true,
    "jupyter": {
     "outputs_hidden": true
    },
    "tags": []
   },
   "outputs": [
    {
     "name": "stdout",
     "output_type": "stream",
     "text": [
      "     Status                                            Subject   Body\n",
      "4099    ham  from the enron india newsdesk - april 27 th ne...  41275\n",
      "================================================================================================================================================================\n"
     ]
    },
    {
     "data": {
      "text/plain": [
       "' fyi news articles from indian press .   friday apr 27 2001 , http : / / www . economictimes . com / today / cmo 3 . htm dpc board empowers md to cancel mseb contract friday apr 27 2001 , http : / / www . economictimes . com / today / 27 compl 1 . htm mseb pays rs 134 cr under \\' protest \\' to dpc friday , april 27 , 001 , enron india md authorised to terminate ppa friday , april 27 , 2001 , http : / / www . financialexpress . com / fe 20010427 / topl . html foreign lenders slam brakes on disbursements to dpc , sanjay jog & raghu mohan global banks comfortable with enron pull - out friday , april 27 , 2001 , http : / / www . indian - express . com / ie 20010427 / nat 23 . html enron : dabhol chief gets powers to end deal with the mseb friday , april 27 , 2001 , http : / / www . the - hindu . com / stories / 0227000 d . htm offer of renegotiation \\' too late \\' : enron , by mahesh vijapurkar friday , 27 april 2001 , http : / / www . timesofindia . com / today / 27 home 2 . htm enron ready to pull out , but lenders say wait friday , april 27 , 2001 , http : / / www . hindubusinessline . com / stories / 142756 dh . htm dpc board authorises md to issue ppa termination notice friday , april 27 , 2001 , enron testing maharashtra \\' s nerves , t n raghunatha friday , april 27 , 2001 , http : / / www . telegraphindia . com / enron signal to switch off dabhol power friday , april 27 , 2001 , enron threatens to pull out friday , april 27 , 2001 , \\' dpc may not wind up \\' friday , april 27 , 2001 , enron offers \\' no comment \\' on renegotiation , h s rao http : / / www . afternoondc . com / \\' enron \\' s on ! \\' state govt . to renegotiate dabhol power project , by hubert vaz the economic times , friday apr 27 2001 dpc board empowers md to cancel mseb contract the enron power project crisis on thursday deepened with the board of dabhol power company authorising the management to issue a termination notice to the maharashtra state electricity board even while international lenders to the project asked enron to renegotiate power purchase agreement signed with the mseb . the decision to authorise managing director neil mcgregor to issue  termination on the contract to sell 740 mw of power  board prevented mseb from voting on the ground that it was an interested party . the decision was taken with six votes in favour and the single opposition vote was cast by idbi , sources said . according to reports , financial institutions such as anz investment bank , credit suisse first boston , citibank , abn - amro and the state bank of india have on wednesday advised enron against terminating its ppa with mseb . mseb chairman vinay bansal , who with two other directors attended the meeting on wednesday representing maharashtra \\x01 , s 15 per cent stake in the near $ 3 - billion project , said :  enron broke the contract .  decision , the sources said the indian side had expressed its interest to holds talks on the issue rather than terminating the project and there were possibilities of a fresh power purchase agreement between the company and the state . ( pti ) the economic times , friday apr 27 2001 mseb pays rs 134 cr under \\' protest \\' to dpc despite the threat of a possible termination notice hanging on its head , maharashtra state electricity board on thursday made a  rs 134 crore disputed amount , towards march bill of rs 146 . 64 crore to dabhol .  officials could not collect the cheque due to the statewide bandh \" , a senior mseb official said .  be now taken up at the disputes resolution forum , of which enron india managing director k wade cline and krishna rao are members \" , mseb sources said . last week , dpc had dashed off a communication to the government and mseb that it would not accept  major shall treat such payments as an election to pay the sums , which mseb in fact owed dpc in full and that the company would also not recognise the  bill in protest last month . on april 23 last , both domestic and international lenders of dpc had met in london and held exhaustive discussions the multinational \\' s move to issue a termination notice to mseb and state government . ( pti ) business standard , friday , april 27 , 001 enron india md authorised to terminate ppa the board of the enron - promoted dabhol power company ( dpc ) , at its meeting in london on wednesday , authorised the managing director of enron india to issue a notice for terminating the power purchase agreement to the maharashtra state electricity board and the state government . \\x01 & the board has authorised wade cline to serve the termination notice . however , this does not mean that the termination notice will be served immediately . it is only an enabling provision and will be used only if the situation arises , \\x01 8 a state government source told business standard from london . he said dpc was under pressure from its lenders . the dpc spokesperson here refused to comment on the issue . the hardening of the board \\x01 , s stand is in sharp contrast to the advice of dpc \\' s lenders , who had warned enron not to precipitate matters by issuing a termination notice . the lenders had arrived at a consensus that the termination notice need not be served at this stage . serving of the notice requires a nod from the lenders , who have an exposure of about $ 2 billion in the project . sources said given the lenders \\' strong opposition to termination of the contract , the enron board \\' s  conveying a hardening of its stand with regard to the current imbroglio . the maharashtra chief minister had warned enron not to scuttle the process of crisis resolution by issuing a termination notice . the state government is to nominate an expert group to renegotiate the terms of the dabhol contract . enron holds 65 per cent in dpc , while us - based ge and bechtel hold 10 per cent each . the balance 15 per cent is held by mseb through a special purpose vehicle , maharashtra power development corporation . the mseb representatives were not allowed to vote at the meeting since they were an interested party . the idbi representative protested against the board \\' s decision . the meeting was attended by state energy secretary vm lal . the meeting was held against the backdrop of a dispute between mseb and dpc over payment of bills . after mseb failed to pay rs 102 crore towards the december 2000 bill , dpc invoked the state government \\' s guarantee and then the union government \\' s counter guarantee . when payment of the rs 127 - crore january bill became overdue , dpc again invoked the state government \\' s guarantee . mseb retaliated on january 28 , 2001 by slapping a rs 401 - crore penalty for non - supply of electricity at adequate levels . it demanded that dpc adjust the bills against this penalty .  a state government official said . the centre also supported mseb \\' s stand and refused to honour the counter guarantee . the power company then invoked the political force majeure clause . a process of conciliation and arbitration between the centre and dpc is currently on . the financial express , friday , april 27 , 2001 foreign lenders slam brakes on disbursements to dpc , sanjay jog & raghu mohan global banks comfortable with enron pull - out lenders to the dabhol power company ( dpc ) are a sharply divided lot . international lenders , in direct contrast to the stand taken by local ones led by the the industrial develoment bank of india ( idbi ) , are categorical that additional assistance to dpc \\x01 , s phase - ii will be held in abeyance despite the completion of 92 per cent of the project work . the stage is also set for a preliminary termination notice to be served by dpc to the maharashtra state electricity board ( mseb ) within the next four weeks . this follows the authorisation given to enron india \\x01 , s managing director k wade cline and dpc president & ceo neil mcgregor to serve the termination notice , and transfer notices to mseb , following wednesday \\x01 , s dpc board meeting in london . the essence of the message from the international lenders following the london meeting with dpc board is : emotions do not work . contractual obligations and payments have to be met . we are convinced that the mseb has failed to meet its obligations . there is no point in enron continuing with the project and the company should get out of it . the structuring of dpc \\x01 , s debt has created two classes of lenders . in phase - i , international lenders are covered by a sovereign guarantee while in phase - ii , no lender is . however , all lenders have a parri passu charge , making attachment of assets a messy affair . sources in international banks were quick to point out that local lenders to phase - ii of the project are worried that an awry dpc project will affect their interests more given that they have no security \\x01 * other than assets \\x01 * like a sovereign cover . \\x01 & it was this desperation that made local lenders like idbi slash the interest rates a few months back to 16 . 5 per cent from 21 . 5 per cent , \\x01 8 a leading foreign banker pointed out . three points that were made clear and stressed in no uncertain terms by international lenders were : a ) there are contractual obligations b ) mseb was not punctual in its payments to dpc and c ) mseb adopted a confrontational position by slapping a rs 401 crore rebate charge on dpc for misdeclaration and default on the availability of power . while local lenders led by idbi \\x01 * with mseb parroting the same \\x01 * were of the view that the current situation is a temporary one , international lenders were steadfast that pulling out of the project is the only way out . this is despite the stance taken by idbi and mseb that authorisation for termination given to mr cline and mr mcgregor was not called for . international bankers pointed out that they will now have to look at the issue of charges and protection for their loans in the event of the power project being scrapped in its present form . the points of contention are : a ) that phase - i of dpc is backed by a sovereign guarantee b ) phase - ii is not and c ) to the extent that phase - ii is covered by assets , cancellation of phase - ii may see all assets \\x01 * even those under phase - i \\x01 * getting attached . therefore , an examination on the segregation of assets under phase - i and phase - ii is now warranted . pti adds : in a significant move , dpc board has empowered its management to sever power supply agreement with mseb , a move that could inflict a financial liability of about rs 2840 crore on the centre . a decision to authorise dpc president neil mcgregor to issue a termination notice to mseb for sale of power was taken by the board at its meeting on wednesday . the indian express , friday , april 27 , 2001 enron : dabhol chief gets powers to end deal with the mseb the board of dabhol power company , a subsidiary of houston - based enron corp , has decided to warn the maharashtra state electricity board ( mseb ) that it intends to pull the plug on its guhagar - based project . in a board meeting held in london on wednesday , the board decided to authorise dpc president and ceo neil mcgregor and enron india \\x01 , s managing director k wade cline to serve a \\x01 + \\x01 + preliminary \\x01 , \\x01 , termination notice for sale of power to the mseb within the next four weeks . the dabhol project has been mired in disputes since mseb began missing payments last year . mseb owes dabhol power $ 48 million for power delivered in december and january . the payment ran into a dispute after mseb slapped penalty notices of rs 401 crore on dpc for its failure to supply power within three hours of the demand being placed . but mseb has paid $ 24 million for february . and a payment of $ 31 million was made for march on thursday . the $ 3 billion dabhol project is the largest foreign investment made in india to date . issuing the preliminary termination notice could enable dabhol to suspend deliveries as it negotiates payment disputes . while a preliminary termination notice is the first of three steps that could potentially lead to the abandonment of the project by enron , analysts have described the decision as a \\x01 + \\x01 + procedural \\x01 , \\x01 , move consistent with dpc \\x01 , s negotiating strategy to recover overdue payments from the mseb . after the company issues the preliminary termination notice , step two would be an official termination notice , and step three would be a notice that the company is surrendering control of the project . if the project is terminated , the government of india will have to take a hit of $ 300 million besides paying bills of rs 1 , 500 crore for the next one year to enron as penalty . \\x01 + \\x01 + our ( centre \\x01 , s ) liability , if dabhol power project is terminated , would be one year \\x01 , s electricity bill and a termination fee of $ 300 million , \\x01 , \\x01 , power secretary a k basu said . \\x01 + \\x01 + contractually , the centre will have to pay one year \\x01 , s electricity bill , totalling at present prices about rs 1 , 400 - 1 , 500 crore , and take over dpc \\x01 , s debt , which stands at around $ 300 million , if the project was terminated , \\x01 , \\x01 , basu said in delhi . dabhol power is in the process of completing the second phase of the 2 , 184 - megawatt power - plant project , which is 95 per cent through . while the international lenders to the project are pressurising the company to get out of the project , indian lenders , led by idbi , are asking the company to reconsider its decision on its termination notice . during the meeting in london , mseb which holds a 15 per cent stake in the project , had strongly opposed dpc \\x01 , s move to authorise cline and mcgregor to issue notices for termination . mseb chairman vinay bansal and technical director prem paunikar \\x01 * both directors on the dpc board \\x01 * and the state principal secretary ( energy ) vm lal , an invitee to the board , raised the issue at the board meeting in london . mseb claimed that dpc was needlessly \\x01 + \\x01 + threatening \\x01 , \\x01 , to issue various arbitration notices and thereby interpreting the clauses of ppa in isolation . in recent weeks , dabhol has raised the stakes in its spat with the mseb , delivering a notice of political force majeure to maharashtra \\x01 * a step typically invoked to dissolve a contract in case of an emergency like a war , coup , or a similar radical political event . in this case , dpc \\x01 , s move was viewed as a threat to stop providing electricity . dpc has come under fire because of the relatively high cost of its power . critics object to the company charging rs 7 . 1 a kilowatt - hour for its power , compared with around rs 1 . 5 a kilowatt - hour charged by other suppliers . the hindu , friday , april 27 , 2001 offer of renegotiation \\' too late \\' : enron , by mahesh vijapurkar mumbai , april 26 . the enron - sponsored dabhol power company , which last night authorised its local management to issue a notice of termination of its power purchase agreement ( ppa ) with the maharashtra state electricity board , has decided to keep a stiff upper lip . this , in turn , has stoked speculation that the switching off of power from its phase i plant was imminent , while in reality , a lengthy procedure has to be followed as prescribed within the ppa . as one source familiar with the ppa told the hindu , ` ` it is not sudden death of the project \\' \\' and in all probability , the dpc , vexed with the developments , including sharp and pointed observations by the godbole committee , has chosen to only arm itself with a serious option . ` ` this would only eventually come into effect . it is not an overnight operation and a lot of legal work is involved \\' \\' . apparently , the dpc intends to do some arm - twisting . at the board of directors meeting in london , which maharashtra was initially disinclined to attend but later used the forum to put across its contentions on the project , the dpc squarely told the mseb nominees on the board that the offer of renegotiation had come rather ` ` too late \\' \\' . it also said it did not see any room for optimism about the outcome . it did not , however , rule out the option of talks , thus underscoring the possibility that the decision to authorise termination was a new weapon . the maharashtra chief minister , mr . vilasrao deshmukh , had hoped that dpc would not take any ` ` harsh step \\' \\' which would cause lot of damage to the interests of both the independent power producer and the government and today he expressed his dismay . in fact , the mandate of the team that went , on the strength of its stake in the dpc , was to put across the idea that negotiation was the requirement and not confrontation . echo in ls the enron issue also echoed in the lok sabha today where the power minister , mr . suresh prabhu , said that scrapping of the agreement would cost the centre rs . 2 , 840 crores , whose liability in the project agreement was limited . the centre \\' s liability in case of termination is one year \\' s electricity bill and a termination fee of $ 300 million . blow to fis the termination could prove to be a serious blow to the indian financial institutions ( fis ) which , under the leadership of the idbi , were trying to convince the other lenders of the project against the notice . the exposure of indian fis in the project is understood to be not covered by any guarantee either of the centre or the state . the times of india , friday , 27 april 2001 enron ready to pull out , but lenders say wait the dabhol power company board , which met on wednesday in london , authorised the company management to issue a termination notice to the maharashtra state electricity board . the company , however , may not pull out of the project yet , considering its lenders , who met on monday , opposed such a move and favoured renegotiations . sources present during both the meetings said that though foreign lenders supported enron on the termination issue , domestic financial institutions , led by the industrial development bank of india , prevailed over the deliberations to oppose any such drastic move . enron needs the lenders \\' consent to file a pre - termination notice for pulling out from the project . the decision to empower dpc chief wade cline to issue a termination notice was taken with six votes in favour against a single idbi vote against such a move . another significant development during the entire proceedings was that the financial institutions made it clear that further funding of phase ii of the project will depend on the government of india assuring payment mechanisms . institutions are yet to disburse about 30 per cent of the sanctioned package , which is crucial for completing the phase ii expansion project . ` ` the board has given powers to wade cline to issue a pre - termination notice . but the meeting quite unanimously felt the need of the hour is not to terminate the project but to initiate serious re - negotiation proceedings , \\' \\' said mseb chairman vinay bansal , who attended the board meeting . ` ` mseb presented their views to the board members and it was understood by enron which also included the rs 401 crore penalty issue which is heading for arbitration proceedings . ` ` we have also made it clear that the tariff structure of enron is quite high and a downward revision of tariffs is unavoidable ,  ` ` they cannot issue a termination notice without our consent since our exposure in the project is quite large and the lenders should approve any plans in that direction , \\' \\' said a top banker who was present during the lenders \\' meet . ` ` there is a general consensus that the project must be completed and the proposal to terminate the ppa should be kept in abeyance , \\' \\' he added . the global arrangers for the dpc include anz investment bank , credit suisse first boston , abn - amro , citibank and the state bank of india , where all these parties conducted separate meetings with the company officials . however , some bankers said the company can file a termination notice even if one lender with a minimum 5 per cent exposure on the project favours such proceedings . meanwhile , in a clear reversal of roles , maharashtra chief minister vilasrao deshmukh said that the state government was not keen on terminating the ppa . ` ` we will ask them to refrain from taking any such harsh steps since that would be bad news for all of us , including dpc , \\' \\' deshmukh said . deshmukh was echoing union power minister suresh prabhu \\' s sentiments , who said that the government wanted an amicable settlement of the payment row . he , however , added that termination of the project would not hurt foreign investments , and dismissed warnings by analysts that winding up the $ 2 . 9 billion project would be a blow to india \\' s efforts to woo foreign investors . the dpc has already slapped one conciliation notice on the centre and three arbitration notices on the state government over non - payment of dues amounting to rs 213 crore and interest towards the bills due for december 2000 and january 2001 . meanwhile , mseb officials said in mumbai that the march bills amounting to rs 134 crore was paid on thursday as protest payment , despite the dispute over the amount . when asked on the future course of action , bansal said it was up to the dpc . the hindu businessline , friday , april 27 , 2001 dpc board authorises md to issue ppa termination notice the board of directors of dabhol power company ( dpc ) has authorised the managing director , mr neil mcgregor , to issue the notice of intent to terminate its power purchase agreement ( ppa ) with the maharashtra state electricity board ( mseb ) ` ` at an appropriate time \\' \\' . the decision was taken at a board meeting held in london yesterday . ` ` while mseb , which is an ` interested party \\' , was not allowed to vote , it made a presentation clarifying its stand on the matter , \\' \\' a senior state government official said . the resolution to authorise the management to issue the termination notice was carried by six votes to one . idbi voted against the decision , the official said . the serving of the preliminary termination notice will lead to a six - month ` ` suspension period \\' \\' . according to clause 17 . 8 of the termination procedure , of the ppa : ` ` following the giving of a preliminary termination notice , the parties shall consult for a period of six months ( or such longer period as they may agree ) as to what step shall be taken with a view to mitigating the consequences of the relevant event having regard to all the circumstances . . . \\' \\' idbi and state bank of india , the principal indian lenders , had earlier persuaded the overseas lenders to hold their consent to the termination notice for some more time . at least one lender has to consent for the company to serve termination notice . it is understood that overseas lenders are in favour of termination of the project and are prepared to consent . however , domestic lenders are worried about the security of their advances if the ppa is abandoned mid - way . according to institutional sources , indian lenders are trying to get all the parties concerned to thrash out outstanding issues . the maharashtra and central governments too are in favour of a conciliation . mr vilasrao deshmukh , chief minister of maharashtra , yesterday went on record that the state did not want the project terminated . mr yashwant sinha , union finance minister , is also understood to be of the same opinion . ` ` the dpc will now have to decide what is the ` appropriate time \\' to serve the notice , \\' \\' the official said . mseb pays rs 134 crore : meanwhile , mseb has paid dpc rs 134 crore towards its march 2001 bill . mseb officials confirmed that the bill was paid ` in protest \\' \\' today morning . ` ` they ( dpc ) had billed us for an amount of rs 146 crore . we do not agree with some of the items included , \\' \\' a senior mseb official said . the pioneer , friday , april 27 , 2001 enron testing maharashtra \\' s nerves , t n raghunatha dabhol power company ( dpc ) has begun to put fresh pressure on the maharashtra state electricity board ( mseb ) , the maharashtra state government and the centre for an early resolution to the prolonged dispute between them , if the dpc board of directors \\' decision to authorise its managing director to serve a contract termination notice to the mseb is any indication . the dpc board , in its meeting in london on wednesday , empowered the company management to sever its power supply agreement with mseb , a move that could inflict a financial liability of rs 2 , 840 crore on the centre . the decision to authorise the dpc management to issue a termination notice to mseb was taken by a vote of six to one after the maharasthra government representatives were prevented from voting on the ground of  party \" . when contacted , the company \\' s mumbai - based spokesperson , mr jimmy mogal , declined to comment on the reports about the decision taken by the dpc board .  our views after a few days ,  vilasrao deshmukh on thursday termed the dpc board \\' s decision as  decision \" , mr deshmukh said in mumbai . official sources in the state energy ministry interpreted the dpc board \\' s decision as a pressure tactic employed by the enron subsidiary to force the mseb to clear the pending power bills without any further delay . through its tough posture , the dpc wants to make its position stronger before it can formally agree for re - negotiations with the mseb , the centre and the state government for cutting the price of power supplied by it to the state electricity board . the sources said that the dpc \\' s reported decision to authorise its managing director to stop electricity supply to the mseb did not mean that the enron subsidiary would actually go ahead with the scrapping of the power contract with the mseb .  the mseb for clearance of pending power bills and put itself in a stronger position in settling its dispute with the mseb . as part of its plan to arm itself with powers to break a contract in case situation goes beyond its control , the dpc had recently served a political force majeure to the mseb , the centre and the state government ,  dpc \\' s london decision comes on the heels of the maharashtra government \\' s decision to set up a high - level committee , comprising representatives of the mseb , the centre and the state government to re - negotiate with the enron \\' s subsidiary company for reducing the cost of power supplied to the state electricity board . meanwhile , amidst the threat of a possible termination notice hanging on its head , the mseb on thursday made a  the rs 134 crore disputed amount towards march bill of rs 146 . 64 crore to dpc . riday , april 27 the telegraph , friday , april 27 , 2001 enron signal to switch off dabhol power enron today took the first decisive step out of the controversy - ridden dabhol power company when it won an authorisation from the company \\x01 , s board to stop sale of power to maharashtra state electricity board ( mseb ) . the meeting of the company , of which the houston - based energy giant holds 65 per cent and the mseb 15 per cent , was attended by state energy secretary v m lal and mseb technical director p paunikar and it came days after its lenders discussed payment problems and a possible termination . the centre \\x01 , s liability , if enron decides to snap the agreement , will be a year \\x01 , s power bill and a termination fee of $ 300 million . however , the company will have to wait for six months from the day it serves the notice before it pulls the plug . the centre shrugged off the move , saying there would not be any adverse effect on foreign investment in power if enron walks out . \\x01 & we do not see fdi inflows into the power sector being hit , \\x01 8 power minister suresh prabhu said . mseb officials said the ball is now in the court of dpc , which said its corporate policy did not allow it to comment on proceedings at board meetings . the decision coincided with a rs 134 - crore \\x01 + protest payment \\x01 , by the cash - strapped power board as part of the march bill worth rs 146 . 64 crore . there was speculation that mseb coughed up the amount to cool frayed tempers at enron \\x01 , s hub in houston , and because it was rattled by the sudden turn of events in the past few days during which the dispute had come to a head . mseb officials brushed away the allusions , saying the cheque was ready on wednesday but could not be handed over to dpc because of the state - wide bandh . \\x01 & we have a disputed payment of rs 12 . 64 crore , which will be taken up at the dispute - resolution forum , \\x01 8 a board official said . last week , dpc told the state government and mseb it would no longer accept protest payments in a move to fortify its legal position . mseb officials say bechtel and general electric , the other partners who hold around 20 per cent in dpc , are willing to go along with enron corp in terminating the deal but financial institutions such as idbi are not game because it puts their loans at risk . investments made by indian institutions are not covered under the centre \\x01 , s and state \\x01 , s counter - guarantees , unlike those made by international lenders . maharashtra chief minister vilasrao deshmukh called enron \\x01 , s decision unfortunate . \\x01 & we had told state government officials attending the enron board meeting to stop the company from winding up its operations in the state as it will harm both parties . \\x01 8 the statesman , friday , april 27 , 2001 enron threatens to pull out the enron crisis deepened with the board of directors of the dabhol power company deciding to authorise the managing director , mr k wade cline , to serve a notice of termination on the contract for the first phase of the $ 2 . 9 billion power project . the decision , which could lead to the cessation of dabhol \\x01 , s power supply to the state , was taken at the meeting held yesterday in london according to reports quoting the chairman of the maharashtra state electricity board , mr vinay bansal . while dpc officials refuse to comment on anything , it is learnt that mseb was itself prepared to serve a legal notice of termination just two days before the meeting . mseb was said to have been dissuaded by the nationalist congress party president , mr sharad pawar , and union power minister mr suresh prabhu , who had talks in new delhi with the maharashtra chief minister , mr vilasrao deshmukh , and an mseb delegation last monday . the state government has been served two arbitration notices while the centre is ready to go for conciliation with the dpc for failing to honour its counter - guarantee . further , the dpc has already slapped a notice of political force majeure which protects itself against undeserved claims in the event of exigencies that force it to take an extreme step . the union power minister , mr suresh prabhu , contended in delhi that since dpc contributed only 0 . 7 per cent of the total energy output of the country , its termination would not have such a phenomenal impact on the power situation . however , if terminations proceedings go through , enron corp , a 65 per cent share - holder in the dabhol power company , would stand to net a hefty amount in damages . the union power secretary has been quoted as saying that termination of the dpc would cost the centre rs 1 , 800 crore , which is the total of one years \\x01 , electricity bill and a termination fee of $ 300 million . according to an energy analyst , mr pradyumna kaul , the total liability would not cross rs 350 crore . however mr prabhu said in the lok sabha today that the that scrapping of the agreement would cost the centre rs 2 , 840 crore . it is learnt that on 20 april , mr deshmukh had given the go - ahead to the mseb to prepare a legal notice to be issued to enron during the meeting of the dpc \\x01 , s board of directors on wednesday . at the meeting , the energy minister , padamsinh patil , energy secretary , mr vinay mohan lal and mseb chairman mr vinay bansal , were also present . the notice was prepared over the past weekend and taken by the delegation when they called on mr prabhu on 24 april . however , the politicians convinced them that enron would not get tough , given its huge stake in the project , and that such a notice would not be necessary . the meeting thus ended with the decision to renegotiate the power tariff , with enron \\x01 , s consent . among those present at the london meeting were mr lal , mr bansal and mseb technical director , mr p paunikar , in their capacity as directors . however , they abstained from voting since they were deemed an interested party . the only vote to go against the decision was that of the idbi which is also represented on the board , it is learnt . the chief minister , mr vilasrao deshmukh , said the state was not in favour of terminating the project . this could mean that the latest manoeuvre to arm - twist the indian authorities could achieve its immediate target of getting the arrears accumulated over the past three months cleared . the mseb owes enron rs 146 . 64 crore for march 2001 and rs 229 crore for december 2000 and january 2001 . the centre today put up a brave face on enron \\x01 , s decision saying there would not be any adverse effect on foreign investment in power sector in the country , pti reported from new delhi . \\x01 & there will be no adverse impact as a result of any action by any domestic or foreign company . as far as we are concerned there will be no adverse impact on fdi in power sector , \\x01 8 power minister suresh prabhu told reporters when asked about dpc \\x01 , s decision to authorise management to issue a termination notice to mseb . emphasising that there would be no fallout of such decision , prabhu said after the meeting of the cabinet committee on economic affairs \\x01 & we are expecting cooperation from many scandinavian countries as well as european nations in the power sector . \\x01 & in fact not only the power minister but also the prime minister of norway was here to inaugurate a seminar on power and he promised lot of cooperation in the sector . \\x01 8 mid day \\' dpc may not wind up \\' maharashtra chief secretary v ranganathan has said that though neil mcgregor , managing director of the dabhol power corporation ( dpc ) , has been given complete powers with regard to dpc \\' s operations in the state , including the authority to wind up operations , it does not necessarily mean that mcgregor will issue such a termination notice . mcgregor was given the powers at a meeting of the dpc board in london on wednesday . ranganathan said that state officials , including maharashtra state electricity board ( mseb ) chairman vinay bansal and power secretary v m lal , have reported back to him about the meeting in london . with regard to the state \\' s failure to pay enron , ranganathan said ,  are prepared as per the power purchase agreement ( ppa ) and dpc owes some money to us . our people informed enron officials about this . . in fact , there was no reason to give powers to the md to slap a termination notice .  london meeting , mseb and industrial development bank of india ( idbi ) representatives insisted that the dpc must pay rs 411 crore since it could not supply power whenever needed . chief minister vilasrao deshmukh has already termed as unfortunate the decision of the board of the enron - promoted dpc to give mcgregor powers to wind up operations . deshmukh added ,  take any harsh decision .  government officials attending the dpc board meeting to desist the energy company from winding up operations in the state , as it would be harmful to both of us . \" enron officials are keeping mum on the issue . mcgregor said ,  to give any comment . \" mid day , april 27 , 2001 enron offers \\' no comment \\' on renegotiation , h s rao a crucial meeting of the board of directors of the dabhol power company ( dpc ) , promoted by the us energy major enron , was held here yesterday apparently to discuss fate of its $ 900 - million power project in maharashtra , but there was no official word on the indian and state governments \\' decision to renegotiate the contract . an enron spokesman declined to divulge what transpired at the meeting , saying the issues discussed at the meeting were \\' confidential \\' .  received any direct communication . unless we get it and evaluate the details , we have no comments to make ,  proposed decision on re - negotiation of the project in which the maharashtra state electricity board ( mseb ) has 15 per cent stake . asked whether the board had taken a decision on empowering dpc managing director neil mcgregor to wind up its operations in india , the spokesman said he had nothing to say on them . enron has reportedly authorised mcgregor to look at various options including selling the company \\' s stake in dpc . maharashtra chief minister vilasrao deshmukh said in mumbai that the state government would pay up the undisputed dues to the company . he said the maharashtra government  but wanted an amicable solution to the imbroglio . \" mid day , friday , april 27 , 2001 , committee to renegotiate enron deal a committee to renegotiate the power purchase agreement with the dabhol power company will be appointed by this evening , chief minister vilasrao deshmukh said today . addressing media persons after his meeting with the noted social reformer anna hazare at his official residence varsha , deshmukh said the committee would be formed by this evening or by tomorrow , at the most . he termed as unfortunate the enron board decision empowering dpc chief neil mcgregor to serve a preliminary termination notice on the maharashtra state electricity board and said the state was willing to negotiate the issue with power company .  committee and the center will also depute its representative on the renegotiating committee . we don \\' t want to take any hasty decision ,  saidhe pointed that the only bone of contention with the dpc had been its expensive tariff and hoped that the issue would be resolved amicably . when pointed that the enron board had taken a decision to serve the notice despite state \\x0f 9 s willingness to appoint a renegotiating committee , chief minister said it was unfortunate . earlier , in his meeting with hazare , deshmukh promised to make necessary amendments to the right to information law recently passed by the state so that the information was easily accessed by the common people . he also gave a patient hearing to hazare on his complaints of corruption in various state departments and promised action against guilty after a thorough inquiry within three months . afternoon , april 27 , 2001 \\' enron \\' s on ! \\' state govt . to renegotiate dabhol power project , by hubert vaz the us power giant , enron power corporation \\' s willingness to wrap up the dabhol power project and leave the shores may not actually materialise , though the dabhol power company chief , mr . wade cline , has been authorised to do so , since the lenders for the project would have a decisive say in the matter . disclosing this , chief minister vilasrao deshmukh confirmed this morning that the state government would churn out a compromise formula by which the power project at dabhol could be continued , and at the same time enron did not feel slighted .  waiting for their letter ,  state government plans to forge , mr . deshmukh said ,  back . after that we will decide a future course of action . but we are definitely going in for renegotiation of the project . it is very difficult to predict the outcome of enron \\' s decision but as of now the project is still on .  up from maharashtra , mr . deshmukh said , that was not possible as per the terms of the agreement between the us company and the state government . however , it was difficult for the project to move out of the state itself , he indicated . he also confirmed that both parties would face considerable losses if the project was terminated . the board of directors of the dabhol power company , which met in london on wednesday , decided to put an end to all controversies surrounding the project once and for all by empowering the dpc chief to terminate the project , if he deemed it fit . however , this decision , as of now , does not necessarily indicate the death knell for the project . the enron project , which had been riddled with controversies right from its inception , had been a pretext for the political parties in the state to drag each other on the mat from time to time . the previous sena - bjp government , which had been out to terminate the project , however , chose to continue with it following renegotiations with enron \\' s top visiting officials like ms . rebecca mark . and , the democratic front government inherited the controversial project when the governments changed hands a year and a half ago . meanwhile , state energy minister dr . padamsinh patil , when contacted at the osmanabad circuit house , said the state government and the central government have decided to appoint a joint committee to renegotiate the project with enron .  they will have to go in for litigation and this would prove costly for both sides ,  manage the power needs of the state , though it would be a bit tough job , he added .'"
      ]
     },
     "execution_count": 1214,
     "metadata": {},
     "output_type": "execute_result"
    }
   ],
   "source": [
    "# Make the df_enron2 dataframe\n",
    "df_enron2 = main('data/enron-data/enron2')\n",
    "\n",
    "\n",
    "# Return the length of the body for ham status\n",
    "def length(column):\n",
    "    status = column[0]\n",
    "    body = column[2]\n",
    "    if status == 'ham':\n",
    "        return len(body)\n",
    "    return body\n",
    "\n",
    "df_enron2['Body'] = df_enron2.apply(length, axis=1)\n",
    "\n",
    "\n",
    "# Make the ham dataframe containing only the ham status\n",
    "ham = df_enron2[df_enron2['Status'] == 'ham']\n",
    "\n",
    "\n",
    "# Get the max length of the body\n",
    "max_len_body = ham.Body.max()\n",
    "\n",
    "\n",
    "# Get the index of the longest body\n",
    "print(ham[ham['Body'] == max_len_body])\n",
    "\n",
    "print('='*160)\n",
    "\n",
    "# Make the df_enron1 dataframe again and find the index with longest ham email\n",
    "df_enron2 = main('data/enron-data/enron2')\n",
    "\n",
    "df_enron2 = pd.DataFrame(df_enron2)\n",
    "df_enron2.iloc[4099].Body"
   ]
  },
  {
   "cell_type": "markdown",
   "metadata": {},
   "source": [
    "-----\n",
    "\n",
    "\n",
    "## 5.) What is the accuracy of your model? \n",
    ">Enron2\n",
    "\n",
    "----"
   ]
  },
  {
   "cell_type": "markdown",
   "metadata": {},
   "source": [
    " <span style=\"font-family: Arial; font-size:1.4em;color:red;\"> Using 10-fold cross-validation </p>"
   ]
  },
  {
   "cell_type": "code",
   "execution_count": 1221,
   "metadata": {},
   "outputs": [
    {
     "name": "stdout",
     "output_type": "stream",
     "text": [
      "(1756, 31591)\n",
      "Accuracy: 92.82 percent\n"
     ]
    }
   ],
   "source": [
    "tf_X_test = tf.transform(X_test)\n",
    "\n",
    "scores = cross_val_score(G_classifier, tf_X_test.toarray(), y_test, cv=10)\n",
    "acc = scores.mean()\n",
    "print(tf_X_test.shape)\n",
    "print(\"Accuracy: %0.2f percent\" % (acc *100))"
   ]
  },
  {
   "cell_type": "code",
   "execution_count": 1222,
   "metadata": {},
   "outputs": [],
   "source": [
    "y_test = pd.DataFrame(y_test)\n",
    "\n",
    "df = pd.DataFrame(X_test).merge(y_test, left_index=True, right_index=True)\n",
    "df = df.mask(df == 0, df.max(axis=1), axis=0)\n",
    "\n",
    "df['PRED'] = G_classifier.predict(tf_X_test.toarray())"
   ]
  },
  {
   "cell_type": "code",
   "execution_count": 1223,
   "metadata": {},
   "outputs": [
    {
     "data": {
      "text/html": [
       "<div>\n",
       "<style scoped>\n",
       "    .dataframe tbody tr th:only-of-type {\n",
       "        vertical-align: middle;\n",
       "    }\n",
       "\n",
       "    .dataframe tbody tr th {\n",
       "        vertical-align: top;\n",
       "    }\n",
       "\n",
       "    .dataframe thead th {\n",
       "        text-align: right;\n",
       "    }\n",
       "</style>\n",
       "<table border=\"1\" class=\"dataframe\">\n",
       "  <thead>\n",
       "    <tr style=\"text-align: right;\">\n",
       "      <th></th>\n",
       "      <th>Body</th>\n",
       "      <th>Status</th>\n",
       "      <th>PRED</th>\n",
       "    </tr>\n",
       "  </thead>\n",
       "  <tbody>\n",
       "    <tr>\n",
       "      <th>3289</th>\n",
       "      <td>vince , i have made bold face edits to the at...</td>\n",
       "      <td>ham</td>\n",
       "      <td>ham</td>\n",
       "    </tr>\n",
       "    <tr>\n",
       "      <th>2879</th>\n",
       "      <td>strategy please ignor my previous mail regard...</td>\n",
       "      <td>ham</td>\n",
       "      <td>ham</td>\n",
       "    </tr>\n",
       "    <tr>\n",
       "      <th>2999</th>\n",
       "      <td>jennifer . n . stewart @ enron . com i don ' ...</td>\n",
       "      <td>ham</td>\n",
       "      <td>ham</td>\n",
       "    </tr>\n",
       "    <tr>\n",
       "      <th>23</th>\n",
       "      <td>aidan , yes , this will work for us . vince  ...</td>\n",
       "      <td>ham</td>\n",
       "      <td>ham</td>\n",
       "    </tr>\n",
       "    <tr>\n",
       "      <th>1076</th>\n",
       "      <td>note : you will receive this message each tim...</td>\n",
       "      <td>ham</td>\n",
       "      <td>ham</td>\n",
       "    </tr>\n",
       "    <tr>\n",
       "      <th>...</th>\n",
       "      <td>...</td>\n",
       "      <td>...</td>\n",
       "      <td>...</td>\n",
       "    </tr>\n",
       "    <tr>\n",
       "      <th>2379</th>\n",
       "      <td>as a reminder , ena \u0001 , s policy regarding re...</td>\n",
       "      <td>ham</td>\n",
       "      <td>ham</td>\n",
       "    </tr>\n",
       "    <tr>\n",
       "      <th>1514</th>\n",
       "      <td>thanks for your message . a call sometimes be...</td>\n",
       "      <td>ham</td>\n",
       "      <td>ham</td>\n",
       "    </tr>\n",
       "    <tr>\n",
       "      <th>3835</th>\n",
       "      <td>christie , great ! ! you think big . it also ...</td>\n",
       "      <td>ham</td>\n",
       "      <td>ham</td>\n",
       "    </tr>\n",
       "    <tr>\n",
       "      <th>4584</th>\n",
       "      <td>this is not spam . thanks for posting to our ...</td>\n",
       "      <td>spam</td>\n",
       "      <td>ham</td>\n",
       "    </tr>\n",
       "    <tr>\n",
       "      <th>1058</th>\n",
       "      <td>that this email constitutes your groups ( vin...</td>\n",
       "      <td>ham</td>\n",
       "      <td>ham</td>\n",
       "    </tr>\n",
       "  </tbody>\n",
       "</table>\n",
       "<p>1756 rows × 3 columns</p>\n",
       "</div>"
      ],
      "text/plain": [
       "                                                   Body Status PRED\n",
       "3289   vince , i have made bold face edits to the at...    ham  ham\n",
       "2879   strategy please ignor my previous mail regard...    ham  ham\n",
       "2999   jennifer . n . stewart @ enron . com i don ' ...    ham  ham\n",
       "23     aidan , yes , this will work for us . vince  ...    ham  ham\n",
       "1076   note : you will receive this message each tim...    ham  ham\n",
       "...                                                 ...    ...  ...\n",
       "2379   as a reminder , ena \u0001 , s policy regarding re...    ham  ham\n",
       "1514   thanks for your message . a call sometimes be...    ham  ham\n",
       "3835   christie , great ! ! you think big . it also ...    ham  ham\n",
       "4584   this is not spam . thanks for posting to our ...   spam  ham\n",
       "1058   that this email constitutes your groups ( vin...    ham  ham\n",
       "\n",
       "[1756 rows x 3 columns]"
      ]
     },
     "execution_count": 1223,
     "metadata": {},
     "output_type": "execute_result"
    }
   ],
   "source": [
    "df"
   ]
  },
  {
   "cell_type": "markdown",
   "metadata": {},
   "source": [
    " <span style=\"font-family: Arial; font-size:1.4em;color:red;\"> Model is pretty wow good </p>"
   ]
  },
  {
   "cell_type": "code",
   "execution_count": 1224,
   "metadata": {},
   "outputs": [
    {
     "name": "stdout",
     "output_type": "stream",
     "text": [
      "              precision    recall  f1-score   support\n",
      "\n",
      "         ham       0.96      0.98      0.97      1321\n",
      "        spam       0.94      0.88      0.91       435\n",
      "\n",
      "    accuracy                           0.96      1756\n",
      "   macro avg       0.95      0.93      0.94      1756\n",
      "weighted avg       0.96      0.96      0.96      1756\n",
      "\n"
     ]
    },
    {
     "data": {
      "image/png": "[encoded data removed]",
      "text/plain": [
       "<Figure size 720x360 with 2 Axes>"
      ]
     },
     "metadata": {},
     "output_type": "display_data"
    }
   ],
   "source": [
    "from sklearn import metrics\n",
    "from sklearn.metrics import classification_report\n",
    "\n",
    "cm = metrics.confusion_matrix(y_test, G_classifier.predict(tf_X_test.toarray()))\n",
    "\n",
    "ax= plt.subplot()\n",
    "sns.heatmap(cm, annot=True, fmt='g', ax=ax, cmap=\"YlGnBu\");  #annot=True to annotate cells, ftm='g' to disable scientific notation\n",
    "\n",
    "# labels, title and ticks\n",
    "ax.set_xlabel('Predicted labels');ax.set_ylabel('Actual labels'); \n",
    "ax.set_title('Using only the Body'); \n",
    "ax.xaxis.set_ticklabels(['Ham', 'Spam']); ax.yaxis.set_ticklabels(['Ham', 'Spam']);\n",
    "\n",
    "print(classification_report(y_test, G_classifier.predict(tf_X_test.toarray())))"
   ]
  },
  {
   "cell_type": "markdown",
   "metadata": {},
   "source": [
    " <span style=\"font-family: Arial; font-size:1.4em;color:red;\"> Let's try this out! </p>"
   ]
  },
  {
   "cell_type": "code",
   "execution_count": 1226,
   "metadata": {},
   "outputs": [
    {
     "data": {
      "text/plain": [
       "array(['spam', 'ham'], dtype='<U4')"
      ]
     },
     "execution_count": 1226,
     "metadata": {},
     "output_type": "execute_result"
    }
   ],
   "source": [
    "examples = ['Free Viagra now!!!', 'Hi Bob, how about a game of golf tomorrow?']\n",
    "example_counts = tf.transform(examples)\n",
    "predictions = G_classifier.predict(example_counts.toarray())\n",
    "predictions"
   ]
  },
  {
   "cell_type": "markdown",
   "metadata": {},
   "source": [
    "-----\n",
    "\n",
    "\n",
    "## 6.) Include the Subject in the analysis of the emails, does the accuracy/performance of the model increase? \n",
    ">Enron2\n",
    "\n",
    "----"
   ]
  },
  {
   "cell_type": "code",
   "execution_count": 1234,
   "metadata": {},
   "outputs": [],
   "source": [
    "df_enron2 = df_enron2[df_enron2['Body'] != ' ']\n",
    "df_enron2['Subject & Body'] = df_enron2['Subject'].map(str) + df_enron2['Body'].map(str)\n",
    "\n",
    "X_train, X_test, y_train, y_test = train_test_split(df_enron2['Subject & Body'], df_enron2['Status'], test_size=0.3, random_state=42)"
   ]
  },
  {
   "cell_type": "code",
   "execution_count": 1235,
   "metadata": {},
   "outputs": [
    {
     "data": {
      "text/plain": [
       "GaussianNB()"
      ]
     },
     "execution_count": 1235,
     "metadata": {},
     "output_type": "execute_result"
    }
   ],
   "source": [
    "# Vectorizer\n",
    "tf = TfidfVectorizer(stop_words='english')\n",
    "\n",
    "tf_X_train = tf.fit_transform(X_train)\n",
    "\n",
    "G_classifier = GaussianNB()\n",
    "G_classifier.fit(tf_X_train.toarray(), y_train)"
   ]
  },
  {
   "cell_type": "code",
   "execution_count": 1236,
   "metadata": {},
   "outputs": [
    {
     "name": "stdout",
     "output_type": "stream",
     "text": [
      "(1756, 32023)\n",
      "Accuracy: 93.50 percent\n"
     ]
    }
   ],
   "source": [
    "tf_X_test = tf.transform(X_test)\n",
    "\n",
    "scores = cross_val_score(G_classifier, tf_X_test.toarray(), y_test, cv=10)\n",
    "acc = scores.mean()\n",
    "print(tf_X_test.shape)\n",
    "print(\"Accuracy: %0.2f percent\" % (acc *100))"
   ]
  },
  {
   "cell_type": "markdown",
   "metadata": {},
   "source": [
    " <span style=\"font-family: Arial; font-size:1.4em;color:red;\"> Wow, so there's some significant increase in precision and recall of spam </p>"
   ]
  },
  {
   "cell_type": "markdown",
   "metadata": {},
   "source": [
    " <span style=\"font-family: Arial; font-size:1.4em;color:red;\"> Also the precision and recall of ham increased </p>"
   ]
  },
  {
   "cell_type": "markdown",
   "metadata": {},
   "source": [
    " <span style=\"font-family: Arial; font-size:1.4em;color:red;\"> As well as the accuracy of the model </p>"
   ]
  },
  {
   "cell_type": "code",
   "execution_count": 1237,
   "metadata": {},
   "outputs": [
    {
     "name": "stdout",
     "output_type": "stream",
     "text": [
      "              precision    recall  f1-score   support\n",
      "\n",
      "         ham       0.97      0.99      0.98      1321\n",
      "        spam       0.96      0.90      0.93       435\n",
      "\n",
      "    accuracy                           0.97      1756\n",
      "   macro avg       0.96      0.94      0.95      1756\n",
      "weighted avg       0.97      0.97      0.96      1756\n",
      "\n"
     ]
    },
    {
     "data": {
      "image/png": "[encoded data removed]",
      "text/plain": [
       "<Figure size 720x360 with 2 Axes>"
      ]
     },
     "metadata": {},
     "output_type": "display_data"
    }
   ],
   "source": [
    "from sklearn import metrics\n",
    "from sklearn.metrics import classification_report\n",
    "\n",
    "cm = metrics.confusion_matrix(y_test, G_classifier.predict(tf_X_test.toarray()))\n",
    "\n",
    "ax= plt.subplot()\n",
    "sns.heatmap(cm, annot=True, fmt='g', ax=ax, cmap=\"YlGnBu\");  #annot=True to annotate cells, ftm='g' to disable scientific notation\n",
    "\n",
    "# labels, title and ticks\n",
    "ax.set_xlabel('Predicted labels');ax.set_ylabel('Actual labels'); \n",
    "ax.set_title('Using the Subject & Body'); \n",
    "ax.xaxis.set_ticklabels(['Ham', 'Spam']); ax.yaxis.set_ticklabels(['Ham', 'Spam']);\n",
    "\n",
    "print(classification_report(y_test, G_classifier.predict(tf_X_test.toarray())))"
   ]
  },
  {
   "cell_type": "markdown",
   "metadata": {},
   "source": [
    " <span style=\"font-family: Arial; font-size:1.4em;color:red;\"> Let's try this out! </p>"
   ]
  },
  {
   "cell_type": "code",
   "execution_count": 1239,
   "metadata": {},
   "outputs": [
    {
     "data": {
      "text/plain": [
       "array(['spam', 'ham'], dtype='<U4')"
      ]
     },
     "execution_count": 1239,
     "metadata": {},
     "output_type": "execute_result"
    }
   ],
   "source": [
    "# Format: [Subject Body, Subject Body]\n",
    "\n",
    "examples = ['October Deal Free Viagra now!!!', 'Gametime Hi Bob, how about a game of golf tomorrow?']\n",
    "example_counts = tf.transform(examples)\n",
    "predictions = G_classifier.predict(example_counts.toarray())\n",
    "predictions"
   ]
  },
  {
   "cell_type": "markdown",
   "metadata": {},
   "source": [
    "<div class=\"alert alert-block alert-success\">\n",
    "<b>Enron3</b>\n",
    "</div>"
   ]
  },
  {
   "cell_type": "code",
   "execution_count": 49,
   "metadata": {},
   "outputs": [],
   "source": [
    "df_enron3 = main('data/enron-data/enron3')"
   ]
  },
  {
   "cell_type": "code",
   "execution_count": 50,
   "metadata": {},
   "outputs": [
    {
     "data": {
      "text/html": [
       "<div>\n",
       "<style scoped>\n",
       "    .dataframe tbody tr th:only-of-type {\n",
       "        vertical-align: middle;\n",
       "    }\n",
       "\n",
       "    .dataframe tbody tr th {\n",
       "        vertical-align: top;\n",
       "    }\n",
       "\n",
       "    .dataframe thead th {\n",
       "        text-align: right;\n",
       "    }\n",
       "</style>\n",
       "<table border=\"1\" class=\"dataframe\">\n",
       "  <thead>\n",
       "    <tr style=\"text-align: right;\">\n",
       "      <th></th>\n",
       "      <th>Status</th>\n",
       "      <th>Subject</th>\n",
       "      <th>Body</th>\n",
       "    </tr>\n",
       "  </thead>\n",
       "  <tbody>\n",
       "    <tr>\n",
       "      <th>0</th>\n",
       "      <td>ham</td>\n",
       "      <td>key hr issues going forward</td>\n",
       "      <td>a ) year end reviews - report needs generatin...</td>\n",
       "    </tr>\n",
       "    <tr>\n",
       "      <th>1</th>\n",
       "      <td>ham</td>\n",
       "      <td>congrats !</td>\n",
       "      <td>contratulations on the execution of the centr...</td>\n",
       "    </tr>\n",
       "    <tr>\n",
       "      <th>2</th>\n",
       "      <td>ham</td>\n",
       "      <td>key hr issues going forward</td>\n",
       "      <td>all is under control : a - we ' ve set up a  ...</td>\n",
       "    </tr>\n",
       "    <tr>\n",
       "      <th>3</th>\n",
       "      <td>ham</td>\n",
       "      <td>epmi files protest of entergy transco</td>\n",
       "      <td>attached is our filing made yesterday protest...</td>\n",
       "    </tr>\n",
       "    <tr>\n",
       "      <th>4</th>\n",
       "      <td>ham</td>\n",
       "      <td>california power 2 / 8</td>\n",
       "      <td>please contact kristin walsh ( x 39510 ) or r...</td>\n",
       "    </tr>\n",
       "    <tr>\n",
       "      <th>...</th>\n",
       "      <td>...</td>\n",
       "      <td>...</td>\n",
       "      <td>...</td>\n",
       "    </tr>\n",
       "    <tr>\n",
       "      <th>5506</th>\n",
       "      <td>spam</td>\n",
       "      <td>need your vics ?</td>\n",
       "      <td>brand name meds such as vics , vals , xanies ...</td>\n",
       "    </tr>\n",
       "    <tr>\n",
       "      <th>5507</th>\n",
       "      <td>spam</td>\n",
       "      <td>hey ! tell your friends to hit me up</td>\n",
       "      <td>we offer instant download ! you will no need ...</td>\n",
       "    </tr>\n",
       "    <tr>\n",
       "      <th>5508</th>\n",
       "      <td>spam</td>\n",
       "      <td>= ? iso - 8859 - 1 ? q ? v = colllum _ clal = ...</td>\n",
       "      <td>hello , welcome to gigapharm onlinee shop . p...</td>\n",
       "    </tr>\n",
       "    <tr>\n",
       "      <th>5509</th>\n",
       "      <td>spam</td>\n",
       "      <td>dear sir , i am interested in it</td>\n",
       "      <td>hi : ) do you need some softwares ? i can giv...</td>\n",
       "    </tr>\n",
       "    <tr>\n",
       "      <th>5510</th>\n",
       "      <td>spam</td>\n",
       "      <td>= ? iso - 8859 - 1 ? q ? v = eollum _ c = ecal...</td>\n",
       "      <td>hello , greetings at the be preclude st pharm...</td>\n",
       "    </tr>\n",
       "  </tbody>\n",
       "</table>\n",
       "<p>5511 rows × 3 columns</p>\n",
       "</div>"
      ],
      "text/plain": [
       "     Status                                            Subject  \\\n",
       "0       ham                        key hr issues going forward   \n",
       "1       ham                                         congrats !   \n",
       "2       ham                        key hr issues going forward   \n",
       "3       ham              epmi files protest of entergy transco   \n",
       "4       ham                             california power 2 / 8   \n",
       "...     ...                                                ...   \n",
       "5506   spam                                   need your vics ?   \n",
       "5507   spam               hey ! tell your friends to hit me up   \n",
       "5508   spam  = ? iso - 8859 - 1 ? q ? v = colllum _ clal = ...   \n",
       "5509   spam                   dear sir , i am interested in it   \n",
       "5510   spam  = ? iso - 8859 - 1 ? q ? v = eollum _ c = ecal...   \n",
       "\n",
       "                                                   Body  \n",
       "0      a ) year end reviews - report needs generatin...  \n",
       "1      contratulations on the execution of the centr...  \n",
       "2      all is under control : a - we ' ve set up a  ...  \n",
       "3      attached is our filing made yesterday protest...  \n",
       "4      please contact kristin walsh ( x 39510 ) or r...  \n",
       "...                                                 ...  \n",
       "5506   brand name meds such as vics , vals , xanies ...  \n",
       "5507   we offer instant download ! you will no need ...  \n",
       "5508   hello , welcome to gigapharm onlinee shop . p...  \n",
       "5509   hi : ) do you need some softwares ? i can giv...  \n",
       "5510   hello , greetings at the be preclude st pharm...  \n",
       "\n",
       "[5511 rows x 3 columns]"
      ]
     },
     "execution_count": 50,
     "metadata": {},
     "output_type": "execute_result"
    }
   ],
   "source": [
    "df_enron3"
   ]
  },
  {
   "cell_type": "markdown",
   "metadata": {},
   "source": [
    "-----\n",
    "\n",
    "\n",
    "## 1.) How many Spam Emails are there? \n",
    ">Enron3\n",
    "\n",
    "----"
   ]
  },
  {
   "cell_type": "code",
   "execution_count": 51,
   "metadata": {},
   "outputs": [
    {
     "name": "stdout",
     "output_type": "stream",
     "text": [
      "Spam Emails in Enron3: 1499\n"
     ]
    }
   ],
   "source": [
    "enron_3_spam = df_enron3.Status.value_counts()['spam']\n",
    "print(f'Spam Emails in Enron3: {enron_3_spam}')"
   ]
  },
  {
   "cell_type": "markdown",
   "metadata": {},
   "source": [
    "-----\n",
    "\n",
    "\n",
    "## 2.) Structure the email data from the 2 directories into 1 dataframe with columns: Status, Subject, Body \n",
    ">Enron3\n",
    "\n",
    "----"
   ]
  },
  {
   "cell_type": "markdown",
   "metadata": {},
   "source": [
    " <span style=\"font-family: Arial; font-size:1.4em;color:green;\"> Delete the rows with empty values of Body </p>"
   ]
  },
  {
   "cell_type": "code",
   "execution_count": 52,
   "metadata": {},
   "outputs": [
    {
     "data": {
      "text/html": [
       "<div>\n",
       "<style scoped>\n",
       "    .dataframe tbody tr th:only-of-type {\n",
       "        vertical-align: middle;\n",
       "    }\n",
       "\n",
       "    .dataframe tbody tr th {\n",
       "        vertical-align: top;\n",
       "    }\n",
       "\n",
       "    .dataframe thead th {\n",
       "        text-align: right;\n",
       "    }\n",
       "</style>\n",
       "<table border=\"1\" class=\"dataframe\">\n",
       "  <thead>\n",
       "    <tr style=\"text-align: right;\">\n",
       "      <th></th>\n",
       "      <th>Status</th>\n",
       "      <th>Subject</th>\n",
       "      <th>Body</th>\n",
       "    </tr>\n",
       "  </thead>\n",
       "  <tbody>\n",
       "    <tr>\n",
       "      <th>0</th>\n",
       "      <td>ham</td>\n",
       "      <td>key hr issues going forward</td>\n",
       "      <td>a ) year end reviews - report needs generatin...</td>\n",
       "    </tr>\n",
       "    <tr>\n",
       "      <th>1</th>\n",
       "      <td>ham</td>\n",
       "      <td>congrats !</td>\n",
       "      <td>contratulations on the execution of the centr...</td>\n",
       "    </tr>\n",
       "    <tr>\n",
       "      <th>2</th>\n",
       "      <td>ham</td>\n",
       "      <td>key hr issues going forward</td>\n",
       "      <td>all is under control : a - we ' ve set up a  ...</td>\n",
       "    </tr>\n",
       "    <tr>\n",
       "      <th>3</th>\n",
       "      <td>ham</td>\n",
       "      <td>epmi files protest of entergy transco</td>\n",
       "      <td>attached is our filing made yesterday protest...</td>\n",
       "    </tr>\n",
       "    <tr>\n",
       "      <th>4</th>\n",
       "      <td>ham</td>\n",
       "      <td>california power 2 / 8</td>\n",
       "      <td>please contact kristin walsh ( x 39510 ) or r...</td>\n",
       "    </tr>\n",
       "    <tr>\n",
       "      <th>...</th>\n",
       "      <td>...</td>\n",
       "      <td>...</td>\n",
       "      <td>...</td>\n",
       "    </tr>\n",
       "    <tr>\n",
       "      <th>5506</th>\n",
       "      <td>spam</td>\n",
       "      <td>need your vics ?</td>\n",
       "      <td>brand name meds such as vics , vals , xanies ...</td>\n",
       "    </tr>\n",
       "    <tr>\n",
       "      <th>5507</th>\n",
       "      <td>spam</td>\n",
       "      <td>hey ! tell your friends to hit me up</td>\n",
       "      <td>we offer instant download ! you will no need ...</td>\n",
       "    </tr>\n",
       "    <tr>\n",
       "      <th>5508</th>\n",
       "      <td>spam</td>\n",
       "      <td>= ? iso - 8859 - 1 ? q ? v = colllum _ clal = ...</td>\n",
       "      <td>hello , welcome to gigapharm onlinee shop . p...</td>\n",
       "    </tr>\n",
       "    <tr>\n",
       "      <th>5509</th>\n",
       "      <td>spam</td>\n",
       "      <td>dear sir , i am interested in it</td>\n",
       "      <td>hi : ) do you need some softwares ? i can giv...</td>\n",
       "    </tr>\n",
       "    <tr>\n",
       "      <th>5510</th>\n",
       "      <td>spam</td>\n",
       "      <td>= ? iso - 8859 - 1 ? q ? v = eollum _ c = ecal...</td>\n",
       "      <td>hello , greetings at the be preclude st pharm...</td>\n",
       "    </tr>\n",
       "  </tbody>\n",
       "</table>\n",
       "<p>5468 rows × 3 columns</p>\n",
       "</div>"
      ],
      "text/plain": [
       "     Status                                            Subject  \\\n",
       "0       ham                        key hr issues going forward   \n",
       "1       ham                                         congrats !   \n",
       "2       ham                        key hr issues going forward   \n",
       "3       ham              epmi files protest of entergy transco   \n",
       "4       ham                             california power 2 / 8   \n",
       "...     ...                                                ...   \n",
       "5506   spam                                   need your vics ?   \n",
       "5507   spam               hey ! tell your friends to hit me up   \n",
       "5508   spam  = ? iso - 8859 - 1 ? q ? v = colllum _ clal = ...   \n",
       "5509   spam                   dear sir , i am interested in it   \n",
       "5510   spam  = ? iso - 8859 - 1 ? q ? v = eollum _ c = ecal...   \n",
       "\n",
       "                                                   Body  \n",
       "0      a ) year end reviews - report needs generatin...  \n",
       "1      contratulations on the execution of the centr...  \n",
       "2      all is under control : a - we ' ve set up a  ...  \n",
       "3      attached is our filing made yesterday protest...  \n",
       "4      please contact kristin walsh ( x 39510 ) or r...  \n",
       "...                                                 ...  \n",
       "5506   brand name meds such as vics , vals , xanies ...  \n",
       "5507   we offer instant download ! you will no need ...  \n",
       "5508   hello , welcome to gigapharm onlinee shop . p...  \n",
       "5509   hi : ) do you need some softwares ? i can giv...  \n",
       "5510   hello , greetings at the be preclude st pharm...  \n",
       "\n",
       "[5468 rows x 3 columns]"
      ]
     },
     "execution_count": 52,
     "metadata": {},
     "output_type": "execute_result"
    }
   ],
   "source": [
    "df_enron3 = df_enron3[df_enron3['Body'] != ' ']\n",
    "df_enron3"
   ]
  },
  {
   "cell_type": "code",
   "execution_count": 53,
   "metadata": {},
   "outputs": [
    {
     "name": "stdout",
     "output_type": "stream",
     "text": [
      "ham     3969\n",
      "spam    1499\n",
      "Name: Status, dtype: int64\n"
     ]
    },
    {
     "data": {
      "image/png": "[encoded data removed]",
      "text/plain": [
       "<Figure size 720x360 with 1 Axes>"
      ]
     },
     "metadata": {},
     "output_type": "display_data"
    }
   ],
   "source": [
    "sns.set(rc={'figure.figsize':(10,5)})\n",
    "ax=sns.countplot(x='Status', data=df_enron3)\n",
    "ax.set_xticklabels(ax.get_xticklabels())\n",
    "\n",
    "print(df_enron3.Status.value_counts().head())"
   ]
  },
  {
   "cell_type": "markdown",
   "metadata": {},
   "source": [
    "-----\n",
    "\n",
    "\n",
    "## 3.) Build a Naive Bayes classifier to classify whether emails are spam or not. \n",
    ">Enron3\n",
    "\n",
    "----"
   ]
  },
  {
   "cell_type": "markdown",
   "metadata": {},
   "source": [
    " <span style=\"font-family: Arial; font-size:1.4em;color:green;\"> Using only the Body </p>"
   ]
  },
  {
   "cell_type": "code",
   "execution_count": 54,
   "metadata": {},
   "outputs": [],
   "source": [
    "from sklearn.model_selection import train_test_split, cross_val_score\n",
    "from sklearn.feature_extraction.text import TfidfVectorizer\n",
    "from sklearn.naive_bayes import GaussianNB\n",
    "\n",
    "X_train, X_test, y_train, y_test = train_test_split(df_enron3['Body'], df_enron3['Status'], test_size=0.3, random_state=42)"
   ]
  },
  {
   "cell_type": "code",
   "execution_count": 55,
   "metadata": {},
   "outputs": [],
   "source": [
    "# Vectorizer\n",
    "tf = TfidfVectorizer(stop_words='english')"
   ]
  },
  {
   "cell_type": "code",
   "execution_count": 56,
   "metadata": {},
   "outputs": [],
   "source": [
    "tf_X_train = tf.fit_transform(X_train)"
   ]
  },
  {
   "cell_type": "code",
   "execution_count": 57,
   "metadata": {},
   "outputs": [
    {
     "data": {
      "text/plain": [
       "GaussianNB()"
      ]
     },
     "execution_count": 57,
     "metadata": {},
     "output_type": "execute_result"
    }
   ],
   "source": [
    "G_classifier = GaussianNB()\n",
    "G_classifier.fit(tf_X_train.toarray(), y_train)"
   ]
  },
  {
   "cell_type": "markdown",
   "metadata": {},
   "source": [
    "-----\n",
    "\n",
    "\n",
    "## 4.) What is the longest ham email? \n",
    ">Enron3\n",
    "\n",
    "----"
   ]
  },
  {
   "cell_type": "code",
   "execution_count": 58,
   "metadata": {
    "collapsed": true,
    "jupyter": {
     "outputs_hidden": true
    },
    "tags": []
   },
   "outputs": [
    {
     "name": "stdout",
     "output_type": "stream",
     "text": [
      "     Status         Subject    Body\n",
      "3225    ham  enron mentions  197505\n",
      "================================================================================================================================================================\n"
     ]
    },
    {
     "data": {
      "text/plain": [
       "\" enron : a wake - up call the wall street journal ,  fall of a power giant : dynegy hits back at enron with lawsuit - - - claim is that failed merger entitles concern to get northern natural gas the wall street journal ,  enron secures $ 1 . 5 billion in new financing - - - j . p . morgan , citigroup pact is first step ; now , lifeline is sought for trading unit the wall street journal ,  fall of a power giant : burst of chapter 11 filings marks big year for the bankruptcy bar the wall street journal ,  fall of a power giant : now is the time for creditors to vie against each other the wall street journal ,  auditor andersen is added to enron 401 ( k ) lawsuit the wall street journal ,  stadium jinx : what to call enron field ? ` enron folds , ' maybe - - - firms that put their names on arenas hit hard times ; former trans world dome the wall street journal ,  as kpn prepares to sell new shares , investors remain lukewarm toward dutch telecom firm the wall street journal ,  small - stock focus : genesis energy , valentis plummet , as small - cap stocks fall slightly the wall street journal ,  treasurys manage modest gains despite reports suggesting that economy could be rebounding the wall street journal ,  after enron , ` mark to market ' accounting gets scrutiny the wall street journal ,  j . p . morgan , citigroup decline on fears about enron exposure the wall street journal ,  corrections the new york times ,  hobbled enron tries to stay on its feet the new york times ,  sent home to sit and wait by the phone the new york times ,  enron causes 5 major japanese money market funds to plunge the new york times ,  plenty of pain to go around for small investors , funds , workers and creditors the new york times ,  and the winners in the case are . . . the new york times ,  collapse may reshape the battlefield of deregulation the new york times ,  as investors worry about mideast and enron , shares fall the new york times ,  the markets : currencies the new york times ,  a defining issue the new york times ,  free lessons on corporate hubris , courtesy of enron the washington post ,  enron readies for layoffs , legal battle ; rival dynegy sues for pipeline network the washington post ,  enron ' s ' con ' the washington post ,  enron ' s fall the washington post ,  enron slashes jobs , lines up financing energy : funding of $ 1 . 5 billion is intended to keep trading operations going amid move to reorganize . los angeles times ,  some power customers could see disruptions los angeles times ,  markets enron , mideast weigh on stocks wall st . : dow declines 0 . 9 % , and nasdaq is down 1 . 3 % . oil prices rise ; bond yields fall . los angeles times ,  banks ' enron losses seen limited bankruptcy : the firm says it owes three major lenders $ 7 . 55 billion , but analysts say that total overstates the exposure . los angeles times ,  enron shares trading ; nyse to review status los angeles times ,  enron ' s failure los angeles times ,  enron lays off 4 , 000 houston chronicle ,  in tit for tat , dynegy says it will sue enron houston chronicle ,  pain of bankruptcy to hurt many others houston chronicle ,  woes leave enron field ' s name in question houston chronicle ,  enron employees : tell us your stories houston chronicle ,  lenders lining up , but hard fight looms houston chronicle ,  q & a on the enron bankruptcy houston chronicle ,  enron ' s recent troubles houston chronicle ,  enron briefs houston chronicle ,  enron tries to resurrect trading houston chronicle ,  repeat : edf in talks over enron direct , other assets dow jones energy service ,  enron ' s brazil unit not part of us chapter 11 filing dow jones international news ,  attorney says tender offer for enron is ' off the wall ' dow jones news service ,  usa : before the bell - futures rise - enron soars 41 percent . reuters english news service ,  india : wrapup 1 - enron assets in play , crisis funds give hope . reuters english news service ,  enron receives financing to operate , cuts 20 percent of staff associated press newswires ,  uk : update 1 - pwc says u . s . finance deal will not affect euro units . reuters english news service ,  enron europe pulp co up for sale - enron ' s administrator dow jones international news ,  bankrupt enron corp . receives financing to operate , cuts 20 percent of staff associated press newswires ,  enron takes lst steps in bid to negotiate bankruptcy ( update 3 ) bloomberg ,  enron plans to sell asia power assets amid bankruptcy ( updatel ) bloomberg ,  arthur andersen ceo calls for accounting review after enron bloomberg ,  edf says it ' s in talks to buy enron ' s european retail unit bloomberg ,  enron lines up $ 1 . 5 billion in bankruptcy financing ( update 5 ) bloomberg ,  enron ' s collapse may have repercussions throughout houston bloomberg ,  enron : a wake - up call by joe berardino  the wall street journal al 8 ( copyright ( c ) 2001 , dow jones in particular , our role as auditors of year - end financial statements presented by management . we invest hundreds of millions of dollars each year to improve our audit capabilities , train our people and enhance quality . when a client fails , we study what happened , from top to bottom , to learn important lessons and do better . we are doing that with enron . we are cooperating fully with investigations into enron . if we have made mistakes , we will acknowledge them . if we need to make changes , we will . we are very clear about our responsibilities . what we do is important . so is getting it right . enron has admitted that it made some bad investments , was over - leveraged , and authorized dealings that undermined the confidence of investors , credit - rating agencies , and trading counter - parties . enron ' s trading business and its revenue streams collapsed , leading to bankruptcy . if lessons are to be learned from enron , a range of broader issues need to be addressed . among them : - - rethinking some of our accounting standards . like the tax code , our accounting rules and literature have grown in volume and complexity as we have attempted to turn an art into a science . in the process , we have fostered a technical , legalistic mindset that is sometimes more concerned with the form rather than the substance of what is reported . enron provides a good example of how such orthodoxy can make it harder for investors to appreciate what ' s going on in a business . like many companies today , enron used sophisticated financing vehicles known as special purpose entities ( spes ) and other off - balance - sheet structures . such vehicles permit companies , like enron , to increase leverage without having to report debt on their balance sheet . wall street has helped companies raise billions with these structured financings , which are well known to analysts and investors . as the rules stand today , sponsoring companies can keep the assets and liabilities of spes off their consolidated financial statements , even though they retain a majority of the related risks and rewards . basing the accounting rules on a risk / reward concept would give investors more information about the consolidated entity ' s financial position by having more of the assets and liabilities that are at risk on the balance sheet ; certainly more information than disclosure alone could ever provide . the profession has been debating how to account for spes for many years . it ' s time to rethink the rules . - - modernizing our broken financial - reporting model . enron ' s collapse , like the dot - com meltdown , is a reminder that our financial - reporting model - - with its emphasis on historical information and a single earnings - per - share number - - is out of date and unresponsive to today ' s new business models , complex financial structures , and associated business risks . enron disclosed reams of information , including an eight - page management ' s discussion & analysis and 16 pages of footnotes in its 2000 annual report . some analysts studied these , sold short and made profits . but other sophisticated analysts and fund managers have said that , although they were confused , they bought and lost money . we need to fix this problem . we can ' t long maintain trust in our capital markets with a financial - reporting system that delivers volumes of complex information about what happened in the past , but leaves some investors with limited understanding of what ' s happening at the present and what is likely to occur in the future . the current financial - reporting system was created in the 1930 s for the industrial age . that was a time when assets were tangible and investors were sophisticated and few . there were no derivatives . no structured off - balance - sheet financings . no instant stock quotes or mutual funds . no first call estimates . and no lou dobbs or cnbc . we need to move quickly but carefully to a more dynamic and richer reporting model . disclosurs needs to be continuous , not periodic , to reflect today ' s 24 / 7 capital markets . we need to provide several streams of relevant information . we need to expand the number of key performance indicators , beyond earnings per share , to present the information investors really need to understand a company ' s business model and its business risks , financial structure and operating performance . - - reforming our patchwork regulatory environment . an alphabet soup of institutions - - from the aicpa ( american institute of certified public accountants ) to the sec and the asb ( auditing standards board ) , eitf ( emerging issues task force ) and fasb ( financial accounting standards board ) to the pob ( public oversight board ) - - all have important roles in our profession ' s regulatory framework . they are all made up of smart , diligent , well - intentioned people . but the system is not keeping up with the issues raised by today ' s complex financial issues . standard - setting is too slow . responsibility for administering discipline is too diffuse and punishment is not sufficiently certain to promote confidence in the profession . all of us must focus on ways to improve the system . agencies need more resources and experts . processes need to be redesigned . the accounting profession needs to acknowledge concerns about our system of discipline and peer review , and address them . some criticisms are off the mark , but some are well deserved . for our part , we intend to work constructively with the sec , congress , the accounting profession and others to make the changes needed to put these concerns to rest . - - improving accountability across our capital system . unfortunately , we have witnessed much of this before . two years ago , scores of new economy companies soared to irrational values then collapsed in dust as investors came to question their business models and prospects . the dot - com bubble cost investors trillions . it ' s time to get serious about the lessons it taught us . in particular , we need to consider the responsibilities and accountability of all players in the system as we review what happened at enron and the broader issues it raises . millions of individuals now depend in large measure on the integrity and stability of our capital markets for personal wealth and security . of course , investors look to management , directors and accountants . but they also count on investment bankers to structure financial deals in the best interest of the company and its shareholders . they trust analysts who recommend stocks and fund managers who buy on their behalf to do their homework - - and walk away from companies they don ' t understand . they count on bankers and credit agencies to dig deep . for our system to work in today ' s complex economy , these checks and balances must function properly . enron reminds us that the system can and must be improved . we are prepared to do our part . - - - mr . berardino is managing partner and ceo of andersen . copyright ? 2000 dow jones & company , inc . all rights reserved . fall of a power giant : dynegy hits back at enron with lawsuit - - - claim is that failed merger entitles concern to get northern natural gas by alexei barrionuevo and rebecca smith staff reporters of the wall street journal  the wall street journal al 0 ( copyright ( c ) 2001 , dow jones & company , inc . ) striking back in what is shaping up as a nasty fight , dynegy inc . sued enron corp . to try to take control of enron ' s flagship northern natural gas co . pipeline system , as investors continued to punish dynegy for its failed gambit to acquire enron . the suit was filed the day after enron filed for protection under chapter 11 of the u . s . bankruptcy code and filed a $ 10 billion lawsuit against dynegy , claiming its down - the - street rival breached its merger agreement by breaking off the deal this past week . the suits escalate a war of words between the two houston companies over who was responsible for the merger breakup that contributed to enron ' s tumble into bankruptcy - court proceedings and they threaten to be a serious distraction for dynegy , another energy - trading highflier . credit agencies continue to penalize dynegy for gambling on an effort to buy enron , and dynegy ' s stock is off more than those of other companies with significant energy - trading operations . as of 4 p . m . in new york stock exchange composite trading , dynegy shares fell $ 3 . 18 to $ 27 . 17 each , below their 52 - week low .  still , dynegy is aggressively trying to build up its energy - trading business . dynegy ' s president and chief operating officer , steve bergstrom , who worked for enron in the early 1980 s , is considered one of the brightest lights in energy trading and dynegy has been moving to bulk up its base of pipelines , production and power - plant capacity to complement its trading operations . as enron was cratering last week , dynegy swiftly moved to capitalize on enron ' s sudden inability to provide enough credit security for natural - gas - supply deals . as enron traders scrambled to match buyers and sellers and disgorge its obligations for delivering gas to its customers ,  since oct . 1 , the number of customers executing agreements on dynegydirect , dynegy ' s online trading platform , has increased 20 % and dynegy ' s physical trading business also has increased , mr . bergstrom told analysts yesterday .  many enron traders are said to be upset with management for the implosion of the company .  copyright ? 2000 dow jones now , lifeline is sought for trading unit by wall street journal staff reporters mitchell pacelle , jathon sapsford and ann davis  the wall street journal a 3 ( copyright ( c ) 2001 , dow jones & company , inc . ) turning to some of its largest creditors as potential saviors , enron corp . secured as much as $ 1 . 5 billion in new financing from j . p . morgan chase the move comes after enron ' s $ 10 billion suit against dynegy filed sunday for breaching its merger agreement . - - enron lays off about 4 , 000 employees mostly among its 7 , 500 employees in its houston head office . the layoffs come in addition to 1 , 100 jobs in london cut friday . - - congress steps up up its probe of enron , with house commerce committee staff set to meet this week with the sec and in houston with enron executives . copyright ? 2000 dow jones & company , inc . all rights reserved . fall of a power giant : burst of chapter 11 filings marks big year for the bankruptcy bar by richard b . schmitt staff reporter of the wall street journal  the wall street journal al 0 ( copyright ( c ) 2001 , dow jones & company , inc . ) how many lawyers does it take to file a chapter 11 bankruptcy - law proceeding ? in the case of enron corp . , about 30 . that ' s the number of attorneys new york law firm weil , gotshal & manges , enron ' s bankruptcy counsel , says it had on the case before it was filed over the weekend in federal bankruptcy court in new york . enron ' s chapter 11 filing , one of the largest in corporate history , is also apt to be one of the most lucrative - - for lawyers representing the company and those counseling its creditors , as well as an expected army of financial advisers and turnaround pros . the slackening economy and the burst of large chapter 11 cases - - five of the 15 biggest chapter 11 s of all time have been filed this year - - have left the formerly insular bankruptcy bar busier than ever and with a new cachet . with demand growing , rates are rising , reaching $ 700 an hour for the top lawyers . that is starting to put bankruptcy lawyers in the same league with merger specialists and trial attorneys . the pending chapter 11 case of pg & e corp . ' s utility unit this spring , some experts predict , could generate legal and other fees topping $ 400 million .  besides weil , enron has retained new york firm skadden , arps , slate , meagher & flom as  enron ' s bank creditors , who hold a chunk of the company ' s $ 13 billion in debt , have lined up two large wall street firms of their own . shearman & sterling is advising longtime client citigroup inc . ' s citibank while j . p . morgan chase & co . has retained davis , polk & wardwell , and partner donald bernstein , a restructuring specialist who has represented the bank in the pending bethlehem steel corp . chapter 11 proceeding , also in new york , among others . among other major creditor firms is boston ' s bingham dana , which has been retained by the structured - finance unit of general electric co . ' s general electric capital corp . litigation between enron and its erstwhile merger partner , dynegy inc . , is also expected to trigger many billable hours . dynegy , which sued enron yesterday , seeking the right to complete the acquisition of enron ' s crown jewel pipeline system , has retained houston firm baker botts , along with akin gump strauss hauer & feld , based in dallas and washington . enron , which launched its own pre - emptive lawsuit in bankruptcy court on sunday against dynegy , is represented by weil securities litigator greg danilow and corporate chief thomas roberts , who recently handled amr corp . ' s acquisition of trans world airlines in delaware bankruptcy court . martin bienenstock , weil gotshal ' s chief bankruptcy lawyer on the enron case , said rates of firm partners likely to be involved in the matter range from $ 450 to $ 700 an hour . mr . bienenstock , who charges a $ 675 hourly rate , has recently represented holders of millions in bonds issued by excite @ home corp . , as well as such bankruptcy - law debtors as ames department stores inc . and g - i holdings inc . , an asbestos concern . with 80 bankruptcy lawyers , one of the largest such law - firm practices in the country , he added ,  copyright ? 2000 dow jones & company , inc . all rights reserved . fall of a power giant : now is the time for creditors to vie against each other by henny sender staff reporter of the wall street journal  the wall street journal al 0 ( copyright ( c ) 2001 , dow jones & company , inc . ) enron corp . ' s chapter 11 bankruptcy filing marks the beginning of complicated jockeying as hundreds of creditors seek to get the most they can at the expense of other creditors . filings expected to be submitted to the court subsequent to enron ' s original petition sunday will at least partially lift the veil of secrecy that has long hovered over the company ' s dealings . but for now , few of enron ' s many unsecured creditors have any idea how much they can hope to recover , thanks to enron ' s complex structure and the huge liabilities that were tucked away in partnerships not consolidated onto the company ' s balance sheet . in its chapter 11 filing , enron corp . listed $ 13 . 15 billion in debt . when combined with obligations of its 13 subsidiaries also in bankruptcy proceedings , on - balance - sheet debt totals $ 31 . 24 billion . some bankers who are involved estimate the parent company has an additional $ 27 billion in off - balance - sheet and contingent liabilities . the combined list of creditors attached to enron ' s bankruptcy filing is 54 pages long . precisely because there are so many claims , the contesting among enron ' s creditors is expected to be especially fierce . while bankruptcy law specifies a clear ranking of claims - - with senior secured creditors at the top of the pyramid , the mass of unsecured claims beneath them and equity holders at the bottom - - bankruptcy proceedings aren ' t always set in stone .  in coming weeks , enron will file other legal documents that will be widely scrutinized by creditors and potential vulture investors , who buy distressed debt , for information about the ultimate value of the company . until now , many distressed - debt players have been on the sidelines , citing the impossibility of understanding enron ' s business operations , the extent of its liabilities and the possibility that its financial records contain misstatements beyond the restatements announced last month by enron .   complicating the negotiations : claimants and creditors are a varied lot with diverse interests , reflecting enron ' s combination of physical and financial assets - - thousands and thousands of financial contracts , whose value is uncertain and likely to be highly contentious . usually , it is the unsecured creditors who compete most intensely for a share of the assets . in order to compete , the savviest creditors , such as the distressed - debt funds , which usually acquire debt positions at discounted prices , engage in a variety of strategies . for instance , they may threaten senior classes with the specter of a long drawn - out legal battle unless concessions are made . or , because each class of creditors gets to vote on any settlement , one party may buy up others ' claims in order to control just over a third of the debt of that class - - enough to influence the entire outcome . copyright ? 2000 dow jones & company , inc . all rights reserved . auditor andersen is added to enron 401 ( k ) lawsuit  the wall street journal al 0 ( copyright ( c ) 2001 , dow jones & company , inc . ) houston - - a lawsuit on behalf of members of enron corp . ' s employee - retirement plan has been expanded to allege that the company ' s independent auditor , arthur andersen llp of chicago ,  the amended suit , filed yesterday in federal court in houston by the gottesdiener law firm in washington , seeks to recover $ 1 billion in plan losses as well as the return of fees paid to andersen , which totaled $ 52 million in 2000 , the law firm says . at least three other lawsuits have been filed on behalf of enron ' s 401 ( k ) retirement plan members . enron filed for chapter 11 bankruptcy - court protection from creditors on sunday .  spokesmen for arthur andersen and enron said the companies don ' t comment on pending litigation . copyright ? 2000 dow jones former trans world dome by scott thurm staff reporter of the wall street journal  the wall street journal al ( copyright ( c ) 2001 , dow jones & company , inc . ) two years ago , standing outside a half - built baseball stadium , enron corp . chairman kenneth lay announced that the high - flying energy giant would pay roughly $ 100 million over 30 years to put its name on the new home of the houston astros . that was well before fatal questions arose about enron ' s questionable finances . but after that , enron never had a chance . it was destined to join fruit of the loom inc . , trans world airlines , psinet inc . and others that spiraled downward after emblazoning their brand names on sports stadiums . it ' s as if putting a corporate name on a stadium is an act of such hubris that the sports gods demand retribution . for fruit of the loom , that meant filing for chapter 11 bankruptcy protection in 1999 , three years after putting its pro player athletic - wear label on miami ' s football and baseball stadium . twa took down its shingle from the home of football ' s st . louis rams earlier this year , after being acquired out of bankruptcy by american airlines . and psinet , a new - economy telecom firm that agreed in 1999 to pay more than $ 100 million over 20 years for naming rights to the baltimore ravens ' new football stadium , filed for bankruptcy protection in june . call it the stadium - naming jinx .  shares of 3 com corp . , the maker of computer - networking equipment , were trading at $ 39 . 50 on sept . 7 , 1995 , when it agreed to pay $ 1 million a year to put its name on san francisco ' s windswept candlestick park , generating howls of local protest . six years , several corporate reorganizations and one tech downturn later , 3 com last month said it had had enough and told football ' s san francisco 49 ers it didn ' t want to renew . 3 com shares closed at $ 4 . 66 in 4 p . m . nasdaq stock market trading yesterday . compaq computer corp . doubled down on stadiums , attaching its name to indoor arenas in houston , its hometown , and in san jose , calif . now , compaq is struggling to sell itself to hewlett - packard co . edison international , namer of the anaheim angels ' edison field , saw its southern california edison co . unit flirt with bankruptcy after california deregulated its electricity market . most recently , anc rental corp . , parent of national car rental , filed for bankruptcy protection on nov . 13 , raising questions about the home of hockey ' s florida panthers . the hex is fodder for sports fans from the boardroom to the bleachers .  in baltimore , many fans had never heard of psinet before its name was affixed , in big purple letters , to the ravens ' stadium . psinet ' s bankruptcy filing is   on - the - field success is no antidote . the astros won their division this year . the ravens won the super bowl in january , as psinet was sliding toward bankruptcy . their predecessors as nfl champs were the rams , playing under twa ' s soon - to - be - gone logo .  in august 2000 , once - high - flying internet incubator cmgi inc . agreed to pay football ' s new england patriots more than $ 114 million over 15 years to put its name on the patriots ' new stadium in foxboro , mass . watching the new stadium rise in the distance while attending a patriots game earlier this year , mr . tobias says he wondered to himself whether cmgi would still exist by the time the new stadium opens next august . cmgi had a net loss of $ 5 . 4 billion for the fiscal year ended july 31 . its shares , listed on the nasdaq stock market , have fallen from $ 150 in early 2000 to $ 1 . 90 yesterday . stadiums have carried corporate monikers ever since men such as william wrigley and august busch put their names on stadiums used by teams they owned . but the commercial name - game really started in 1973 , when rich foods paid $ 1 . 5 million to put its name on the home of football ' s buffalo bills for 25 years . it was another 15 years before atlantic richfield co . and great western financial corp . put their names on basketball arenas in sacramento , calif . , and los angeles in 1988 . now , there are 62 major - league stadiums sporting the names of companies , which have agreed to pay a collective $ 3 . 4 billion for the privilege , over as long as 30 years , according to dean bonham , a naming - rights consultant in denver . as the deals have multiplied , the jinx has spread . beyond bankruptcies and other brushes with death , corporate stadium - namers are frequent takeover targets . arco , for example , was acquired by bp plc last year . pacific telesis , parent of pacific bell , agreed to be acquired by sbc communications the day before it announced a $ 50 million naming - rights deal with the san francisco giants in 1996 . shawmut national corp . paid to put its name on a new indoor arena in boston in 1993 , but the company was acquired by fleetboston financial corp . before a single game was played . the philadelphia arena formerly known as the corestates center morphed into the first union center and will become the wachovia center as soon as next summer . the deteriorating financial health of airlines imperils naming deals at six indoor arenas . the former chief executive of ual corp . , whose united airlines unit named the arena in chicago , raised the prospect of filing for bankruptcy next year . some analysts believe the parent of america west airlines , namer of the arena in phoenix , may have to file sooner , if it doesn ' t get requested government aid . not every naming - rights deal leads inexorably to a company ' s demise . general motors corp . ( whose name graces the arena of hockey ' s vancouver canucks ) and pepsico inc . ( the denver nuggets and colorado avalanche ) are in no danger of disappearing . ( of course , the same would have been said about enron a few months ago . ) those who pay the big bucks believe they are getting their money ' s worth for stadium deals , through improved name recognition and an association with active lifestyles .  consultants say the deals are particularly useful for companies that are not household names , such as european electronics giants telefon ab l . m . ericsson and koninklijke philips electronics nv . philips uses part of the atlanta arena that it named as a showcase for its products . still , consultants say prices for stadium - naming deals are drifting lower , because of the weak economy and the disappearance of internet firms , many of which were active bidders . more than a dozen u . s . stadiums and arenas are seeking sponsors , including the superdome in new orleans , home to february ' s super bowl , comiskey park in chicago , and the former trans world dome in st . louis . wayne huizenga , who owns the dolphins and pro player stadium , has been seeking a replacement sponsor for more than a year . some companies say they ' ve learned to shy away .  - - - the stadium jinx what happened to the stock prices of companies that paid to have their names on sports stadiums . year cost of stock current stock of deal price stock price deal in at price loss stadium city millions deal since psinet baltimore ' 99 $ 100 $ 51 $ 0 . 01 * - 100 % stadium plus trans world st . louis ' 95 26 12 0 . 04 * - 100 dome pro player miami ' 96 20 35 0 . 28 * - 99 stadium enron field houston ' 99 100 36 0 . 40 - 99 cmgi field foxboro , ' 00 114 45 1 . 90 - 96 mass . savvis st . louis ' 00 72 * * 9 0 . 68 - 92 center 3 com park san ' 95 7 40 4 . 66 - 88 francisco conseco indiana - ' 98 40 30 3 . 90 - 87 fieldhouse polis america west phoenix ' 89 26 10 2 . 49 - 75 arena amer . miami ' 97 42 72 20 . 94 - 71 airlines arena * stock has been delisted and no longer trades on a major exchange . * * includes savvis stock valued at $ 7 . 3 million at time of deal , and now worth $ 510 , 000 . sources : wsj research , wsj market data copyright ? 2000 dow jones & company , inc . all rights reserved . world stock markets as kpn prepares to sell new shares , investors remain lukewarm toward dutch telecom firm by wall street journal staff reporter silvia ascarelli in london and toby sterling of dow jones newswires  the wall street journal cl 1 ( copyright ( c ) 2001 , dow jones & company , inc . ) as kpn nv mounts its final push to sell five billion euros in new shares , investors remain lukewarm toward putting fresh cash in the dutch telecom group . the offering , one of the biggest european share sales this year , will help kpn cut a 22 . 3 billion euro pile of debt that earlier this year threatened the company ' s survival . investors also say they are pleased by the cost - cutting moves kpn is planning in conjunction with the offering . yet even with kpn ' s share price already down 25 % from the evening before the share sale was announced , some investors say it ' s still not low enough . kpn closed at 4 . 94 euros yesterday , down from 6 . 6 euros on nov . 19 . investors also want more information on how kpn intends to grow . one question mark is whether the jump in margins at e - plus , kpn ' s problematic german mobile unit , is sustainable . the offering is  the first official indication of investor interest is expected early tomorrow , about 12 hours after the deadline passes for current shareholders to exercise their rights to acquire more shares . unlike a traditional european share rights offering , however , these rights can ' t be traded . that structure has helped keep hedge funds from selling shares in hopes of buying them at a lower price . the dutch government has already committed itself to buying 34 . 7 % of the new shares , and a syndicate of banks have promised to buy the remaining 65 . 3 % shares at 2 . 75 euros , about half the current share price . some professional money - managers are expected to seek shares this way . but others , including u . s . investors , who can ' t participate in the rights portion , are expected to wait until afterward . they have until thursday evening to order shares but , unlike with the rights issue , can specify at what price they ' re willing to buy . many aren ' t expected to place their orders before thursday .  the share offering nonetheless comes at a time when investors are turning more positive toward the telecom sector in general after shunning it for more than a year . finland ' s sonera corp . , another heavily indebted telecom group , raised one billion euros through a heavily discounted rights issue to existing shareholders last month . the mood has soured somewhat in recent days , hurt by signs that the u . s . economy won ' t recover as quickly as investors had been hoping . the collapse of enron corp . also has refocused investor attention on credit risk . investors note that it ' s particularly difficult to estimate kpn ' s fair value because its heavy debt load means a small change in financial assumptions about the company can create a big change in the valuation .  kpn isn ' t a  but joost eijsink , an asset manager at dutch investment bank eureffect , predicted that while selling pressure will increase throughout the week , most of the fall in the share price has already occurred .  mr . eijsink said funds the firm manages are likely to subscribe to the issue . but its advice to other clients will vary . - - - yesterday ' s market activity asian markets were mixed as taiwanese stocks soared after the weekend parliamentary elections and tokyo stocks fell sharply . european shares were generally lower , while brazilian and argentine shares jumped after buenos aires introduced a series of capital controls . overall , the dow jones world stock index fell 1 . 56 points , or 0 . 90 % , to 172 . 27 . excluding the u . s . , the index dropped 1 . 17 points , or 0 . 95 % , to 121 . 59 . in tokyo , the nikkei stock average dropped 3 . 1 % , or 326 . 82 points , to 10370 . 62 , its lowest close since nov . 14 . credit - risk concerns prompted by enron ' s collapse and a stronger yen unleashed selling in major banks and high - tech heavyweights . ufj holdings ended down 9 . 8 % at 367 , 000 yen , while sumitomo mitsui banking lost 4 . 9 % to 637 yen . baby clothes wholesaler kimuratan plunged 25 % to 89 yen , and baby - care - goods maker pigeon dropped 19 % to 1 , 270 yen . baby - related stocks had been soaring following news of the princess ' s pregnancy but investors have begun selling ahead of her delivery . in taipei , the weighted price index rose 4 . 6 % , or 205 . 49 points , to 4646 . 61 following stronger - than - expected gains in the legislature for the democratic progressive party of president chen shui - bia . stocks also got a boost from taiwan semiconductor manufacturing co . , the world ' s biggest contract chip maker , which forecast a sharp jump in fourth - quarter net profit . its shares , which comprise a large part of the benchmark index , rose 6 . 2 % to 77 . 50 new taiwan dollars . in london , the ftse 100 index closed down 0 . 7 % , or 39 . 0 points , to 5164 . 6 . banking stocks suffered on concerns over loan defaults stemming from the enron situation . royal bank of scotland fell 34 pence , or 2 . 0 % , to gbp 13 . 91 following weekend news reports that it has a gbp 600 million exposure to enron . enron also said barclays was the largest unsecured creditor for one of its divisions , enron north america corp . , with a claim of $ 126 . 1 million . shares in barclays fell 62 pence , or 2 . 8 % , to gbp 20 . 88 . in buenos aires , the merval index closed 6 . 1 % , or 12 . 30 points , higher at 214 . 75 . over the weekend economy minister domingo cavallo announced a series of capital controls to stem a run on banking deposits . the measures are also aimed at increasing transparency and government tax collections and making it necessary for more argentines to hold checking or savings accounts . shares in galicia , the country ' s largest private bank , jumped around 19 % to 47 . 9 centavos . - - - msci indexes % from nov . 30 nov . 29 12 - 00 u . s . . . . . . . . . . . . 1079 . 0 1079 . 6 - 13 . 7 britain . . . . . . . . 1582 . 1 1579 . 5 - 14 . 1 canada . . . . . . . . . 937 . 6 933 . 8 - 18 . 9 japan . . . . . . . . . . 655 . 2 651 . 3 - 18 . 9 france . . . . . . . . . 1485 . 2 1471 . 6 - 21 . 9 germany . . . . . . . . 636 . 9 629 . 2 - 22 . 1 hong kong . . . . . . 5765 . 4 5676 . 6 - 25 . 0 switzerland . . . . 790 . 8 796 . 9 - 22 . 2 australia . . . . . . 672 . 5 668 . 0 + 5 . 1 world index . . . . 997 . 9 992 . 7 - 18 . 3 eafe msci - p . . . . 1148 . 4 1134 . 4 - 23 . 1 as calculated by morgan stanley capital international perspective , geneva . each index , calculated in local currencies , is based on the close of 1969 equaling 100 . p - preliminary . copyright ? 2000 dow jones & company , inc . all rights reserved . small - stock focus : genesis energy , valentis plummet , as small - cap stocks fall slightly by larry bauman dow jones newswires  the wall street journal c 6 ( copyright ( c ) 2001 , dow jones & company , inc . ) new york - - small - capitalization stocks fell moderately in unusually light trading , though the group managed to retrace about a quarter of its intraday losses . the overall nasdaq market ended in negative territory , although the nasdaq composite index of both small and large stocks did close above its session lows . the small - cap market was weighed down by the weakness of financial stocks , which fell on concerns about the extent to which banks and financial - services companies were exposed to the collapse of enron , which filed for chapter 11 bankruptcy protection . financial stocks make up the second - largest industry group in the russell 2000 small - stock index , following technology . the russell 2000 fell 3 . 75 , or 0 . 81 % , to 457 . 03 , after posting an intraday decline of 5 . 27 , and the nasdaq composite , at 1904 . 90 , fell 25 . 68 , or 1 . 33 % . investors  genesis energy ( amex ) , a houston company plummeted $ 2 . 33 , or 48 % , to $ 2 . 57 . the company said its potential exposure to enron is about $ 21 million under a delivery contract . genesis said that if enron is unable to pay , genesis may default on its debt instruments and it may have to suspend its distribution operations . the company also said it may also default under its master credit - support agreement with salomon smith barney and its working capital facility if enron doesn ' t meet its obligations . valentis , a burlingame , calif . , biotechnology company , sank 1 . 43 , or 35 % , to 2 . 67 . the company said it would end development of an experimental cancer drug following disappointing clinical - trial results . valentis said final analysis of the study failed to confirm interim results that suggested the drug , il - 2 genemedicine , used in conjunction with chemotherapy , halted the spread of the disease in patients with late - stage head and neck cancer . pentastar communications tumbled 1 . 98 , or 22 % , to 7 . 10 . the denver communications - services agent said its agency contract with verizon communications won ' t be renewed march 1 because of verizon ' s continuing efforts to reduce costs related to its authorized - agent program . pentastar , a verizon agent in the northeast , said its relationship with the telecommunications company contributed $ 6 . 1 million , or 25 % , of its $ 24 . 2 million in revenue for the nine months ended sept . 30 . avici systems fell 28 cents , or 9 . 8 % , to 2 . 57 after the north billerica , mass . , telecommunications company said it reduced its work force by 12 % , or 40 employees . on technology , a waltham , mass . , developer of groupware applications and workgroup - utility software for local area networks , surged 1 , or 50 % , to 3 . the company said its on command ccm system was selected by home depot to manage its world - wide network of more than 150 , 000 retail workstations . financial terms of the deal weren ' t disclosed . keith cos . jumped 1 . 66 , or 19 % , to 10 . 20 . the costa mesa , calif . , engineering and consulting company said it acquired closely held universal energy and as a result raised its 2002 expectations . keith said it expects to earn 80 cents to 92 cents a share in 2002 , an increase of 10 to 14 cents a share from previous forecasts , and it expects revenue of $ 82 million to $ 88 million , $ 11 million to $ 12 million above earlier predictions . the company said its fourth - quarter outlook remains unchanged . in the latest issue of barron ' s , scott black of delphi management said he expects the share prices of parlex and peak international will rise substantially during the next year . parlex , a methuen , mass . , designer of flexible interconnect products , climbed 1 . 65 , or 15 % , to 12 . 40 . peak international , a fremont , calif . , maker of engineered transport products , gained 75 cents , or 14 % , to 6 . 31 . c - cor . net , a state college , pa . , broadband - services company , added 1 . 24 , or 13 % , to 10 . 88 . the company narrowed its projected second - quarter loss forecast , and said its sales will be 10 % higher than expected . aviron rose 4 . 37 , or 12 % , to 41 . 42 after the mountain view , calif . , biopharmaceuticals company agreed to be acquired by medimmune in a stock swap valued at roughly $ 1 . 29 billion . medimmune said that with the acquisition it will gain aviron ' s flumist developmental product , a nasal - spray influenza vaccine . merit medical systems was up 1 . 13 , or 7 . 7 % , to 15 . 80 . roth capital initiated coverage of the south jordan , utah , medical - device company with a buy rating and a $ 20 price target . copyright ? 2000 dow jones & company , inc . all rights reserved . credit markets treasurys manage modest gains despite reports suggesting that economy could be rebounding by michael s . derby dow jones newswires  the wall street journal cl 2 ( copyright ( c ) 2001 , dow jones all bids are awarded at a single price at the market - clearing yield . rates are determined by the difference between that price and the face value . 13 - week 26 - week applications . . . . . . . . . . $ 27 , 281 , 203 , 000 $ 23 , 745 , 113 , 000 accepted bids . . . . . . . . . $ 16 , 000 , 003 , 000 $ 16 , 000 , 113 , 000 accepted noncomp . . . . . . $ 1 , 379 , 780 , 000 $ 1 , 192 , 773 , 000 accepted frgn non . . . . . $ 160 , 000 , 000 $ 25 , 000 , 000 auction price ( rate ) . . 99 . 561 ( 1 . 735 % ) 99 . 108 ( 1 . 765 % ) coupon equivalent . . . . . 1 . 769 % 1 . 805 % bids at market yield . . 7 . 52 % 12 . 04 % cusip number . . . . . . . . . . 912795 jjl 912795 jxo both issues are dated dec . 6 . the 13 - week bills mature march 7 , 2002 , and the 26 - week bills mature june 6 , 2002 . corporate bonds hewlett - packard co . sold $ 1 billion of five - year notes via credit suisse first boston and salomon smith barney . the yield was set at 5 . 874 % , or 1 . 84 percentage points above treasurys . ratings are single - a - 2 by moody ' s investors service and double - a - minus by standard & poor ' s . although some investors said they were reluctant to buy the bonds because of uncertainty surrounding the company ' s proposed merger with compaq computer corp . , the deal was increased in size from an initial $ 750 million . investment - grade corporate bonds weakened amid reports of enron corp . ' s bankruptcy filing and financial turmoil in argentina . yield margins for corporate issues generally widened about 0 . 02 to 0 . 03 percentage point . ford motor credit ' s 10 - year bonds , which recently had traded at two percentage points above treasurys , widened to around 2 . 50 percentage points above treasurys after the company said it will lay off more people and trim benefits . despite those developments , demand for investment grade bonds has been rising recently because their yields look attractive compared with those of treasurys , said thomas ricketts , president of incapital llc , of chicago . incapital , which has a network of brokers , has sold about $ 4 . 5 billion in corporate bonds since it opened for business in february .  foreign bonds emerging - market bonds firmed as argentina ' s debt restructuring significantly reduced the amount of the country ' s debt securities outstanding . argentina said sunday that in the first stage of a domestic debt swap , institutional investors had tendered $ 50 . 04 billion of public - sector bonds and loans . it said it would save $ 3 . 55 billion in interest next year alone . nevertheless , the strength of emerging - market issues surprised some traders , given that argentina ' s government last weekend limited withdrawals from bank accounts in an attempt to stanch banking outflows . some cited a new government measure calling for new loans to be in dollars . the step toward  reflecting the firming in bonds outstanding , yield margins for argentine issues as gauged by the j . p . morgan emerging markets bond index plus narrowed by 2 . 30 percentage points to 31 . 43 percentage points above comparable treasurys . - - - christine richard and sonja ryst contributed to this article . copyright ? 2000 dow jones & company , inc . all rights reserved . heard on the street after enron , ` mark to market ' accounting gets scrutiny by jonathan weil staff reporter of the wall street journal  the wall street journal cl ( copyright ( c ) 2001 , dow jones & company , inc . ) with their industry ' s pioneer in bankruptcy court , the legions of energy companies that followed enron ' s lead into the go - go world of commodity trading are finding their own profits and accounting practices under scrutiny as well . what ultimately triggered the collapse of investor confidence in enron were its indecipherable disclosures for related - party transactions , compounded by its admitted financial misstatements and massive off - balance - sheet liabilities . but many critics say disclosure issues of a different sort dog the financial statements of most companies that trade electricity , natural gas and the like - - with the approval of the nation ' s accounting - rule makers . at issue is a technique called  for many energy - trading companies , significant chunks of earnings in recent years have come from recording unrealized , noncash gains through such accounting entries . often , these profits depend on assumptions and estimates about future market factors , details of which the companies don ' t provide . and because of the minimal disclosure standards , it is difficult for investors to assess whose assumptions might be too aggressive , or what market changes might invalidate the assumptions - - and force earnings revisions .  mark - to - market accounting is required whenever companies have outstanding energy - related contracts on their balance sheets , either as assets or liabilities , at the end of a quarter . for example , these could be agreements to sell electricity or buy natural gas over time at certain prices . under the rules , companies estimate the fair values of the contracts . quarterly changes in value - - representing unrealized , noncash gains and losses - - then are run through the companies ' income statements . one way to gauge the size of some companies ' past unrealized gains is to dig through their cash - flow statements , which sometimes specify the noncash portion of trading gains . at enron , unrealized trading gains accounted for slightly more than half of the company ' s $ 1 . 41 billion of originally reported pretax profit in 2000 and about a third of its originally reported pretax profit of $ 1 . 13 billion in 1999 . at dynegy , unrealized gains accounted for nearly half its $ 762 million in 2000 pretax profit and about half its $ 227 million in 1999 pretax profit . dynegy executives say there isn ' t anything wrong with the quality of their company ' s earnings . and they point to financial reports for the first nine months of 2001 showing that none of the company ' s reported earnings for this year came from unrealized gains . other energy traders whose earnings have been boosted in recent years by mark - to - market gains include american electric power , duke energy , el paso , entergy , mirant , pinnacle west capital and williams cos . how much discretion do energy traders have in valuing their contracts ? the rule , pretty much , is that there aren ' t many rules . for instance , during a conference last week sponsored by the fasb and the american accounting association , attendees were shown a hypothetical example under which the fair value of a power contract could range from $ 40 million to $ 153 million , depending on which assumptions of future trends were used . and the mark - to - market rules that do exist for energy contracts were crafted in large part on approaches that enron and other traders lobbied for .  over the past three years , members of the fasb ' s emerging issues task force have extensively debated the subject of how to value energy - related contracts . what they have decided is that companies should be left to their own discretion , though the task force recognizes that could create problems . in a june 2000 report , for instance , the group noted that two companies in similar circumstances might apply different methods to estimate the fair value of their energy contracts , resulting in widely different valuations .  the task force ' s chairman , tim lucas , says it simply is too difficult to draft a one - size - fits - all solution :  that is in line with the industry ' s longtime position . in a june 2000 letter to mr . lucas , for instance , mr . causey said  in its financial filings , dynegy explains that when market - price quotes aren ' t available for certain long - term contracts ,  quoted market prices offering independent guidance on many short - term energy contracts have become more readily available in recent years . even then , there aren ' t rules specifying which market quotes companies must use . for instance , should companies mark their contracts based on the  on most contracts for short - term deliveries of natural gas , bid - ask spreads are fairly small , about 1 % or so . but even for some short - term electricity contract prices quoted on enron ' s now - shuttered online trading portal , spreads of 20 % were common . on contracts for short - term delivery of telecommunications bandwidth , enron often posted  for other long - term derivatives , such as electricity contracts stretching 20 years or longer , market quotes don ' t exist . in such cases , companies are allowed to base contract valuations on their own undisclosed estimates , covering everything from future commodity prices to credit risks and discount rates .  for now , however , energy traders aren ' t stepping up their disclosures . dynegy ' s senior vice president and controller , michael mott , for instance , says his company  - - - john r . emshwiller contributed to this article . copyright ? 2000 dow jones & company , inc . all rights reserved . abreast of the market j . p . morgan , citigroup decline on fears about enron exposure by robert o ' brien dow jones newswires  the wall street journal c 2 ( copyright ( c ) 2001 , dow jones its stock traded higher on the day , gaining 14 cents , or 54 % , to 40 cents . other financial - services companies took hits yesterday on concerns about valuations , given the outlook for the sector . shares of morgan stanley fell 3 . 17 , or 5 . 7 % , to 52 . 33 , after goldman sachs cut its rating on the stock . goldman sachs group also finished weaker , down 2 . 99 , or 3 . 4 % , to 86 . 01 . lehman brothers holdings fell 2 . 75 , or 4 . 2 % , to 63 . 40 , after credit suisse first boston cut its earnings estimates on the wall street brokerage firm .  the dow jones industrial average lost 87 . 60 points , or 0 . 89 % , to 9763 . 96 yesterday , after rising 8 . 55 % in november . the nasdaq composite index fell 25 . 68 , or 1 . 33 % , to 1904 . 90 . less than 1 . 5 billion shares changed hands in nasdaq trading , compared with 1 . 7 billion shares friday . among the energy companies hurt by concerns about exposure to enron , dynegy , which pulled out of a planned merger with the company after debt - rating agencies cut their ratings on the company last week , fell 3 . 18 , or 11 % , to 27 . 17 . enron charged in a lawsuit it filed sunday that dynegy had no grounds to terminate those merger plans . el paso , the houston energy company , also lost ground on hesitation about its exposure to enron , down 2 . 26 points , or 5 . 1 % , to 42 . 24 . calpine , another one of the energy companies that has flourished under the deregulated environment , finished sharply lower , off 3 . 06 , or 14 % , to 18 . 50 , sinking to a 52 - week low . eott energy partners , a publicly traded energy market partnership , fell to a 52 - week low intraday on concerns about its exposure to enron , but rebounded during the session finishing 3 . 80 points higher , up 42 % , at 12 . 80 . eott said that its general partner , eott energy corp . , a wholly owned subsidiary of enron , wasn ' t among the companies included in enron ' s voluntary petition for bankruptcy . some retailers had a tough session as investors continue to size up the holiday sales environment . shares of tjx fell 1 . 74 , or 4 . 6 % , to 35 . 95 . ubs warburg reduced its rating on the framingham , mass . , apparel retailer , saying that its merchandise mix could be stuck on shelves , rather than in consumers ' shopping bags , thanks to the unseasonably warm weather in the northeastern u . s . toy retailer toys  united technologies fell 1 . 29 , or 2 . 1 % , to 58 . 91 . workers at the hartford , conn . , manufacturer ' s pratt & whitney jet - engine manufacturing unit rejected a proposed contract offer , instead voting to strike . ford motor lost 1 . 14 , or 6 % , to 17 . 80 . the auto maker said that incentives continued to boost sales of its cars and trucks in november , though the company acknowledged that it has a cautious outlook for 2002 production . rival general motors declined 67 cents , or 1 . 3 % , to 49 . 03 , after it reported a 13 % gain in vehicle sales last month over november 2000 , while daimlerchrysler , which posted a 6 % falloff in november sales , eased 99 cents , or 2 . 4 % , to 41 . medimmune lost 5 . 27 , or 12 % , to 38 . 83 on nasdaq . the gaithersburg , md . , biotechnology concern agreed to purchase aviron in a $ 1 . 5 billion stock swap . aviron , a mountain view , calif . , vaccine maker , rose 4 . 37 , or 12 % , to 41 . 42 on nasdaq . tyson foods lost 65 cents , or 5 . 4 % , to 11 . 38 . credit suisse first boston reduced its rating on the springdale , ark . , poultry and beef processor , citing valuations . starbucks rose 76 cents , or 4 . 3 % , to 18 . 48 on nasdaq , after posting a 5 % improvement in friday ' s trading . analysts said some specialty retailers , such as the seattle coffee chain , have maintained their sales patterns , despite the economic weakness . gilead sciences lost 2 . 49 , or 3 . 4 % , to 69 . 72 . ubs warburg reduced its rating on shares of the foster city , calif . , biopharmaceuticals concern , citing valuation . gilead shares reached a 52 - week high last week at 73 . 67 . ubs also reduced its rating on immunex , similarly citing valuation , and the seattle biopharmaceuticals concern lost 1 . 67 , or 6 . 2 % , to 25 . 33 on nasdaq . roadway climbed 1 . 85 , or 6 . 2 % , to 31 . 57 , helped by some upbeat comments from credit suisse first boston , which said the akron , ohio , trucking concern ' s acquisition of arnold industries improved the company ' s growth prospects . roadway said it completed the acquisition of arnold friday . copyright ? 2000 dow jones section a corrections  the new york times page 2 , column 5 c . 2001 new york times company a chart in business day on friday with articles about the plight of the enron corporation , listing the biggest previous corporate bankruptcies , referred imprecisely to the asset sizes of the companies shown . the figures were adjusted for inflation . unadjusted numbers appeared yesterday , in a chart with an article about enron ' s bankruptcy filing . copyright ? 2000 dow jones section c enron ' s collapse : the overview hobbled enron tries to stay on its feet by richard a . oppel jr . and riva d . atlas  the new york times page 1 , column 2 c . 2001 new york times company the enron corporation dismissed 4 , 000 employees and lined up $ 1 . 5 billion in financing yesterday to keep its main businesses on life support while it reorganizes in bankruptcy court . the company , once the world ' s largest energy trader , sought chapter 11 protection from creditors on sunday and is trying to conserve cash to shore up its finances . the justice department has begun a criminal investigation into the company ' s activities , a person close to the matter said yesterday . a justice department spokeswoman declined to comment . the securities and exchange commission is already investigating enron ' s finances . yesterday , enron dismissed about half of the 7 , 500 employees at its headquarters in houston and other sites scattered across the country . before lunchtime , all employees in houston deemed nonessential were told to go home . but on the way out , many were told that they no longer had jobs , while others were called at home and given the same message . the move follows 1 , 100 job cuts in europe last week . the abrupt action caused fresh anger among employees , whose 401 ( k ) retirement plans have lost $ 1 . 2 billion this year , or on average more than half their value , because of the slide in enron ' s stock . as employees streamed out of enron ' s gleaming 50 - story office tower in downtown houston , some said they were told to expect $ 4 , 500 in severance , no matter how many years of service , and to file with the bankruptcy court in new york if they wanted reimbursement for any unused vacation days . others were told they would be informed later about severance pay and benefits . ' ' almost everyone is gone , ' ' said pedro f . manrique , a risk manager in the company ' s energy services division . ' ' upper management is not talking . no managing directors are around , and police are on every floor . it ' s so unreal . ' ' legal questions continue to multiply in what is already the largest bankruptcy in history and may well prove to be the most complex , stretching from the united states to india . dynegy inc . , which enron sued on sunday for backing out of their merger agreement , struck back at enron yesterday with its own lawsuit , saying that its competitor ' s behavior is ' ' one more example of enron ' s failure to take responsibility for its own demise . ' ' dynegy is asking the court to force enron to transfer its crown jewel , a natural gas pipeline , to dynegy . dynegy ' s stock fell more than 10 percent yesterday , to $ 27 . 17 , hitting its lowest point in intraday trading since march 2000 . in washington , staff members from the house energy and commerce committee , which is investigating enron ' s collapse , expect to discuss the matter today with the s . e . c . ' s enforcement chief and general counsel . tomorrow , they plan to meet with senior executives from arthur andersen , enron ' s outside auditor , which has been sued by enron shareholders and is part of the s . e . c . ' s investigation into enron ' s accounting troubles . and on thursday investigators from the committee plan to fly to houston to meet with enron executives . in united states bankruptcy court in lower manhattan , judge arthur j . gonzalez said last night that he would approve the $ 1 . 5 billion financing plan for enron after some minor changes . more than 100 lawyers overflowed the wooden benches in an overheated bankruptcy courtroom on the fifth floor of the customs house . in a sign of how pressed the lawyers have been to respond to enron ' s rapid collapse , a junior lawyer delivered the financing document more than an hour into the hearing . enron secured the $ 1 . 5 billion credit line through its lead banks , j . p . morgan chase and citigroup . the money , known as a debtor - in - possession financing , will provide capital to cover employees ' salaries and other business functions . the enron financing is the largest ever of this kind , according to bank analysts . ' ' if we don ' t have it , we may need it , ' ' martin j . bienenstock , a lawyer with weil , gotshal an enron employee wipes her eye as she leaves the houston company yesterday . the energy trading company sought protection from creditors on sunday . ( associated press ) ( pg . cl ) copyright ? 2000 dow jones section c enron ' s collapse : the employees sent home to sit and wait by the phone by kate murphy  the new york times page 9 , column 1 c . 2001 new york times company houston , dec . 3 - - carrying boxes packed hastily in the few minutes before police escorts started shepherding them into elevators , about 4 , 000 employees who had been summarily dismissed from the enron corporation streamed out of the company ' s two sparkling office buildings here today . shortly before 11 a . m . , managers told almost every employee in the company ' s headquarters to go home , sit by the telephone and wait for a call that would tell them if they still had a job . ' ' leaving us in limbo is really dreadful , ' ' said john g . hayes , a senior accounting analyst in enron ' s liquid products trading division . some employees were notified of their termination by telephone this afternoon , but many , like mr . hayes , received calls from their supervisors telling them their status remained undecided . still others have not heard anything , even though enron spokeswoman karen denne said , ' ' we ' re trying to let everyone impacted know tonight . ' ' employees said they had little faith in what they characterized as the company ' s confusing and contradictory proclamations . early this morning , for example , kenneth l . lay , the chief executive , announced over enron ' s internal broadcasting system that employees would know where they stood by the end of the day on tuesday . ' ' everyone thought they were safe at least today , and then they turn around and tell everyone to go home , ' ' mr . hayes said . around 10 a . m . , the company ' s computer network went down . ' ' we thought at first it was sabotage by a disgruntled employee , but it was really them shutting us down for good , ' ' said diana k . peters , who worked in the company ' s technical support division . by all accounts , today ' s dismissal , carried out by managers on every floor , was pre - emptory . ' ' they just said go home , that ' s it , ' ' said robert j . bonin , an accountant who has worked for the company for 15 years . employees flooded into the streets in front of the enron buildings , many crying and hugging one another as police on horseback shouted at them to disperse . ' ' you ' ve got to understand how much pride we all had in working there , ' ' said brent witthoeft , one of enron ' s hundreds of computer technicians . ' ' i have never seen such pride since i was in the marines . ' ' now employees face an uncertain future as they await their probable termination notices as well as the decision of a bankruptcy court . the court will determine whether enron can pay severance money and health insurance premiums so employees will have coverage that will carry over until they find another job . copyright ? 2000 dow jones section c enron ' s collapse : the holdings enron causes 5 major japanese money market funds to plunge by ken belson  the new york times page 9 , column 1 c . 2001 new york times company tokyo , dec . 3 - - shares of five major money market funds in japan have fallen below their face value because of extensive enron holdings , and the stocks of the companies that manage the funds plunged today . the funds are managed by some of japan ' s largest banks and brokerage firms . shares of ufj holdings , a banking giant , plunged nearly 10 percent , and nikko securities , a leading brokerage firm , slid 3 . 4 percent . each ran major funds with big positions in enron bonds . the weakness in financial stocks helped push the nikkei 225 - stock index down 3 . 1 percent . the stampede left investors with few places to turn for steady returns and low risk . in japan , bank deposits pay almost no interest , so money market funds have been popular with pension funds and other investors that seek security with a reasonable return . in the united states , each share of a money market fund generally carries a face value of $ 1 and an implicit guarantee that the price will not fall below that amount , preserving investors ' principal ; there have been a few exceptions . the losses by the japanese money funds on enron bonds led skittish investors to withdraw cash last week , producing a net outflow for november of some 3 trillion yen ( $ 24 . 2 billion ) . an alternative for investors is japanese government bonds , but they , too , have given investors a scare in recent weeks . major rating agencies have lowered japan ' s sovereign credit rating and said more cuts may be coming . the country ' s debt rating is now near the point where banks that hold government bonds will have to reserve capital against the chance of a default . ' ' this is a big headache for safe - haven investors , ' ' said akio yoshino , head of investment research and chief economist at sg yamaichi asset management in tokyo . ' ' investors are becoming very keen about avoiding credit risk , so brokers who recommended these trusts will continue to see a huge outflow , ' ' he said , referring to the funds . managers of funds are hoping to shore up the confidence of investors by disclosing their bondholdings and other assets more frequently - - they are now obliged to report on them only twice a year - - and perhaps by restricting themselves to issuers with credit ratings of a or better , analysts said . if the money market funds stop buying debt of lower - rated companies , it could be a serious blow to japan ' s steel makers , retailers and other highly indebted companies . copyright ? 2000 dow jones section c enron ' s collapse : the investors plenty of pain to go around for small investors , funds , workers and creditors by kenneth n . gilpin  the new york times page 8 , column 1 c . 2001 new york times company the list of investors who have lost money in enron stock is a long one . it begins with anyone who bought shares in a standard & poor ' s 500 index mutual fund before enron was dropped from the index late last week . investors in other mutual funds also stand a good chance of being burned because enron ' s 10 biggest shareholders were all big money managers . thousands of enron employees who had big chunks of their retirement savings in company stock have seen the money evaporate . one enron board member has lost billions . holders of enron preferred stock are also looking at steep losses . that is the inevitable consequence of a stock that lost 99 . 5 percent of its market value in a year . carol m . coale , an analyst at prudential securities , said that enron had a market value of almost $ 68 billion at its peak but that number was about $ 344 million as of yesterday ' s close . at the end of september , alliance capital was enron ' s largest shareholder , with 43 million shares . janus capital , which topped the list for much of the year , was second , with 41 . 4 million shares . rounding out the top 10 were putnam investments , part of marsh barclays bank ( 23 . 0 million ) ; fidelity investments ( 20 . 8 million ) ; citigroup ( 20 . 8 million ) ; state street ( 16 . 1 million ) ; aim management , part of amvescap ( 14 . 0 million ) ; taunus ( 12 . 5 million ) ; and vanguard ( 11 . 4 million ) , round out the top 10 . the enron board member , robert a . belfer , a new york investor , has also been badly burned , though not as badly as he might have been . at the beginning of february , mr . belfer owned 2 . 55 million enron common shares , or 0 . 34 percent of enron ' s outstanding stock at the time . though significant , the size of his stake in enron has been substantially reduced in recent years . mr . belfer declined to comment yesterday on his holdings in enron . given the complexity of enron ' s balance sheet , ms . coale said , it is difficult to determine the exact amount of preferred stock enron has outstanding . two identifiable issues have a combined par face value of $ 2 . 4 billion . the market value of enron ' s preferred stock has plummeted along with its ability to meet the dividends payable on the securities . as of the beginning of march , the big holders of enron ' s 7 percent preferred stock included franklin advisers , a money management firm , and insurance companies like transamerica life and new york life . enron also owes money to many lenders . the exact number may not be known for months , analysts say . ' ' historically , enron was the preeminent energy company , ' ' said james mcauliffe , a fixed - income energy analyst at morgan stanley . ' ' they had a lot of people who bought into the story . ' ' copyright ? 2000 dow jones section c enron ' s collapse : the lawyers and the winners in the case are . . . by jonathan d . glater  the new york times page 8 , column 1 c . 2001 new york times company the biggest corporate bankruptcy filing in american history may also be the biggest payday ever for american bankruptcy lawyers . yesterday , more than 100 lawyers formed a standing - room - only crowd as the first hearing in enron ' s bankruptcy convened at the federal bankruptcy court in manhattan . beyond those front - line forces , whole armies of white - shoe lawyers , bankers and accountants are preparing for legal proceedings that may well last for years , as the court seeks to sort out what went wrong at enron , who is to blame and what assets remain to satisfy the company ' s obligations . there is plenty to talk about . the case involves a number of complex legal questions and will call into play obscure sections of the federal bankruptcy code , given the complex nature of enron ' s energy trading business . it is also all but certain to lead to charges of wrongdoing by enron ' s directors and officers , as well as its outside auditor , lawyers said . ' ' it has it all , ' ' said robert j . rosenberg , a partner who heads the bankruptcy practice at the law firm of latham the firm confirmed last week that it had received s . e . c . subpoenas in the agency ' s enron investigation . judge gonzalez , a brooklyn native who has been a bankruptcy judge since 1995 , conducted yesterday ' s hearing in businesslike , no - frills style . among the law firms with major roles in the enron case are weil gotshal shearman and davis polk & wardwell , among those representing the other lead bank , j . p . morgan chase . lawyers for these and the other firms taking part in the case will quickly find that there is little straightforward about either enron ' s liabilities or its assets . many of the company ' s transactions , for example , involve forward contracts for the delivery of goods - - gas , electricity or other commodities , mr . rosenberg noted . companies on the other side of not - yet - completed transactions have different rights from other creditors . rather than having to file a claim in bankruptcy court , they can take whatever steps their contracts permit in the event that enron defaults . moreover , while enron ' s bankruptcy filings show assets significantly more valuable than the company ' s liabilities , the company also has extensive off - balance - sheet debts that were not listed . ' ' that ' s a good question , whether at the end of the day there ' s enough to reorganize around , ' ' mr . rosenberg said . another crucial question will be whether enron can convince judge gonzalez that the decision by its houston rival , dynegy , to back out of an agreement to purchase enron precipitated its bankruptcy filing . along with its chapter 11 filing , enron sued dynegy on sunday in the bankruptcy court , seeking $ 10 billion in damages for canceling the merger . lawyers expect enron to point to a delaware judge ' s decision earlier this year requiring tyson foods to complete its merger with the meat packer ibp after tyson , citing what it said were undisclosed problems at ibp , tried to walk away from the deal . but that decision was in delaware ' s chancery court , not bankruptcy court , and lawyers said it was hard to predict the success of any attempt to impose that logic on the specifics of enron ' s deal with dynegy . ' ' these types of lawsuits are not a question of federal bankruptcy law , ' ' said one bankruptcy lawyer who insisted on not being identified . ' ' they ' re a question of contract law , of state corporation law . it depends on what the agreement says . ' ' pho collapse may reshape the battlefield of deregulation by joseph kahn and jeff gerth  the new york times page 1 , column 2 c . 2001 new york times company washington , dec . 3 - - the bankruptcy of enron has washington debating the way it oversees the $ 200 billion power industry . but there is no consensus on erasing the legacy of deregulation that the company ' s political largess helped forge . congressional leaders and top regulators are moving forward on what had been enron ' s no . 1 objective : a push to reduce local control of electricity transmission lines so that energy merchants like the enron corporation can use them to transport and sell power . but the politics of power are shifting , and some of enron ' s longstanding opponents - - chief among them the southern company of atlanta , which owns many local power monopolies - - see a fresh chance to slow deregulation , or even roll it back . among those who have called for inquiries into enron ' s collapse are representative billy tauzin , a prominent republican from louisiana who is chairman of the house energy and commerce committee ; the senate majority leader , tom daschle , and senator jeff bingaman , a democrat of new mexico who is chairman of the senate energy and natural resources committee . all are vowing to get to the bottom of one of the most precipitous business reversals in history . and some members of congress say enron ' s downfall , on the heels of california ' s energy meltdown early this year , proves that washington must demand more disclosure from energy traders , holding them at least to the standards of wall street firms . ' ' enron is the sequela to california , it ' s all part of the one - year story line , ' ' said representative edward j . markey , democrat of massachusetts , who focuses on energy regulatory issues in the house . ' ' we can ' t leave energy products in the regulatory shadows . it hurts both investors and consumers . ' ' other influential officials are in no rush to turn back the clock on deregulation . ' ' we have had a number of false starts , and it would be crazy not to take a look at the lessons we can learn , ' ' said nora brownell , one of president bush ' s appointees this year to the federal energy regulatory commission . ' ' but we should not leap to the conclusion that competitive markets do not work . ' ' the bush administration , along with some democrats - - including mr . bingaman and william massey , a democrat on the energy commission - - continue to favor plans advanced by enron that would pry open regional electricity markets . ' ' we have to look carefully at the causes of consequences of enron ' s collapse , ' ' mr . bingaman said . ' ' but i don ' t see anything in this that would keep us from moving ahead with open transmission access and these types of things . ' ' the durability of such views is a sign of how effective enron was during the last decade in keeping washington at bay as the company pushed to restructure the electricity industry and limit government oversight of new energy markets . enron and its employees were the largest contributors to president bush ' s campaigns over the years , and enron gave more money to politicians in the last election cycle than did any other energy company . since 1993 , its employees and its chairman , kenneth l . lay , have donated nearly $ 2 million to mr . bush . in the 2000 election cycle , more than $ 1 million was donated to federal political campaigns , most of it to republicans . mr . lay also had powerful friends . he recruited wendy l . gramm , the top commodities regulator in the administration of president bush ' s father and the wife of senator phil gramm , republican of texas , to serve on enron ' s board in 1993 . the appointment came just five weeks after ms . gramm helped push through a ruling at the commodity futures trading commission that exempted many energy contracts from regulation . last year , as congress and the clinton administration debated whether to exercise more oversight of the financial instruments used by enron and other companies to trade energy contracts , mr . lay courted linda robertson , a senior treasury official who was the department ' s liaison with congress . ms . robertson twice accepted paid trips to talk with company executives while she was still employed at the treasury , her financial disclosure shows . the measure that became law , the commodity futures modernization act of 2000 , specifically exempted energy trading from the regulatory scrutiny applied to brokers of money , securities and commodities . ms . robertson , who became the head of enron ' s washington office , did not return a phone call seeking comment . last spring , when the bush administration drafted a new national energy policy , mr . lay had a 30 - minute meeting with vice president dick cheney to discuss the report . the policy blueprint endorsed breaking up monopoly control of electricity transmission networks , an enron goal that was spelled out in a memorandum mr . lay discussed during his meeting with mr . cheney . enron also had an unusual opportunity to influence mr . bush ' s choices for the federal energy regulatory commission , which oversees the markets in which enron operates . mr . lay met mr . bush ' s personnel adviser , clay johnson , to discuss nominees . when mr . bush picked people to fill two vacant republican slots on the five - member commission , both had the backing of enron as well as other companies . enron did not always get its way in washington . it failed to win regulatory exemptions for some futures products it wanted to trade , for example . and with enron now discredited , its longtime nemeses like the southern company hope to turn the regulatory agenda in a direction that favors their interests . the southern company has long been enron ' s main challenger for influence in washington . the company has nurtured a loose coalition of southeast lawmakers - - the senate minority leader , trent lott of mississippi , most prominent among them - - in support of its view that the states should retain leeway in deciding the pace and scope of energy deregulation . so far this year , its political action committees have outspent all other energy companies , including enron and big oil companies like exxon mobil , in supporting members of congress , according to the u . s . public interest research group . southern strongly opposes efforts to diminish the power of local regulators to supervise electricity pricing , production and transmission . ' ' we have long felt that enron ' s vision of open markets does not work with electricity , ' ' said dwight evans , executive vice president of the southern company . ' ' i think our credibility has been enhanced by recent events . ' ' mr . evans said that the federal energy regulatory commission under mr . bush had tried to ' ' design systems that meet what enron needs . ' ' congress should slow the commission , mr . evans argued , or risk a fresh bout of instability and volatile prices . some states have halted the introduction of open markets for electricity . nevada , oklahoma and new mexico are among those that have put off deregulation , while california and a few other states that once promoted unfettered competition are debating ways to reimpose regulatory control . enron ' s assiduous efforts to keep its energy trading free of government interference could be another casualty of its collapse . as the value of energy contracts soared into the hundreds of billions of dollars - - at one point up to half all electricity and natural gas transactions passed through enron ' s trading operation , by some estimates - - enron scrambled to hold off congress and regulators . but some regulatory experts now say that enron ' s collapse is reminiscent of the failure of long - term capital management . long - term capital was the hedge fund based in greenwich , conn . , that operated without direct federal oversight and , by some accounts , threatened world markets when its elaborate portfolio of derivatives crumbled in late 1998 . with its exemption from scrutiny in hand , enron revealed relatively little about its trading portfolio , leaving analysts guessing how it had made its profits . enron ' s secrecy was one factor that caused investor confidence to plummet in recent weeks , after the company revealed some unorthodox financial arrangements that benefited top executives . ' ' enron was getting very heavily into derivatives , and along with wall street banks , they went to bat to keep us away , ' ' said michael greenberger , who was director of trading and markets at the commodities futures trading commission until early this year . ' ' this should be as scary for regulators and congress as long - term capital was . ' ' representative markey agreed that congress should demand more oversight of energy trading . he said regulators should begin requiring transparency from companies like enron , while examining the adequacy of their capital and the stability of their trading portfolio , much as banking and securities regulators do for companies in their domain . ' ' we ' ll do it now , ' ' he said , ' ' or we ' ll do it when we get the next shock . ' ' copyright ? 2000 dow jones section c the markets : stocks & bonds as investors worry about mideast and enron , shares fall by reuters  the new york times page 11 , column 3 c . 2001 new york times company stocks fell yesterday with selling generated by a sudden leap in middle east hostilities and concern about the corporate fallout from enron , the former wall street darling that is now the largest bankruptcy case in american history . these concerns overshadowed the optimism that made november the best month for the market since april , with a 7 . 5 percent gain in the broad standard & poor ' s 500 - stock index . stocks have been on a tear after skidding to three - year lows on sept . 21 in the wake of the attacks on the world trade center and pentagon . the dow jones industrial average declined 87 . 60 points , or 0 . 9 percent , to close at 9 , 763 . 96 , while the nasdaq composite index fell 25 . 68 points , or 1 . 3 percent , to 1 , 904 . 90 . the s . & p . 500 shed 9 . 55 points , or 0 . 8 percent , dropping to 1 , 129 . 90 . ' ' we ' ve had quite a bit of a rally since the lows in september and then you ' ve got the mideast situation and the enron thing , ' ' said michelle clayman , chief investment officer at new amsterdam partners . ' ' maybe there ' s a little bit of profit taking here . ' ' argentina ' s continuing financial crisis has also contributed to wall street ' s jitters , helping to overshadow a batch of better - than - expected economic data , including a report that united states manufacturing activity fell at a slower pace last month . shares of enron rebounded 14 cents , to 40 cents , but this is still well under a dollar and a far cry from its year high of almost $ 85 . enron was a drag on the stocks of utilities and some leading wall street firms , including citigroup and j . p . morgan chase & company , on fears they might suffer losses from their dealings with enron , the once - mighty energy trader . enron filed for chapter 11 bankruptcy on sunday and sued dynegy , its rival and onetime suitor , for $ 10 billion for pulling out of a last - ditch rescue merger . dynegy followed with a countersuit . dynegy stock fell $ 3 . 18 , or 10 . 5 percent , to $ 27 . 17 . tension grew in the middle east with a series of palestinian suicide bombings in israel and israel ' s retaliation . israel launched missile strikes on gaza city and buildings near yasir arafat ' s headquarters . the violence there , along with optimism that russia will comply with calls from the organization of the petroleum exporting countries , sent oil prices soaring .  copyright ? 2000 dow jones section c the markets : currencies  the new york times page 11 , column 3 c . 2001 new york times company yen falls . the yen weakened with japanese stocks on concern that enron ' s bankruptcy filing would hurt banks and other finance companies . in new york , the dollar settled at 124 . 03 yen , up from 123 . 20 on friday . graph tracks japanese yen to the dollar , since june 2000 . ( source : bloomberg financial markets ; associated press ) . it also shows yesterday ' s closes for the british pound ( in u . s . dollars ) , the canadian dollar ( per u . s . dollar ) , the german mark ( per u . s . dollar ) , the japanese yen ( per u . s . dollar ) , the mexican peso ( pers u . s . dollar ) , and the south korean won ( per u . s . dollar ) . copyright ? 2000 dow jones section a a defining issue by paul krugman  the new york times page 21 , column 6 c . 2001 new york times company when a seemingly profitable enterprise suddenly goes bankrupt , there are surely lessons to be learned . when that enterprise is the most admired company in america , lauded by business theorists as the quintessential 21 st - century corporation , one wonders if it is the tip of an iceberg . and how many of us have , without knowing it , booked passage on the titanic ? it will take time , and many legal proceedings , before the full story of enron ' s collapse becomes known . but one thing is already clear : the case shows how adept corporate executives have become at shifting risk away from themselves and onto others , in particular onto their employees . enron ' s leaders have walked away from the debacle chastened but very , very rich . many of enron ' s employees - - no doubt including the loyalists who sent irate letters every time i criticized the company - - have lost their life savings . behind this disaster for ordinary workers lies a little - remarked sea change in america ' s retirement system . twenty years ago most workers were in ' ' defined benefit ' ' plans - - that is , their employers promised them a fixed pension . today most workers have ' ' defined contribution ' ' plans : they invest money for their retirement , and accept the risk that those investments might go bad . retirement contributions are normally subsidized by the employer , and receive special tax treatment ; but all this is to no avail if , as happened at enron , the assets workers have bought lose most of their value . it ' s easy to make the theoretical case for defined - contribution plans . such plans expand an employee ' s choices ; he can choose how much to save , and how to invest his money . and more choice is ordinarily good . but the sad fate of enron ' s employees highlights the difference between theory and practice . as gretchen morgenson of the times pointed out on sunday , workers across the country have been cajoled or coerced into holding a high proportion of their retirement assets in their employers ' own stock . the exploitive nature of this financial incest was emphasized by enron ' s now - notorious ' ' lockdown , ' ' in which - - purely by coincidence , say executives - - new rules forced employees to remain invested in the company ' s stock just as the firm began its death spiral . so much for freedom of choice . and even when employees have real choices , one wonders whether they fully appreciate the risks . the shift away from old - fashioned pensions coincided with an enormous bull market ; surely many workers who have never seen stock prices fall since they became investors underestimate the risk of capital losses . one hopes that corporate collapses will not become commonplace . still , it ' s highly likely that millions of american workers will have near - enron experiences , learning to their dismay that big chunks of their retirement savings have evaporated . they will be left dependent on the one great defined - benefit program that remains : social security . that is , if it ' s still around . the bush administration ' s commission on social security reform issued its latest report last week , just as enron entered its death throes . most of the criticism of that commission ' s work , my own included , has focused on its , yes , enron - like accounting : items seem to migrate onto or off the balance sheet to suit the commission ' s convenience . thus when the social security system takes in more money than it pays out , as it does at present , this has no significance - - the federal budget is unified , you see , so it doesn ' t mean anything when one particular piece of it is in surplus . but in 2016 , when the social security system starts to pay out more than it takes in , there will be a crisis - - social security , you see , must stand on its own . but the commission resorts to bogus accounting only to make the case for its ultimate objective : to convert social security from a defined - benefit system , which guarantees retired americans a certain basic income , to a defined - contribution system , in which the unwise or unlucky can find themselves destitute in their old age . some analysts i know think social security will be converted to a defined - contribution system , not because it is a good idea but because the financial industry - - which has enormous clout in our money - driven political system - - has so much to gain from the conversion . i hope they ' re wrong . but if they are right , the fate of enron ' s poor employees , victimized by a management team they thought was on their side , may truly be the shape of things to come . copyright ? 2000 dow jones & company , inc . all rights reserved . financial deals allan sloan free lessons on corporate hubris , courtesy of enron allan sloan  the washington post final eo 3 copyright 2001 , the washington post co . all rights reserved in the spirit of the season , enron corp . has given us an early holiday gift . no , it ' s not sending goodies to our homes or money to our bank accounts . rather , it ' s giving us an amazing tale of corporate downfall and hubris . and it is providing lessons ranging from the mercilessness of markets to the dangers of forcing people to tie their living and retirement to the same company . enron , created in 1985 when houston natural gas combined with a gas - pipeline company , swaggered through the 1990 s . it claimed it would revolutionize life and commerce by substituting the efficient hand of the market for the clumsy hand of government regulation . but enron ' s leaders proved to be every bit as bungling as any government bureaucrat . sift through the financial debris , and you see that enron lost about $ 7 billion on four dumb investments ( details below . ) however profitable enron ' s other businesses might have been , paying for those turkeys stretched enron to the breaking point . and it broke . some $ 60 billion of stockholder value has been wiped out this year . shares that opened the year at $ 83 closed friday at 26 cents . bankruptcy looms . you wonder if enron field , home of the houston astros baseball team , will be renamed chapter 11 field . or maybe house of cards . adding another dimension to the debacle is the intimate relationship between enron and the white house . enron , which for years has tried to ride roughshod over state and federal regulators , has ties throughout the bush administration . for starters , enron and its chairman , kenneth lay , were among george w . bush ' s biggest and most important contributors in his texas and presidential campaigns . and according to public records , bush intimates ranging from economic adviser larry lindsay to political adviser karl rove ( who owned $ 100 , 000 to $ 250 , 000 of enron stock ) to trade representative robert b . zoellick had been on enron ' s payroll before moving to washington . army secretary thomas white jr . , a former enron executive , had stock and options worth between $ 50 million and $ 100 million . in a different environment - - remember whitewater ? - - the combination of big losses and white house ties would have long since produced cries for a special prosecutor to see what ( if anything ) enron ' s buddies have done on behalf of the company . the upcoming hearings in the republican - controlled house should be fascinating , and there will doubtless be more hearings in the democratic - controlled senate .   even though enron shareholders have been essentially wiped out , lay isn ' t going to the poorhouse . unlike enron employees whose retirement accounts have been vaporized because they consisted largely of enron stock the company wouldn ' t let them sell , lay has plenty of wealth left . last year alone , he made $ 123 million of profit on stock options , according to enron filings . this year he has made an additional $ 25 million or so . note : on friday , with its stock at around 30 cents , enron changed its policy and allowed employees to sell it . ironically , what brought down enron from its lofty perch on the fortune 500 list ( no . 7 ) is that the markets , whose virtue it preached , lost faith in it after it disclosed funny dealings with a partnership run by its chief financial officer . and now , let ' s proceed to the syllabus of enron 101 : 1 . bubbles didn ' t end when dot - coms bombed enron , a major trader of electricity and natural gas , grossed $ 200 billion a year and had $ 60 billion of assets , but it turned out to be a bubble . its business depended on borrowing lots of money . people lined up to lend as long as enron seemed healthy . when suspicions arose six weeks ago after the company revealed its partnership problems , money trickled away . then it started leaving in a flood . as enron tottered , it lost trading business . its remaining customers began to gouge it - - that ' s how trading works in the real world . don ' t blame the usual suspects : stock analysts . rather , blame arthur andersen , enron ' s outside auditor , which didn ' t blow the whistle until it was too late . ( andersen says it ' s far too early for me to be drawing conclusions . ) 2 . deregulation can be dangerous it ' s clear that the cozy world of utility monopolies needed to be shaken up , given huge losses on nuclear plants and other problems . besides , breakthroughs in turbine technology made it feasible for big users such as manufacturing plants to set up their own generators and drop off the electric grid . letting them go would have raised prices for everyone else . but dereg has caused lots of problems . in 1998 , the midwest had huge spikes in the price of electricity and rolling blackouts : some utilities had sold power outside their service areas , and the traders they were relying on to replace that power didn ' t deliver . upstarts have dropped in and out of retail markets in several states , sticking established players with big costs . and , of course , there ' s california , which got caught with too little energy in the spring ( helping enron and others make big profits ) and now is stuck with too much expensive energy . this has crippled the state ' s finances , driven its biggest utility into bankruptcy and clobbered customers . leaving vital necessities such as electricity and natural gas to the tender mercies of the market is risky . especially when a big player such as enron can vanish overnight . 3 . beware your own hype enron pioneered trading in electricity and natural gas , and it was the primo player in that field . but it came to believe that it was good at everything . it wasn ' t . some of the debacles : losses of $ 2 billion each in the water and telecommunications businesses , and another $ 2 billion lost in a brazilian utility investment . it blew an additional $ 1 billion on an electricity - generating plant in india . hence , i think , the need to obscure rising debt levels and less - than - stellar results by dealing with so - called off - balance - sheet partnerships with  the summary the enron affair reinforces two of the oldest lessons there are . to wit : when someone tells you he ' s changing the world for the better and getting rich at the same time , hold onto your wallet . and when something sounds too good to be true , it probably isn ' t true . michael isikoff contributed to this column . sloan is newsweek ' s wall street editor . his e - mail address is sloan @ panix . com . http : / / www . washingtonpost . com copyright ? 2000 dow jones rival dynegy sues for pipeline network peter behr washington post staff writer  the washington post final eol copyright 2001 , the washington post co . all rights reserved enron corp . ' s record bankruptcy action rattled its houston home base yesterday , as the energy trader prepared to lay off 4 , 000 headquarters employees and began a bitter legal struggle with dynegy inc . , its neighbor and would - be rescuer , over the causes of its monumental collapse . enron told most of its houston workers to go home and await word on whether their jobs were gone . meanwhile , dynegy filed a countersuit against enron demanding ownership of one of its major pipeline networks - - an asset dynegy was promised when it advanced $ 1 . 5 billion to enron as part of its aborted nov . 9 takeover agreement . the legal battle began sunday , when enron filed a $ 10 billion damage suit against dynegy , claiming it was forced into a chapter 11 bankruptcy proceeding when dynegy pulled back its purchase offer following intense negotiations the weekend after thanksgiving . dynegy ' s chairman and chief executive , chuck watson , said yesterday in a conference call that enron ' s lawsuit   dynegy ' s shares fell $ 3 . 18 , or 10 percent , to $ 27 . 17 yesterday because of investors ' fears that the bankruptcy process will tie up dynegy ' s claim to the omaha - based northern natural gas co . pipeline , forcing it to write down the $ 1 . 5 billion payment to enron .   on the broader impact of enron ' s bankruptcy , donald e . powell , chairman of the federal deposit insurance corp . , said in an interview that regulators believe so far that losses on loans to the ailing energy company will be painful but not large enough to cause any bank to fail . however , he said that the ripple effect on other enron creditors , who in turn may find it harder to repay bank loans , is more difficult to gauge .  shares of enron ' s major european bank lenders also fell yesterday on overseas markets . the stock price of j . p . morgan chase , one of enron ' s lead bankers , fell 3 percent , or $ 1 . 17 , to $ 36 . 55 . enron told a bankruptcy court judge in manhattan that it has arranged up to $ 1 . 5 billion in financing from j . p . morgan chase and citigroup to keep operating as it reorganizes under chapter 11 bankruptcy protection , according to the associated press . the charges and countercharges between enron and dynegy are the opening rounds in a what legal experts predict will be a relentless battle between the two houston companies . hundreds of lawyers representing investors and employees are lining up to question enron executives and the former enron officials who quit or were fired in the past four months as the fortunes of the powerful energy trading company disintegrated . ahead of them are securities and exchange commission investigators probing whether enron concealed critical information about its problems from shareholders . investigators from the house energy and commerce committee are headed for houston this week to pursue a congressional inquiry into the largest bankruptcy action in u . s . history . and in the lead position is u . s . bankruptcy judge arthur j . gonzalez in new york , who has sweeping powers under federal law to oversee claims against enron , as the company tries to restore its trading business and settle creditors ' claims . dynegy ' s immediate goal is to have the ownership of the northern gas pipeline decided in state court in texas , where the companies are located , said dynegy attorney b . daryl bristow of baker botts .  staff writer kathleen day contributed to this report . http : / / www . washingtonpost . com copyright ? 2000 dow jones & company , inc . all rights reserved . editorial enron ' s ' con ' richard cohen  the washington post final a 25 copyright 2001 , the washington post co . all rights reserved as usual , i was awakened by a sudden draft through the closed windows , saw the curtains ominously rustling and sensed instantly that someone was in my bedroom . without even looking up i knew it had to be my grandfather , this long - dead immigrant of socialist leanings . i knew i was in for another of his wearying lectures with his tiresome references to                            i wonder how the enron bosses can . http : / / www . washingtonpost . com copyright ? 2000 dow jones investors pay for this advice . but the biggest stockbroking outfits are owned by investment banks that also do other types of business : advising companies on mergers , helping them to issue shares or bonds . these advisory businesses create a conflict of interest : in order to cultivate corporations that may hire them , banks are reluctant to allow their stock analysts to issue sell recommendations on their stock . the  this kind of conflict may explain why many analysts continued to recommend enron ' s stock just a few days before the company ' s bankruptcy . in one unfortunate case , lehman brothers rated enron a  a similar conflict of interest plagues audit firms . auditors are supposed to serve investors by certifying the accuracy of companies ' financial statements . but auditors also earn consulting fees when they advise companies on information technology and other management issues . the desire to win consulting contracts may reduce auditors ' appetite for dust - ups with companies whose accounts seem suspicious . enron ' s auditor , arthur andersen , earned $ 27 million in consulting fees from the company last year - - slightly more than the $ 25 million it got paid to audit enron ' s books . at the same time it failed to challenge enron ' s habit of hiding some of its dicier business in partnerships that went unreported on the balance sheet . the conflicts of interest at stockbrokers and auditors , while similar , demand different remedies . investors themselves are in a position to correct some of the stockbroker problem : they can ignore advice from analysts at the integrated investment banks , and route their business through smaller independent stockbrokers . but the auditor conflicts need to be fixed by regulators at the securities and exchange commission . the commission ' s last chairman , arthur levitt , took a tough line with the auditors ; his successor , harvey pitt , has struck a softer tone . with luck , mr . pitt will now adopt more of his predecessor ' s outlook . without objective auditing , there will be more and more enrons - - and more and more investors , lenders and employees who get unfairly burned . http : / / www . washingtonpost . com copyright ? 2000 dow jones financial desk enron slashes jobs , lines up financing energy : funding of $ 1 . 5 billion is intended to keep trading operations going amid move to reorganize . chris kraul ; thomas s . mulligan times staff writers  los angeles times home edition c - 1 copyright 2001 / the times mirror company new york - - in a desperate bid to stay afloat , enron corp . laid off 4 , 000 employees at its houston office monday - - nearly half its headquarters staff - - and in new york federal bankruptcy court unveiled a $ 1 . 5 - billion financing plan designed to keep it operating . enron ' s top lawyer also disclosed that the company is negotiating with three potential investors , one of which could emerge as a white knight and gain control of the troubled company . enron attorney martin j . bienenstock did not name them and cautioned that any deal could take months to consummate . as employees left the company ' s tower in downtown houston carrying their possessions in boxes , bankruptcy judge arthur j . gonzalez set maximum severance payments of $ 4 , 500 , regardless of seniority or salary level . gonzalez also approved a $ 1 . 5 - billion credit deal - - known as debtor - in - possession financing - - that was put together by a syndicate of banks led by j . p . morgan chase ; photographer : getty images copyright ? 2000 dow jones financial desk some power customers could see disruptions nancy rivera brooks times staff writer  los angeles times home edition c - 1 copyright 2001 / the times mirror company enron corp . warned electricity customers monday that it might be unable to serve them all because of the financial problems that led the houston energy giant to file for the largest bankruptcy in u . s . history . such a pullout could cause short - term disruptions in california if done with little notice , especially on a cold day with many power plant outages and extra demand from holiday light displays , energy officials warned . but the state ' s relatively new power - buying operation would be up to the task of lining up any extra electricity that might be needed for enron ' s customers , officials said . they just want as much notification as possible to avoid the frightening shortfalls of last winter and spring , when power buyers frantically scoured the west by phone to scare up any available megawatt to prevent rolling blackouts .  enron is believed to supply as much as 1 , 400 megawatts of electricity demand by institutional and industrial customers in california , including the university of california and california state university systems . that is equivalent to the usage of slightly more than 1 million average homes , or nearly 4 . 5 % of peak use on a typical winter ' s day . for nearly a year , dwr has been charged with buying about one - third of the power needed by the customers of southern california edison , pacific gas & electric and san diego gas & electric . a severe cash crunch and the collapse of the state ' s primary power market left those utilities without the means to buy electricity . enron is best known as an energy trader - - once the world ' s largest - - and pipeline owner , as well as a politically powerful proselytizer for the deregulation of electricity and other commodities . but the company also runs a fast - growing marketing business that delivers power to industrial customers as a kind of utility surrogate . enron continues to operate under protection from creditors under chapter 11 of the u . s . bankruptcy code while it comes up with a plan to pay off its more than $ 31 billion in debts .  however , some customers have received unsettling   the cal state system , which relies on enron to light 19 of 23 campuses , has received no direct communication from enron , said spokeswoman clara potes - fellow . on its web site , enron sought to reassure electricity and natural gas customers that it would continue to provide service . but the company went on to say :  that could be a problem in california , where utilities no longer buy additional power for their customers and regulators have ended the program that allows new customers to pick an electricity provider other than the traditional utility . if enron were to drop customers , they would revert to their former utility , and any extra power would have to be supplied by the state , said terrie prosper , a spokeswoman for the california public utilities commission .  in a signal that enron is already pulling back , the company informed the department of water resources on monday that it would no longer fulfill a short - term contract with the agency to supply 800 megawatt - hours a day of electricity to state buyers . pg & e spokesman john nelson noted that the utility would deliver power to any customer that needs it , but regulators and power buyers would have to work out where that power would come from . gov . gray davis said he doubts enron ' s bankruptcy filing will have an immediate effect on california , although he predicted it could result in rising wholesale electricity prices in coming days .  * times staff writer dan morain in mexico city contributed to this report . copyright ? 2000 dow jones financial desk markets enron , mideast weigh on stocks wall st . : dow declines 0 . 9 % , and nasdaq is down 1 . 3 % . oil prices rise ; bond yields fall . from times staff and wire reports  los angeles times home edition c - 4 copyright 2001 / the times mirror company stocks closed broadly but modestly lower monday , pressured by concerns over enron ' s chapter 11 bankruptcy filing and the latest wave of violence in the mideast . crude oil prices rose above $ 20 a barrel for the first time since nov . 13 on fears the deepening conflict between israel and the palestinians could threaten oil supplies . on wall street , the dow jones industrial average fell 87 . 60 points , or 0 . 9 % , to 9 , 763 . 96 , while the nasdaq composite gave up 25 . 68 points , or 1 . 3 % , to 1 , 904 . 90 . the blue - chip standard & poor ' s 500 index fell 0 . 8 % to 1 , 129 . 90 , its fourth decline in five sessions . losers outnumbered winners 3 to 2 on the new york stock exchange and 23 to 13 on nasdaq , though in relatively slow trading . stocks fell in early trading , then pulled up from their lows in the afternoon . the latest u . s . economic data suggested the picture may be brightening somewhat , but that failed to stir much new buying interest in the stock market . still ,  in commodities trading , worries about a further escalation in the israeli - palestinian conflict helped push near - term crude oil futures up 65 cents to $ 20 . 09 a barrel in new york . analysts cited fears that terrorists might try to disrupt oil shipments from the middle east . concern about enron ' s bankruptcy helped send many bank and brokerage stocks lower , though analysts said major banks ' losses on enron debt are likely to be smaller than some investors fear . in the bond market , long - term treasury yields continued to ease . many economists say the federal reserve will cut its key short - term rate , now 2 % , to as low as 1 . 5 % when policymakers meet dec . 11 . on monday , fed chairman alan greenspan had lunch with president bush . the 10 - year t - note yield fell to 4 . 69 % from 4 . 75 % friday , and now is the lowest since nov . 14 . the five - year t - note yield eased to 4 % from 4 . 06 % . among monday ' s highlights : * enron ' s bankruptcy helped pull j . p . morgan chase down $ 1 . 17 to $ 36 . 55 and citigroup down 99 cents to $ 46 . 91 . among power companies , former enron suitor dynegy dived $ 3 . 18 to $ 27 . 17 , calpine slumped $ 3 . 06 to $ 18 . 50 , and reliant resources lost 47 cents to $ 15 . 80 . * oil and natural - gas stocks rallied as crude prices rose . chevrontexaco gained $ 1 . 44 to $ 86 . 45 , apache rose $ 1 . 07 to $ 47 . 06 , and unocal jumped $ 1 . 12 to $ 34 . 01 . * major technology stocks were mixed . chip maker micron technology rose $ 1 . 40 to $ 28 . 56 , and microsoft added 56 cents to $ 64 . 77 . but software giant oracle slipped 33 cents to $ 13 . 70 after merrill lynch lowered its earnings and revenue estimates for the company . the brokerage cited a challenging environment for software spending . * internet stocks pulled back . ebay fell $ 1 to $ 67 . 07 , amazon . com lost 83 cents to $ 10 . 49 , and aol time warner slid $ 1 . 32 to $ 33 . 58 . * airline stocks were mostly lower as oil prices rose . delta fell 91 cents to $ 28 . 07 , united parent ual lost 57 cents to $ 16 . 30 , and northwest gave up 56 cents to $ 17 . 36 . * retail shares struggled . may department stores lost $ 1 . 31 to $ 34 . 53 , kohl ' s slid $ 1 . 45 to $ 66 . 40 , and sears was off $ 1 . 16 to $ 44 . 35 . * household international fell $ 2 . 60 to $ 56 . 39 . the consumer - finance company may be using accounting practices to obscure loan losses , barron ' s magazine said , citing analysts . copyright ? 2000 dow jones financial desk banks ' enron losses seen limited bankruptcy : the firm says it owes three major lenders $ 7 . 55 billion , but analysts say that total overstates the exposure . bloomberg news  los angeles times home edition c - 6 copyright 2001 / the times mirror company new york - - enron corp . ' s bankruptcy filing says the firm owes citigroup inc . , j . p . morgan chase & co . and bank of new york co . a combined $ 7 . 55 billion . but analysts say the actual amount owed the big banks may be less than half that , because the loans have been syndicated among other lenders . banks routinely sell parts of loans to other lenders as a way to disperse risk . the big banks also are listed as holders of enron bonds and other securities , but analysts say many of those securities are owned by investor clients of the banks .  worries about financial companies with credit extended to enron pushed many of those stocks lower on monday . citigroup fell 99 cents to $ 46 . 91 , j . p . morgan chase lost $ 1 . 17 to $ 36 . 55 and bank of new york lost $ 1 . 04 to $ 38 . 20 , all on the new york stock exchange . among brokerages , goldman sachs fell $ 2 . 99 to $ 86 . 01 and morgan stanley slid $ 3 . 17 to $ 52 . 33 , also on the nyse . citigroup , the largest u . s . financial services company , is listed as having $ 3 billion in unsecured claims against enron . but the bank itself probably is owed $ 1 billion at most by enron , analysts say , and much of that is backed by collateral such as gas pipelines , on which citigroup should be able to collect . citigroup ' s earnings may be lowered by between $ 250 million and $ 500 million before taxes , or a relatively small 3 cents to 5 cents a share after taxes , as a result of its involvement with enron , napoli estimated . j . p . morgan chase - - which enron says is owed $ 2 . 1 billion - - says its true exposure totals about $ 900 million . of that sum , $ 500 million is unsecured and $ 400 million is backed by collateral . that exposure could result in a 15 - cent drop in earnings per share for j . p . morgan chase , said goldman sachs analyst richard strauss . the company had been expected to earn $ 2 . 02 a share this year and $ 3 . 16 a share next year . j . p . morgan chase also acts as a representative for holders of enron bonds , so although the company is listed by enron as a creditor on $ 1 . 9 billion of bonds , it may not be on the hook for a cent of that debt . citigroup and j . p . morgan chase on monday helped provide $ 1 . 5 billion in debtor - in - possession financing for enron . such new financing is considered low risk once a company is in bankruptcy , because it moves ahead of debts on the books before the bankruptcy filing . copyright ? 2000 dow jones financial desk enron shares trading ; nyse to review status tom petruno  los angeles times home edition c - 6 copyright 2001 / the times mirror company enron corp . shares continued to trade on the new york stock exchange on monday , but the big board issued a statement saying it is reviewing the stock ' s status . the company ' s shares rose 14 cents to close at 40 cents . nearly 168 million shares changed hands . a bankruptcy filing doesn ' t automatically force a stock off the nyse . the exchange said enron  enron shares first fell below $ 1 on nov . 28 . but the nyse also warned that it can delist a stock even if a company meets official listing standards . the exchange  losing its nyse listing could push enron into the over - the - counter market . that ' s where shares of steelmaker ltv inc . now trade . that company filed for bankruptcy protection a year ago . polaroid corp . , which filed for bankruptcy oct . 12 , was delisted by the nyse on oct . 15 and now trades in the otc market . but bethlehem steel , which entered bankruptcy on oct . 15 , still trades on the nyse . copyright ? 2000 dow jones editorial _ pages desk enron ' s failure  los angeles times home edition b - 12 copyright 2001 / the times mirror company regarding the congressional probe of the failure of enron , the texas energy company near bankruptcy ( nov . 30 ) : i thought buying and selling contracts in a commodity without owning same , which was to a large extent its business , was essentially making a futures market , something that is subject to government regulation . or don ' t these regulations apply to these large republican campaign donors ? r . w . tolbert long beach bankruptcies have their positive side . in the case of the financial collapse of enron , the finest minds on free - market economics and the benefits of deregulation in the republican party will be freed from their commercial labors and available to go to washington to help guide policy on the privatization of social security and other grossly inefficient government programs . paul a . myers rancho cucamonga copyright ? 2000 dow jones & company , inc . all rights reserved . dec . 4 , 2001 , 12 : 41 am houston chronicle enron lays off 4 , 000 many ex - employees feel betrayed and angry by david kaplan and l . m . sixel copyright 2001 houston chronicle enron corp . laid off more than half of its houston work force monday , leaving 4 , 000 former employees wondering how bankruptcy would affect their severance pay , health insurance and financial futures . enron - - once the energy industry ' s crown jewel and the place to work - - filed bankruptcy in new york ' s southern district court on sunday , claiming it owed $ 31 . 2 billion and had assets of only $ 49 . 8 billion . as lawyers for the company began the first steps in seeking chapter 11 protection in a manhattan court , officials in houston monday morning divided employees into two camps : those who would stay and those who would go . shortly after getting the word , the former employees streamed out of the building with boxes of personal belongings . many hung around for hours . they paced , talked in small groups , and took pictures of each other for the last time . it was a strange scene , former employee diane cook said later in the afternoon .  only months ago , enron had the reputation for being a pot of gold , a place where a secretary could become a millionaire . the high - flying energy trading company seemed to be soaring , and employees were enjoying the ride with hefty salaries , lucrative stock options and pension plans . but their company ' s stock dropped from a high of $ 84 to less than the price of a soda at enron field in a year ' s time . for many of the employees , the spectacular collapse of their company is a financial and personal tragedy . many feel betrayed and angry .  one singled out one of their villains .   estes knows that finding a job will not be easy . the information technology market in houston isn ' t that good , she said , nor is the economy in general . and so many former it professionals from enron will be flooding the local market . some said they plan to move . division heads broke the news to their former staffers , giving them about 30 minutes to pack their bags and leave . they were given handouts with   later in the day , new york bankruptcy judge arthur gonzalez accepted enron ' s request for $ 4 , 500 in severance pay for each terminated employee .  but there is no guarantee the court will give more severence pay for employees , said robert rice , an employment lawyer with rice & associates .  cobra , the consolidated omnibus budget reconciliation act , entitles enron employees to group rates for health coverage for 18 months . employees do have the right to apply for unemployment benefits . they will be paid through friday . medical insurance will be provided through the end of december . former enron employees are networking . they ' ve created their own web site to help the job search process and stay in touch . about 4 , 000 have already listed their names on the site . many at enron know of colleagues who worked there 30 years and lost $ 1 million or more . that ' s because many employees grew accustomed to a steady diet of lucrative stock options that tied them to the company with velvet handcuffs . they built homes , second homes and bought luxury cars . but now , with their options worthless , many are worried how they ' ll keep up those payments . for one employee in the financial mangement area of enron , losing $ 100 , 000 on his 401 ( k ) was bad enough . it paled in comparison to the $ 400 , 000 he lost with his employee stock ownership plan . many of his shares , which were given to him january 1994 , had a strike price of $ 15 a share . it was a sweet deal when he could resell at $ 84 a share . but he didn ' t need the money and opted to hold it for retirement when the tax hit wouldn ' t be as big . some employees blame enron for a good share of their losses in their retirement plans . the company was changing benefit administrators and froze assets in the plan on oct . 17 , the day after enron officials shocked the market by announcing it was taking a $ 1 . 01 billion third - quarter charge to its earnings to unwind unprofitable investments . steve lacey , an emergency repair dispatcher for enron - owned portland general electric , said he watched helplessly as his enron stock plummeted in value . he had invested all of his 401 ( k ) funds into enron stock . one 68 - year - old had been looking forward to a quiet retirement , buying a few acres , planting some crops and spending time with his granddaughter . but his wife , who had worked at enron for more than 20 years , lost nearly everything . now they ' re looking for new jobs . they never imagined that the big , aggressive company would ever come crashing down on them . they weren ' t sophisticated investors and put almost everthing they had into enron stock .  outside the building monday , police officers on horseback , a horde of media and clusters of laid - off workers gathered .    dec . 4 , 2001 , 12 : 01 am houston chronicle in tit for tat , dynegy says it will sue enron would - be buyer says stock price , business harmed by nelson antosh copyright 2001 houston chronicle in a case of one lawsuit breeding another , dynegy said monday it plans to sue enron for damage to the company , including its quickly eroding stock price . the announcement follows sunday ' s $ 10 billion lawsuit by enron against dynegy for canceling the merger that theoretically would have saved it from bankruptcy . this action , which will likely be filed next year because of bankruptcy court rules , would be the second lawsuit brought by dynegy . on monday it filed in district court in houston attempting to force enron to turn over a prized subsidiary , northern natural gas . dynegy received an option to buy the pipeline when it invested $ 1 . 5 billion in enron , but dynegy officials complain enron doesn ' t want to turn over the keys to the pipeline or give back the money . dynegy ' s stock has slipped every day since it broke off the merger last wednesday . on monday it lost $ 3 . 18 to close at $ 27 . 17 . it has fallen 34 percent since last tuesday .  the pain level is high for dynegy officials , he said , but   in prudential ' s view , dynegy ' s stock would have been better off if it had never approached enron . in addition to the lawsuits , the widely publicized deal led to increased scrutiny by financial markets . ken randolph , executive vice president and general counsel , considers the stock price slump temporary ,  he was unable to unable to tell the analysts how long it would take for the situation to be resolved , although they did say the houston suit over the pipeline was expedited for relatively quick resolution .  the ongoing debate isn ' t good for the city or the industry , he said . likewise analyst curt launer of credit suisse first boston said it was impossible to predict how long the dueling lawsuits would continue . but he noted that the bankruptcy of columbia gas in 1991 took nearly five years to resolve . dynegy ' s second lawsuit claim for damages can ' t be filed anytime soon , according to randolph , because enron ' s bankruptcy filing resulted in an automatic stay . there will be a period of time for companies to submit their claims , he said , which means it will be filed sometime in the next few months . they are not estimating the size of their claim for damages , such as costs and expenses , plus the stock price drop . meanwhile , dynegy is attempting to limit the damage and rebuild confidence among investors . the industry is sound , and the fundamentals of dynegy ' s business remain strong , said dynegy president steve bergstrom . the company is finishing a good year and expects an earnings growth rate of 20 to 25 percent for 2002 . since oct . 1 , the number of customers using its dynegydirect web site doubled , and the number of transactions grew by 20 percent . the company said it will begin marketing chevron / texaco ' s natural gas starting jan . 1 , but didn ' t have details . olson considers it  dynegy officials late sunday talked to all three credit rating agencies to provide the latest information and try to convince them not to lower the company ' s ratings . nonetheless , watson said the negative credit watch by the agencies - - which means they are reviewing the company with the possibility of a downgrade - - is expected to continue . the credit rating firms had anticipated a lawsuit by enron and were not surprised by it , he said . dynegy has been on a negative ratings watch since nov . 9 when the merger was first announced , without much impact on trading , officials said . dec . 4 , 2001 , 12 : 00 am houston chronicle pain of bankruptcy to hurt many others ` we ' re just all shocked ' by ralph bivins copyright 2001 houston chronicle the bankruptcy reorganization of enron corp . , the largest chapter 11 ever , will spread financial pain from the big banks in new york all the way to the local locksmith fixing the doorknobs in enron ' s headquarters . enron ' s huge debts , such as the $ 3 billion owed to citibank , the $ 2 . 4 billion owed to bank of new york and $ 1 . 9 billion owed to chase manhattan bank , flash large numbers that demand attention . but plenty of small houston companies - - firms that can ' t absorb major write - downs without really feeling it - - are getting pinched by enron ' s bankruptcy also . berger iron works is owed $ 675 , 000 by enron - - a huge sum for the 108 - year - old houston company . but berger , which created stainless steel stair railings and other items for enron ' s new 40 - story office tower in downtown , will be able to absorb the financial blow somehow , said bill carbery , chief financial officer of berger . berger , which has 45 employees , will not lay off personnel or cut back operations .  kendall heaton associates , a houston architecture firm that is owed $ 200 , 000 for its work on the new enron tower , has been hit hard by the enron bankruptcy case .  kendall , which has 58 employees , said he is hoping to avoid slashing payroll because of the enron debt , but layoffs are a possibility . baker ' s safe and lock co . , which has one full - time employee on - site at enron ' s headquarters , hopes to keep its locksmith shop open at enron ' s buildings , said randy simpson , the company ' s president . baker ' s , with 22 employees overall , has twice been named  he said baker ' s has other significant clients and there are no plans for layoffs , but the bankruptcy could create ripple effects that hurt other enron vendors .  clark condon associates , a houston landscape architecture firm with 22 employees , is owed $ 8 , 000 by enron . clark condon had a $ 40 , 000 contract to work on the new enron building , which will be complete next year , said sheila condon , the firm ' s president . but the company had already collected most of the payment .  losing $ 8 , 000 is not desirable but would not be a tremendous blow to the company , condon said . graphtec , a houston sign firm with 40 employees , has created scores of new signs for the enron building , but not all of them have been installed , said gus brown , vice president of the firm . brown declined to discuss the details of graphtec ' s financial entanglement with enron , which listed graphtec as a creditor . but brown said it is not a crisis for the firm , which has a lot of other work lined up , including the sign work at the new reliant stadium . the enron fallout could even include the annihilation of some small companies , said bill gilmer , an economist for the federal reserve bank in houston .  most small businesses do not depend on a single client for a majority of revenue . but there will be many companies that will see thinner earnings as enron operates at a leaner level in the future , said economics professor steven craig of the university of houston . companies that handled advertising , accounting services or ink for the copying machines could be weaker without sales from enron , craig said . aztec facility services , a houston - based firm that provides custodial service to enron ' s downtown buildings , is expected to lay off some personnel as enron occupies less office space after the layoff of 4 , 000 employees , said bill widman , chief financial officer of aztec .  aztec has about 100 hourly workers cleaning the enron buildings . but enron is current with its payments to aztec and company officials hope to continue working with enron , widman said .  the hines real estate development firm is continuing with work on the construction of the enron center south building in downtown and should be completed next year , a spokeswoman for the houston developer said . hines is owed $ 385 , 000 by enron for its work on the tower , according to bankruptcy documents . dec . 4 , 2001 , 1 : 07 am houston chronicle woes leave enron field ' s name in question astros could do without naming rights distraction by greg hassell copyright 2001 houston chronicle as recently as two months ago , enron executives were toasting their decision back in 1999 to plunk down $ 100 million for the naming rights for houston ' s gleaming baseball park . buying the name enron field had done wonders for the ambitious company ' s quest of making a name for itself across the nation and around the world . without a doubt , they said , it was worth every penny of the $ 3 . 3 million they agreed to pay the houston astros every season for 30 years . but the past 60 days have been a nightmare for the high - tech energy company . with alarming speed , enron has collapsed and is fighting for its survival . with its future in peril , one of the many uncertainties surrounding enron is the identity of its glitzy namesake perched on the eastern edge of downtown . when baseball fans file into the stadium for the astros ' season opener april 2 , will the enormous blue letters spelling enron field still loom large over the centerfield scoreboard ?  for now , enron is paid up on its financial obligations to the astros . the baseball club declined to say when the next payment is due , or how large . the team also declined to say what action it might take if enron fails to deliver the cash on time . for its part , enron officials are saying little about the stadium deal , which is relatively small fry when you consider that the company is embroiled in the largest chapter 11 bankruptcy proceeding in history .  enron field is but one of the many new stadiums experiencing an identity crisis . in baltimore , the super bowl champion ravens play football in a stadium named after a bankrupt internet service provider . but as beleagured as the company is , it has not yet missed a payment , and the place is still called psinet stadium . in st . louis , the rams play football in a dome that had been named after twa . but american airlines bought out the carrier , and the twa name has been removed from the stadium . the rams haven ' t found another company willing to pony up millions , so the stadium bears the temporary monicker of dome at america ' s center . as dull as that name is , it ' s probably better than what you ' ll find in miami , where the dolphins and marlins play in something called pro player stadium . the biggest problem with that is there ' s no sportswear company called pro player anymore . it has vanished , although the stadium name remains the same . in past naming - rights deals , the heaviest buyers have been high - tech outfits and airlines . both of those industries are in the tank , and it seems unlikely we ' ll see any big deals coming from those quarters anytime soon .  just how difficult finding a sponsor can be during this recession is underscored by the experience of the texas rangers . the team ' s multimillionaire owner , tom hicks , is hunting for a sponsor to buy the naming rights to what is now called the ballpark at arlington . so far , hicks and the rangers have struck out looking .  so if enron backs away from the stadium that was to bear its name for the next 28 years , the astros will be hard pressed to quickly find a new corporate partner to fill the void .  in addition to the weak economy and the glut of stadiums chasing after deep - pocketed sponsors , the economics of baseball may be a spooky proposition for companies looking to use the national pastime to buy some goodwill . with no labor contract in place between the owners and the players , the specter of another work stoppage looms over the game . if that weren ' t bad enough , baseball ' s own commissioner says the game is bleeding $ 500 million a year , and he is seeking to shut down two franchises before the season starts this spring .  gruen takes a less alarmist view of baseball ' s future but agrees that prospective sponsors  which is not all bad . gruen thinks the very worst thing the astros could do is jump into a deal with another company that faces an uncertain future .  dec . 4 , 2001 , 5 : 45 pm houston chronicle enron employees : tell us your stories copyright 2001 houston chronicle if you are - - or were - - employed at enron corp . , we want to hear your story . the rise and fall of the energy trading company is a remarkable tale , and we ' d like to read about your experience as part of that roller coaster ride . we ' ll publish online the best of what we get . send your tales of life at enron via e - mail to enron @ chron . com . please include your name , a working e - mail address and a daytime phone number . if you want your story to appear anonymously , please say so , but we need your contact information for verification purposes . we reserve the right to edit all submissions . dec . 4 , 2001 houston chronicle lenders lining up , but hard fight looms by laura goldberg and david ivanovich copyright 2001 houston chronicle new york - - enron corp . took steps monday to ensure funding for its day - to - day operations , but the company faces a difficult struggle in the months ahead as it tries rebuild itself . in new york monday , u . s . bankruptcy court judge arthur gonzalez approved a plan for a group of lenders led by j . p . morgan chase & co . and citigroup to lend enron $ 250 million now , another $ 250 million by jan . 7 and , if all goes well , another $ 1 billion after that . the goal is to ensure that enron ' s core energy trading business survives as a viable entity , by giving other companies confidence they can still do business with enron and expect to be paid . enron officials estimate its trading business alone is worth $ 6 billion to $ 7 billion , said martin bienenstock , an attorney with weil , gotshal & manges , representing enron in the bankruptcy case . enron currently has about $ 500 million in cash on hand , down from about $ 2 . 5 billion it typically had on hand before its crisis began , bienenstock said . enron may never need to dip into that extra $ 1 . 5 billion in cash , bienenstock said . but just having the funds available eases its financial stress .  lenders who make such financing in a bankruptcy proceeding typically get high priority for repayment and their loans come with high interest rates and high underwriting fees . enron chief executive officer ken lay , who didn ' t attend monday ' s hearing , said in a statement the $ 250 million will be used to help enron fulfill obligations needed to run its business , such as employee payroll and vendor payments for goods and services provided on or after sunday ' s bankruptcy filing . enron also is negotiating with three financial institutions in the hopes of revitalizing its wholesale trading business under a new ownership structure . bienenstock expects those talks to be completed within weeks . gonzalez also signed off on a provision to let enron pay up to $ 4 , 500 in severance pay to workers being laid off . workers could get additional severance payments later as the bankruptcy progresses . a small number of employees may be eligible for up to $ 15 , 000 to cover travel and other expenses incurred but not reimbursed before enron sought protection from its creditors under chapter 11 of the u . s . bankruptcy code . enron also will be allowed to keep making payments on its $ 219 million office tower that ' s still under construction in downtown houston . enron has already paid $ 180 million toward the construction costs and any buyer of the property would need to complete the work to realize any value from the project . jeff mcmahon , enron ' s chief financial officer , was the company ' s top executive at the hearing .  as the bankruptcy progresses , enron and its creditors will examine the various parts of the company and decide whether they would be more valuable being sold off or kept as ongoing operations . enron ' s major creditors will meet on dec . 12 to form a creditors committee , which will negotiate with the company on behalf of those still owed money . enron officials will be back in bankruptcy court for another hearing on dec . 14 . enron ' s chapter 11 filing is the largest bankruptcy case in u . s . corporate history . not surprisingly , gonzalez ' s courtroom was packed monday with more than 125 attorneys and reporters . enron and 13 of its affiliates filed for bankruptcy protection from its creditors after a planned merger with dynegy fell apart and cuts in enron ' s credit rating triggered serious problems for the company . enron listed assets of $ 49 . 8 billion and liabilities of $ 31 . 2 billion , though it has other debt obligations not listed on the filings . as enron decided where to file , it probably considered that houston and new york have among the nation ' s most sophisticated bankruptcy judges and lawyers in the country , said nancy rapoport , dean of the university of houston law center and a bankruptcy specialist . choosing new york , she said , let enron avoid local issues hovering around the courthouse . and that includes current or laid - off enron workers . monday ' s hearing was just the first step in a process that could take a year or more . despite enron ' s statements that it plans to emerge from bankruptcy protection with a rebuilt business of some type , the odds do not favor it .  eighty percent to 90 percent of companies will fail in their chapter 11 efforts , said jack williams , a law professor at the georgia state university college of law and scholar - in - residence at the american bankruptcy institute , a nonprofit think tank . those that fail - - even those that go in intending to reorganize - - typically end up liquidating all their assets either in the chapter 11 proceeding or converting to a chapter 7 liquidation case , he said . the biggest potential obstacles to success : a too - small asset base , not enough cash and a poor business plan , he said . as a case unfolds , it ' s not uncommon for the true value of a company ' s assets to turn out below the company ' s numbers , williams said . some companies actually file for chapter 11 , even though they intend to liquidate assets , experts said , as doing so gives them more control over a selloff . under a chapter 7 filing , a court - appointed trustee handles the liquidation . before it filed , enron had put much of its portfolio of international assets up for sale . any deals now need approval from the court , with proceeds going to creditors . the creditors committee has a voice in virtually everything that is considered by the judge , said joel kay , an attorney who specializes in bankruptcy cases at hughes , watters & askanase l . l . p . in houston . that includes an opinion on whatever reorganization plan enron files with the court . once a bankruptcy petition is made , the company cannot pay any debts incurred before the filing without permission from the judge , kay said . enron is expected to immediately start sorting through its leases and contracts , deciding what it needs to run the business and what is not needed . for those the judge agrees to let enron keep , it will be allowed to make payments for future goods and services . companies with contracts enron is allowed to reject will be considered creditors . enron does not need court approval to spend money on what is considered the normal course of business . but if it wants to sell assets , borrow money or do something out of the ordinary , it must ask . for example , if enron reaches a plan to revamp its trading operation , the court will need to approve . several stock analysts expressed doubt that enron will come out of chapter 11 or be able to make its trading operation work again , even if a new trading joint venture is created . andre meade of commerzbank securities in new york said buyers and sellers of energy   he expects shareholders - - generally at the bottom of the creditor pool in a bankruptcy filing - - will most likely get nothing out of the bankruptcy filing . the efforts of shareholders and employees who sued enron will be delayed or halted . such lawsuits are stayed and attorneys will have to seek permission of the bankruptcy court to move ahead . dec . 4 , 2001 houston chronicle q & a on the enron bankruptcy why did enron file for bankruptcy ? enron ' s increasing problems - - particularly the reduction in its bond rating to junk bond status - - triggered billions in claims that it could not afford to pay . filing for bankruptcy protection allows it to avoid paying creditors while it works out a plan to reorganize the company . how will the company fund its day - to - day business going forward ? the two top priorities now are finding a source of financing for its day - to - day operations and getting permission from the bankruptcy court to pay essential expenses - - such as their payroll and the cost of benefits like health insurance . at this point why would anyone lend them another penny ? after filing for bankruptcy companies normally seek what is known as debtor - in - possession financing . lenders that provide such financing go to the front of the line when it comes time to get paid back . this agreement , which normally pays a top interest rate , has to be approved by other creditors . the creditors normally go along because continued operations will mean a bigger payout than a complete liquidation . who will get paid back ? bankruptcy law sets the priorities in a bankruptcy . first in line are those with debts secured by the company ' s property . at the bottom are common shareholders . in the middle are unsecured creditors . however , this is all subject to negotiation by the committees representing the parties in the suit . if common shareholders are the last to get paid , why did the stock rise ? there ' s no good explanation . sometimes at the start of a big case , certain parties will buy shares to win a place on the committee representing shareholders . other buyers are traders who see a short - term profit to be made in the price movement of the stock , which trades in pennies . will enron be able to come back ? that depends on whether management can pare this once huge company down to a profitable core . officials within enron have warned the surviving company may be far different than what you see today . often many operations are sold to raise cash to preserve a few key parts . dec . 4 , 2001 , 11 : 23 pm houston chronicle enron ' s recent troubles aug . 14 jeff skilling , who served as ceo for six months , steps down for personal reasons . ken lay assumes the role of ceo . enron ' s stock closes at $ 42 . 93 , off from a 52 - week high of around $ 85 . oct . 16 enron reports a $ 638 million third - quarter loss and discloses a $ 1 . 2 billion reduction in shareholder equity , partly related to losses by partnerships run by chief financial officer andrew fastow . oct . 22 enron acknowledges securities and exchange commission inquiry into a possible conflict of interest related to the company ' s dealings with those partnerships . oct . 24 andrew fastow is replaced as chief financial officer by jeff mcmahon . oct . 25 enron draws on $ 1 billion credit line , hoping to provide liquidity and restore investor confidence . oct . 31 ? the securities and exchange commission announces it has begun a formal investigation , allowing it to subpoena evidence . ? enron adds william powers jr . , dean of the university of texas school of law , to the board to chair a special committee dealing with the investigation . nov . 6 enron ' s stock price drops below $ 10 a share after reports the financially troubled energy trader was seeking additional financing to shore up confidence . nov . 8 enron revises its financial statements for the past five years to account for $ 586 million in losses . the losses are related to a number of complex partnerships , including several under investigation by the securities and exchange commission . nov . 9 dynegy announces an agreement to buy its much - larger crosstown rival for more than $ 8 billion in stock . it promises investments in the near term to stabilize enron . nov . 14 ? after criticism by employees , lay says he will not take a $ 61 million severance payment he would be due if the merger closes . ? enron says it planned sell business units valued around $ 8 billion over the next year , using the proceeds to pay down debt . nov . 20 ? shares drop 23 percent to $ 6 . 99 after news the company had to restate its third - quarter earnings and would need to pay off or renegotiate a $ 690 million debt after stock was downgraded on nov . 12 . officials from both enron and dynegy say the merger is not in trouble . ? a group of enron employees sue enron , claiming the company recklessly endangered their retirement funds , which was tied up in enron stock . nov . 21 enron reaches critical agreement to extend the $ 690 million debt obligation . nov . 28 ? dynegy pulls out of deal to buy enron , citing  ? enron ' s debt is downgraded to junk status , leading to a temporary halt in the company ' s enrononline platform , which handles about 60 percent of its trading business or $ 2 . 8 billion daily . ? enron ' s shares plunge to below $ 1 amid the heaviest single - day trading volume ever for a new york stock exchange or nasdaq - listed stock . nov . 29 ? enron stops sending cash to its overseas operations , forcing its enron europe operations to file for creditor protection and lay off 1 , 100 employees . ? the new power co . , an enron corp . spinoff entering the deregulated texas electric market , reminds consumers it is an  ? a congressional panel launches an investigation into enron ' s business practices . dec . 2 enron files for bankruptcy protection , the largest in u . s . history . enron sues dynegy for dropping out of merger , seeking damages of at least $ 10 billion . the suit asks a judge to block dynegy from taking possession of the northern natural gas pipeline . dec . 3 ? dynegy countersues enron over the right to acquire the pipeline . ? enron starts cutting 4 , 000 employees , mostly in the houston headquarters . the company arranges up to $ 1 . 5 billion of debtor - in - possession financing . source : houston chronicle files , associated press dec . 4 , 2001 , 12 : 04 am houston chronicle enron briefs copyright 2001 houston chronicle news services real amount of bank debt in doubt as risk dispersed enron corp . says it owes citigroup , j . p . morgan chase skilling , who stunned investors when he quit in august six months after becoming ceo , picked up $ 76 . 1 million . ken harrison , former chairman and ceo of portland general , sold almost 992 , 000 shares for $ 78 million . enron bought the utility in 1997 for $ 3 . 1 billion in stock and debt . harrison couldn ' t be reached for comment . the selling among enron insiders outweighed the buying during the past decade . in all , insiders bought almost 488 , 000 shares , paying a total of $ 20 . 7 million . the last executive to buy enron ' s stock : former chief financial officer andrew fastow , who bought 10 , 000 shares on aug . 16 at $ 36 . 98 , according to the washington service . the insider selling at enron is high for an energy company . insiders at exxon mobil corp . , the biggest publicly traded oil company , sold $ 410 million of stock during the same period , according to washington service . those sales pale in comparison with some computer - related technology companies . microsoft corp . insiders , among the most active sellers at any u . s . company , sold 367 . 2 million shares worth $ 31 . 4 billion since 1990 , records show . california customers told they may be out in cold enron corp . warned california electricity customers monday that it might be unable to serve them all because of the financial problems that led the houston energy giant to file for bankruptcy . such a pullout could cause short - term disruptions in california if done with little warning , especially on a cold day with many power plant outages and extra demand from holiday light displays , energy officials warned . but the state ' s relatively new power - buying operation would be up to the task of lining up any extra electricity that enron ' s customers might need , officials said . they just want as much notification as possible to avoid the frightening shortfalls of last winter and spring , when power buyers frantically scoured the west by phone to scare up any available megawatt to prevent rolling blackouts . wessex water announces it ' s still financially sound exeter , england - - wessex water , the british water company owned by enron , said it ' s still financially sound and neither it nor its holding company , azurix corp . , are included in enron ' s bankruptcy filing . the company , which employs 1 , 400 in great britain , is  dec . 4 , 2001 , 1 : 10 am houston chronicle enron tries to resurrect trading but former clients staying away by michael davis copyright 2001 houston chronicle enron tried to maintain a veneer of normal trading operations monday , but former clients stayed away as it began the long struggle to revive its crippled trading business . before its abrupt slide into bankruptcy , the houston company dominated the wholesale energy sales and trading business . in better days this was its main business , generating some 80 percent of the company ' s profits . but many of enron ' s traders are circulating r ? sum ? s , and even enron officials conceded monday it will be a struggle to bring back its business . the trading floor was open mostly to enable traders to close out any positions , enron spokesman mark palmer said . traders at other companies contacted monday said they were keeping their distance .  the company ' s widely anticipated bankruptcy filing was made sunday . the trading operation is not included in those filings because the company hopes to revive it by moving into an independent new company . enron has posted a message on its internet site to its trading customers , saying it was in discussions to bring in investors to recapitalize its trading business . the scale of such an operation is limited by the capital the company needs to keep on hand to cover possible losses in this volatile business . the new trading business would be staffed by enron ' s current trading team . chief executive officer ken lay , in a recent memo to employees , said :  companies that once depended on enron traders say it has already lost a key asset .  the challenge enron faces is winning back customers that have gone elsewhere . companies that said they are no longer doing business with enron and have no plans to do so anytime soon include conoco , duke energy and txu . most companies shifted to cash - only trading with enron last week before halting business with enron altogether . enron was once the biggest energy trader in the world . on sunday , it filed the largest bankruptcy case in u . s . history . it also sued dynegy for $ 10 billion , accusing its rival of withdrawing a takeover bid to remove a competitor . but even if the company is able to salvage its trading operations , the clients it once had may be long gone by the time things are back to normal .  duke energy has recently received about 300 r ? sum ? s from enron employees , including traders , said suzanne rhodes , spokeswoman for the company in houston . when asked if duke was hiring , she said :  el paso energy corp . also has been flooded with r ? sum ? s , company spokesman mel scott said . el paso is holding its annual job fair this month , and there is no doubt some former enron employees will be on hand .  repeat : edf in talks over enron direct , other assets by sarah wachter and sarah spikes  dow jones energy service ( copyright ( c ) 2001 , dow jones 331 - 4017 - 1740 ; sarah . wachter @ dowjones . com copyright ? 2000 dow jones & company , inc . all rights reserved . enron ' s brazil unit not part of us chapter 11 filing  dow jones international news ( copyright ( c ) 2001 , dow jones 55 - 11 3145 - 1481 adriana . arai @ dowjones . com copyright ? 2000 dow jones & company , inc . all rights reserved . attorney says tender offer for enron is ' off the wall ' by lynn cowan and todd goren of dow jones newswires  dow jones news service ( copyright ( c ) 2001 , dow jones & company , inc . ) washington - ( dow jones ) - a private illinois company that wants to take over enron corp . ( ene ) is   munitz and other reorganization specialists said they had never seen a case where someone made a tender offer to shareholders of a company that has already filed for chapter 11 bankruptcy . but that ' s what standard power standard power & light said it anticipates the tender offering price will be under $ 1 a share . enron said only that it had not received the tender offer . standard power in june , it sold its interests in two projects , according to its president and chief executive , richard ryan . at the conclusion of the two sales ,  he recently rejoined standard power & light . aside from enron , he said standard power 202 - 628 - 9783 lynn . cowan @ dowjones . com ( todd goren also contributed to this report . ) copyright ? 2000 dow jones & company , inc . all rights reserved . usa : before the bell - futures rise - enron soars 41 percent .  reuters english news service ( c ) reuters limited 2001 . new york , dec 4 ( reuters ) - equity index futures rose on tuesday as shares of enron corp . soared 41 percent in pre - open trade after the beleaguered energy trader confirmed it had secured $ 1 . 5 billion in debtor - in - possession financing . after the close on monday , enron said it had secured the financing from two of its creditors , j . p . morgan chase and citigroup . enron shares soared to 55 cents in early dealings on the instinet electronic system vs . a close at 39 cents on monday . equity index futures suggested stocks were headed for a slightly higher open . december futures for the s & p 500 index rose 2 . 70 points to 1 , 132 . 20 , while futures for the nasdaq 100 climbed 5 points to 1 , 572 . dow jones industrials futures added 33 points to 9 , 793 . mcleodusa inc . fell to 42 cents ahead of the open from 52 cents at the close on monday . the local telephone and data services provider announced a restructuring plan to reduce its debt but warned that it may seek chapter 11 bankruptcy protection . in other news , synopsys inc . said it will acquire avant corp . for about $ 769 million in stock , rounding out its product line - up for software used to design computer chips . avant soared in pre - open trade to $ 16 . 75 after closing at $ 10 . 95 on monday . copyright ? 2000 dow jones & company , inc . all rights reserved . india : wrapup 1 - enron assets in play , crisis funds give hope . by stuart penson  reuters english news service ( c ) reuters limited 2001 . amsterdam dec 4 ( reuters ) - fallen energy giant enron hovered between rescue and ruin on tuesday , securing crisis funds but facing the loss of top assets to creditors and bargain hunters . bombed - out shares in the world ' s once - dominant power and gas trader , now the biggest corporate insolvency in history , bounced by more than 40 percent on european exchanges after managers secured $ 1 . 5 billion in emergency finance . on the london - based electronic exchange instinet , enron shares built on a late monday climb , trading up to 60 cents from 39 cents at monday ' s u . s . close . in frankfurt its german listing climbed 36 percent to 0 . 64 euros . but despite the rally , enron ' s market value remains a tiny fraction of its former $ 80 billion , at a little over $ 300 million . its financial meltdown that culminated with a chapter 11 filing for protection from creditors dwarfs the world ' s previous record failure , texaco , in terms of assets in insolvency and looks set to spawn a wave of lawsuits . experts said its future remained in the balance .  last year a company with $ 1 billion of profits , enron has since frightened off both investors and trading partners as it emerged that unorthodox accounting methods kept chunks of debt off its balance sheet . the crisis in confidence caused its global empire to collapse amid $ 17 billion of debts last week . the houston , texas based group filed for chapter 11 in the united states at the weekend after seeking similar creditor protection elsewhere in the world where its trading tentacles reached . fallout from the crisis and concerns about enron exposure hit the share prices of some of the world ' s top banks last week . though the funds offer hope , enron assets with any value and not already in the process of being sold are now in the sights of its competitors . most importantly the group faces the loss of its northern natural gas pipeline division to rival dynegy . dynegy pulled out of a $ 10 billion rescue bid for enron last week , but claimed control of the pipeline because an emergency loan it gave the crippled group was secured against this business . enron and dynegy are already engaged in a legal battle over both dynegy ' s abandonment of the takeover and the pipeline issue . buyers circle outside the united states , breakup also looked to be under way . acquisitive state - owned power group electricite de france said it was in talks to buy its european retail arm . industry sources say it is also the object of other trading companies ' attention .  in the united states , sources familiar with the situation said enron was in talks that could lead to the sale of other trading business . even before its troubles engulfed it , enron was busy selling assets to help shore up its finances . those divestments were continuing this week . in bombay on tuesday , anglo - dutch energy giant royal dutch shell said it was keen to buy its 65 percent owned dabhol liquefied natural gas ( lng ) terminal there . on monday in london , enron ' s uk water arm wessex water , put up for sale earlier this year , said it still expected to be sold  industry sources say a number of financial buyers are interested including royal bank of scotland , germany ' s west lb , and barclays capital . emergency funds the emergency funds secured on monday are being provided by two of enron ' s major creditors , j . p . morgan chase and citigroup . enron will have immediate access to $ 250 million which helps it pay salaries and pay for goods and services needed to continue its trading operations . an extra $ 250 million would be given to enron as soon as the company provides the lenders with a satisfactory business plan . the $ 1 . 0 billion balance would be on the table once j . p . morgan chase and citigroup can successfully syndicate or redistribute the loan among other lenders . new buyer ? a new potential suitor also emerged on monday with a view to acquiring the whole enron group . small privately - held illinois utility standard power & light , which acquires and develops independent power plants , said it was preparing a tender offer to buy up enron for less than $ 1 per share , according to a regulatory filing . the company said it planned to sell off non - energy related businesses and retire enron ' s debt through a long - term reorganisation , assembling a financing package involving several lenders , both public and private . ( with additional reporting by andrew callus in london , c . bryson hull and andrew kelly in houston , arindam nag , jim brumm , dane hamilton , brendan intindola , tom johnson in new york , and sriram ramakrishnan in bombay ) . copyright ? 2000 dow jones & company , inc . all rights reserved . enron receives financing to operate , cuts 20 percent of staff  associated press newswires copyright 2001 . the associated press . all rights reserved . houston ( ap ) - two banks have agreed to be enron corp . ' s short - term rescuers , but the $ 1 . 5 billion they put up to help the embattled energy giant may not be enough to entice traders back into its fold .  enron told a new york bankruptcy judge monday that the company had arranged up to $ 1 . 5 billion in financing to keep operating as it reorganizes under chapter 11 bankruptcy protection . the announcement came hours after the troubled energy marketing company laid off 4 , 000 workers - or 20 percent of its work force - at its houston headquarters . the remaining 3 , 500 employees were sent home for the rest of the day and would return to work tuesday , spokeswoman karen denne said . under terms of the agreement with lenders j . p . morgan chase and citigroup , enron will receive $ 250 million immediately . another $ 250 million will be available when the company provides the lenders with a  enron would get another $ 1 billion from j . p . morgan and citigroup , which will be used in part to pay debt on enron ' s transwestern pipeline . the company currently has $ 500 million in cash , but normally operates with about $ 2 . 5 billion on hand , said martin bienenstock , a lawyer representing enron . - - - enron employees try to move on after losing jobs houston ( ap ) - at 63 years of age , rod jordan figured the last three years he spent with enron corp . would be his last job . he looked forward to a comfortable retirement . but on monday , jordan became a job seeker , one of 4 , 000 workers laid off by the once vaunted , but now fallen energy trader .  jordan was one of many employees on monday who filed out of enron ' s 50 - story mirrored glass tower headquarters in downtown houston with their personal belongings stuffed in cardboard boxes . they waited for rides home outside one of the building ' s entrances on a narrow side street , entering a steady and slow stream of vehicles that came by in a scene reminiscent of a funeral procession . most of the job cuts - announced a day after enron filed for bankruptcy protection - were at the company ' s houston headquarters . the remaining 3 , 500 or so workers were sent home , but were to return to work tuesday , spokeswoman karen denne said . an information sheet distributed to laid - off employees said each would receive a $ 4 , 500 severance package pending a ruling from a manhattan bankruptcy court . downtown houston , which employs an estimated 150 , 000 , lost nearly 3 percent of its work force with the cuts . uk : update 1 - pwc says u . s . finance deal will not affect euro units .  reuters english news service ( c ) reuters limited 2001 . london , dec 4 ( reuters ) - said a $ 1 . 5 billion emergency round of financing for enron corp in the u . s . would not affect the energy group ' s european trading operations , which are in administration .  late on monday enron in houston said it had secured $ 1 . 5 billion from j . p . morgan chase and citigroup , two of its major creditors , to run a skelelton operation to help it reoganise its operations . enron europe ' s trading operations were placed into administration on november 29 after funding for day - to - day operations from its u . s . parent were cut . although seven businesses in the uk and europe were excluded from the administration order including the uk teesside power station , enron wind , enron direct and enron metals , these businesses are still likely to be sold . enron direct , the retail arm which sells gas and electricity mainly to small and medium - sized businesses in britain , is understood to be on the point of being sold . french electricity group electricite de france ( edf ) said on tuesday it was in talks with pwc about buying enron direct , although a number of other bidders are also interested . enron ' s interests in power stations in poland , italy and turkey were also outside the european administration order because they are held by enron corp in houston . copyright ? 2000 dow jones & company , inc . all rights reserved . enron europe pulp co up for sale - enron ' s administrator  dow jones international news ( copyright ( c ) 2001 , dow jones + 44 - 20 - 7842 - 9248 ; justin . brown @ dowjones . com copyright ? 2000 dow jones & company , inc . all rights reserved . bankrupt enron corp . receives financing to operate , cuts 20 percent of staff by kristen hays associated press writer  associated press newswires copyright 2001 . the associated press . all rights reserved . houston ( ap ) - enron corp . took steps to bolster its weak financial footing following the beleaguered energy company ' s historic bankruptcy filing , arranging $ 1 . 5 billion in financing and slashing 4 , 000 jobs , or 20 percent of its work force . enron employees filed out of the company ' s 50 - story mirrored glass tower headquarters in downtown houston on monday with their personal belongings stuffed in cardboard boxes . several employees reported they were given 30 minutes to clear out .  enron , once the world ' s biggest buyer and seller of energy , imploded in recent weeks after acknowledging it engaged in questionable accounting practices and overstated its profits by more than half a billion dollars over the past four years . the disclosure caused its credit rating to collapse and led dynegy inc . to scrap a $ 8 . 4 billion buyout of enron . enron filed for chapter 11 bankruptcy protection and sued dynegy for at least $ 10 billion in damages on sunday , claiming its smaller , crosstown rival wrongly abandoned the buyout - accelerating enron ' s demise . dynegy countered with a lawsuit against enron . enron told a new york bankruptcy judge monday that the company had arranged up to $ 1 . 5 billion in financing to keep operating as it reorganizes . under terms of the agreement with lenders j . p . morgan chase and citigroup , enron will receive $ 250 million immediately . another $ 250 million will be available when the company provides the lenders with a  enron would get another $ 1 billion from the lenders to be used in part to pay debt on one of its pipelines . the company currently has $ 500 million in cash , but normally operates with about $ 2 . 5 billion on hand , said martin bienenstock , a lawyer representing enron .  but some analysts warned that the financing still may not be enough to entice traders back into its fold . fitch inc . , the credit ratings agency , said in a statement monday that enron ' s physical assets - the pipelines and power operations - are largely encumbered , and its trading business is heavily damaged as cash , credit and traders evaporated over the last several weeks . fitch said that enron would emerge from chapter 11 a much smaller company - or completely liquidated , unable to restore its core trading business . in the bankruptcy filing , enron listed just under $ 50 billion in assets and $ 31 . 1 billion in liabilities . it is one of the biggest corporate bankruptcies in u . s . history . the legal battle between enron and dynegy was shaping up to be a contentious one , with enron fighting for its prized northern natural gas pipeline . enron claims dynegy has no right to acquire the pipeline in return for a $ 1 . 5 billion investment . dynegy returned the punch , suing several enron subsidiaries not included in the bankruptcy case over the pipeline .  todd zywicki , a professor of law and bankruptcy expert at george mason university , said enron ' s lawsuit will at least temporarily keep the pipeline in its hands as the bankruptcy case buys the company some time to try to restore its financial health .  enron shares were up 14 cents to close 40 cents a share in trading monday on the new york stock exchange . a year ago , enron traded near $ 85 . many employees who lost their jobs following the layoffs have also seen their retirement benefits take a hit as the stock plummeted .  jordan said he lost  an information sheet distributed to laid - off employees said each would receive a $ 4 , 500 severance package pending a ruling from a new york bankruptcy court . - - - on the net : http : / / www . enron . com http : / / www . dynegy . com ap photos djpl 04111 , ap graphic enron bankrupt copyright ? 2000 dow jones & company , inc . all rights reserved . enron takes lst steps in bid to negotiate bankruptcy ( update 3 ) 2001 - 12 - 04 08 : 03 ( new york ) enron takes lst steps in bid to negotiate bankruptcy ( update 3 ) ( for more enron news , see { top nrg } . adds instinet price in sixth paragraph . ) new york , dec . 4 ( bloomberg ) - - enron corp . is working to survive history ' s biggest chapter 11 reorganization , lining up a $ 1 . 5 billion loan , getting permission to spend money to keep operating and firing 4 , 000 workers . an enron attorney told u . s . bankruptcy judge arthur gonzalez the company is talking with backers to revive its energy - trading business under new ownership . the operation , enron ' s most profitable , unraveled after the houston - based company in october posted a third - quarter loss of $ 1 . 01 billion . while the loan eliminated an immediate threat , competitors such as suez sa , the second - biggest water company , are looking at buying enron assets as the company raises money . trading partners are hard to find , rival dynegy inc . is seeking to take over an enron pipeline and federal authorities are investigating what sent the biggest energy trader to court protection . ` ` we do not today have every ` i ' dotted and every ` t ' crossed , ' ' in crafting a strategy to work through chapter 11 , enron ' s attorney martin bienenstock said in court yesterday . in an indication unsecured creditors don ' t expect to be repaid in full , enron ' s 6 3 / 8 percent bonds due in 2003 traded around 24 cents on the dollar , according to bloomberg data . shares of enron rose 15 cents to 54 cents on instinet . shareholders are last in line to be paid in chapter 11 cases and typically get nothing if other creditors aren ' t fully reimbursed . business challenges enron is talking with j . p . morgan chase & co . , citigroup inc . ' s salomon smith barney and ubs ag about a possible joint venture that would pump money into the energy - trading operations , the wall street journal said , citing people familiar with the matter . the venture may lead to one of the banks controlling a new trading company , the paper quoted the people as saying . european companies began scrutinizing enron ' s assets . suez is interested in some of enron ' s holdings , said jacques van hee , a spokesman for its energy unit . glencore international ag yesterday said it was considering enron ' s metals - trading business . at enrononline , the web site that once handled $ 2 . 8 billion in commodity transactions a day , trading has plunged , raising doubts that enron will be able to rescue the business . enron customers such as mirant corp . and aquila inc . have taken business elsewhere . ` ` until we ' ve seen the fallout from this bankruptcy , i don ' t think you ' re going to find a lot of entities that are prepared to trade with ' ' enron , said daniel gordon , head of commodities trading at hagerstown , maryland - based allegheny energy inc . , which owns utilities in five states . legal threats enron ' s woes come at a time when the u . s . economy is in its first recession in about a decade and the world ' s two other top economies , europe and japan , are also shrinking . as of last month , a record 224 publicly traded companies had filed for bankruptcy this year , 27 percent more than last year ' s record , according to bankruptcydata . com , a boston - based web site . victims range from bethlehem steel corp . to polaroid corp . lawsuits and federal investigations are adding to enron ' s difficulties . the u . s . department of justice has started a criminal probe of enron ' s dealings , the wall street journal reported monday , citing unidentified sources . dynegy is suing in a texas court to gain control of enron ' s northern natural gas co . pipeline . enron went to court first , seeking $ 10 billion over its rival ' s withdrawal of a $ 23 billion bid to purchase the energy trader . enron ' s nosedive - - its shares have lost 99 percent of their value - - has also placed a spotlight on arthur andersen llp , the company ' s auditor . enron said last month it overstated its 1998 income by $ 113 million . the securities and exchange commission is investigating . enron workers are suing over losses to their retirement accounts . bankruptcy with just $ 500 million left to fund operations , enron yesterday won gonzalez ' s permission to draw $ 250 million of the $ 1 . 5 billion in chapter 11 financing from a bank group led by j . p . morgan chase and citigroup inc . ' s citibank . a hearing to approve use of the full amount was set for jan . 7 . the company will use more than a third of the $ 1 . 5 billion credit line to repay an earlier , $ 550 million unsecured loan from j . p . morgan chase and citibank to enron ' s transwestern pipeline unit . the new loan would be paid out ahead of all previous debts . the unit will likely file for bankruptcy once its debts have been repaid , said donald s . bernstein , an attorney for j . p . morgan chase . enron also got gonzalez ' s permission to spend as much as $ 40 million to complete construction of its office tower in houston and as much as $ 8 million for internet access and other expenses critical to trading energy . firing workers seeking to cut costs , enron eliminated 4 , 000 jobs at its houston headquarters , more than half its staff there . the company had about 21 , 000 employees at the end of september , two - thirds in the u . s . , about a fifth in the u . k . and the rest in other parts of the world . it fired 1 , 100 workers in the u . k . last week . judge gonzalez approved enron ' s request to pay fired employees from $ 4 , 500 to $ 15 , 000 in severance . enron chairman and chief executive officer kenneth lay said he will try to keep workers who are running trading operations , which used to provide 97 percent of enron ' s revenue . enron and at least 13 units declared bankruptcy sunday , listing total assets of $ 49 . 8 billion and debts of $ 31 . 2 billion . the company ' s enron gas liquids inc . unit on monday filed for bankruptcy , adding more assets to the case . bienenstock told gonzalez more company units will file for bankruptcy in the days ahead . - - jeff st . onge in new york ( 202 ) 624 - 1917 or jstonge @ bloomberg . net enron plans to sell asia power assets amid bankruptcy ( updatel ) 2001 - 12 - 04 05 : 33 ( new york ) enron plans to sell asia power assets amid bankruptcy ( updatel ) ( adds details on india in fifth paragraph , philippines ' national power corp . ' s comments in 14 th to last . ) singapore , dec . 4 ( bloomberg ) - - enron corp . said bankruptcy hasn ' t yet interrupted a two - year - old program to sell fixed assets in asia such as power stations and develop its trading business . the plan led enron to sell all of its assets in china except a 51 percent stake in a power plant in the city of chengdu in the country ' s central sichuan province . enron also has one power plant in guam , one in india and two in the philippines . the assets could attract the attention of some enron creditors , such as u . s . - based mirant corp . ` ` our instructions are that we will continue as if nothing has changed and continue negotiations to divest ourselves of these assets , ' ' said rick lacroix , general manager of marianas energy co . , an equal joint venture in guam with japan ' s tomen power corp . ` ` it ' s not affecting the operation of the power generating facilities in guam . ' ' enron sought court protection sunday from lenders that are owed $ 31 . 2 billion in the largest - ever bankruptcy filing in the u . s . in asia , enron has closed its office in seoul and put up for sale its stake in a venture to distribute natural gas with oil refiner sk corp . energy trading operations in australia and singapore may fold . in india , enron ' s sale of the idle dabhol power plant may be delayed because buyers would have to wait for a bankruptcy administrator to approve any agreement , said a . vanchu , chief manager with state bank of india , one of the lenders to the dabhol power co . the bankruptcy could also slow the sale of assets in guam and the philippines . mirant marianas in guam employs about 50 people to operate an 80 - megawatt , diesel - fired power plant and sell power to the guam power authority . in the philippines , enron has 100 percent of a 110 - megawatt , fuel oil - fired power plant in batangas city , south of manila , and a 50 percent stake in a 116 - megawatt , fuel oil - fired plant in olongapo city . atlanta - based mirant corp . may be among the companies looking to buy some of enron ' s assets in asia . mirant announced at the end of last month that it had bought two 26 . 5 - megawatt , oil - fired generators in guam from hei power corp . , a unit of hawaii electric industries inc . mirant also has interests in five power plants in the philippines . the company has said it plans to increase its asian generating capacity to 10 , 000 megawatts from about 3 , 500 megawatts by 2005 . ` ` we review opportunities all the time , ' ' said dora lee , corporate communications manager in hk for mirant asia - pacific ltd . ` ` to the extent that any of these opportunities ( emerge ) , enron or others , we would review with respect to our strategy . ' ' mirant has said it faces losses of no more than $ 60 million from the collapse of enron . ` ` whenever there ' s a distressed sale , that ' s going to open up the market , ' ' said russell young , head of asian utilities research at nomura international ltd . in hong kong . ` ` people that come to mind are china light & power that bought the portfolio of powergen in asia . ' ' clp holdings ltd . , hong kong ' s largest electricity supplier , spent $ 843 million on powergen ' s asian assets this year . philippines national power corp . , the philippines ' state - owned monopoly , said it may buy out the supply and plant contracts of the local unit of enron , if the u . s . energy company offers them for less than the value of the projects . enron power philippines corp . has a contract to operate the power plant in batangas until 2003 and in zambales until 2009 . ` ` we ' re not worried about enron , ' ' said energy secretary vincent perez , who also serves as national power ' s vice chairman . ` ` prior to the filing for bankruptcy , there had been some ongoing discussions and it ' s a matter of finding an acceptable discount rate . ' ' under an agreement with the philippines , enron had the right to build and operate the plants and would sell the facilities to the government at a specified date . before enron filed for bankruptcy protection , the houston - based company offered to sell the contracts to national power at a 12 percent discount rate , perez said , without saying how much the power plants would cost . national power , though , has no obligations to buy out the contract , perez said . enron officials in the philippines weren ' t available to comment . - - thomas hogue in singapore ( 65 ) 212 1554 or thogue @ bloomberg . net arthur andersen ceo calls for accounting review after enron 2001 - 12 - 04 08 : 17 ( new york ) new york , dec . 4 ( bloomberg ) - - arthur andersen llp chief executive joe berardino in a wall street journal opinion - page article said that a range of broader accounting and financial - reporting issues must be addressed in the wake of its client enron corp . ' s collapse . accounting rules should be based on the concept of risk and reward , requiring companies to list more of the assets and liabilities that are at risk on the balance sheet , berardino wrote in a piece entitled ` ` enron : a wake - up call . ' ' current rules have fostered a ` ` technical , legalistic mindset that is sometimes more concerned with form than with substance , ' ' berardino said . enron , whose auditor was arthur andersen , filed for bankruptcy protection after posting a third - quarter loss of $ 1 . 01 billion in october . the houston - based company used off - balance - sheet financing vehicles that enabled it to boost leverage without reporting to investors the increased debt on its balance sheet . the u . s . financial reporting model , which emphasizes historical information and a single earnings - per - share number , was created in the 1930 s , when most assets were tangible and there were no derivatives or off - balance - sheet financing . it needs to be updated to take into account new complex financial structures and the associated risks , berardino said . today , disclosures should be continuous , not periodic , and include performance indicators beyond earnings - per - share , berardino said . berardino also said that it takes too long to set new standards because regulatory responsibilities are shared by too many agencies . ` ` responsibility for administering discipline is too diffuse and punishment is not sufficiently certain to promote confidence in the profession , ' ' berardino wrote . edf says it ' s in talks to buy enron ' s european retail unit 2001 - 12 - 04 09 : 01 ( new york ) edf says it ' s in talks to buy enron ' s european retail unit paris , dec . 4 ( bloomberg ) - - electricite de france , europe ' s largest power company , said it is in negotiations to buy the european retail energy business of enron corp . , the u . s . energy trader that filed for bankruptcy protection . france ' s state - owned electricity company would gain 150 , 000 gas and electricity customers , mainly in the u . k . , with the acquisition of enron direct . it is talking to  about a purchase , said a spokesman for electricite de france , who declined to be named . ` ` enron direct would fit well with our london electricity business , ' ' gerard wolf , director of the chairman ' s office for the french company , told reuters earlier . enron , the biggest energy trader , is trying to survive history ' s biggest chapter 11 reorganization . it ' s lining up a $ 1 . 5 billion loan , getting permission to spend money to keep operating and firing 4 , 000 workers . centrica plc and innogy holdings plc of the u . k , txu corp . and rwe ag , germany ' s no . 2 utility , are also interested in buying enron direct , said reuters , without citing a source . - - brooke nelson in the madrid newsroom ( 34 91 ) 700 - 9602 , or enron lines up $ 1 . 5 billion in bankruptcy financing ( update 5 ) 2001 - 12 - 03 21 : 02 ( new york ) enron lines up $ 1 . 5 billion in bankruptcy financing ( update 5 ) ( adds attorney ' s comments in fifth paragraph , loan terms in sixth paragraph . for more enron news , see { top nrg } . ) new york , dec . 3 ( bloomberg ) - - enron corp . , a day after filing the biggest bankruptcy case in u . s . history , lined up $ 1 . 5 billion in chapter 11 financing from banks led by j . p . morgan chase & co . and citigroup inc . ' s citibank . u . s . bankruptcy judge arthur gonzalez in manhattan let enron draw $ 250 million from the credit line to keep its energy trading and other operations running while it tries to reorganize . seeking to avoid complete collapse , enron cut 4 , 000 jobs at its houston headquarters , more than half its staff there . ` ` with this financing in place , enron can continue to do business and move forward to implement the first steps of its reorganization , ' ' said kenneth l . lay , enron ' s chairman and chief executive officer , in a statement . gonzalez scheduled a jan . 7 hearing to consider giving enron access to the full $ 1 . 5 billion line of credit . the company was down to its last $ 500 million in cash without the new funds , said martin bienenstock , a new york attorney representing enron , told gonzalez at a hearing that lasted into the evening . ` ` this will improve things , ' ' bienenstock said after the hearing . ` ` it shows the company has credit . ' ' courting investors the company will use $ 550 million of the $ 1 . 5 billion credit line to repay $ 550 million owed by its transwestern pipeline unit . once transwestern ' s debt is paid the pipeline operator will likely file for bankruptcy as part of enron ' s case , j . p . morgan chase ' s attorney donald s . bernstein told gonzalez . enron sought bankruptcy protection to rescue and revive its trading business , which accounted for most of its $ 101 . 8 billion in revenue last year , said bienenstock . shares of enron rose 14 cents to 39 cents . the stock traded as high as $ 90 . 75 last year . the company ' s 6 3 / 8 percent bonds due 2003 traded around 24 cents , according to deutsche bank . enron corp . is courting investors to revive its crippled trading business , even as it loses customers who fear the company will be unable to make good on its obligations . the company is in talks with financial institutions to fund the wholesale trading business ` ` under new ownership , ' ' enron ' s chief operating officer greg whalley said in a statement . enron and at least 13 units declared bankruptcy yesterday , listing total assets of $ 49 . 8 billion and debts of $ 31 . 2 billion . the company ' s enron gas liquids inc . unit today filed for bankruptcy and was added to the case . dynegy suit enron also is suing dynegy inc . for $ 10 billion for its rival ' s about - face in withdrawing a $ 23 billion bid to acquire enron . today dynegy retaliated , suing in a texas court to gain control of enron ' s northern natural gas co . pipeline . bienenstock said the company had less than a week since dynegy canceled its takeover to obtain temporary financing . ` ` under the circumstances , this was the only available credit , ' ' he said . enron ' s trading business plummeted after the company in mid - october reported a third - quarter loss of $ 1 . 01 billion , bienenstock said . before that , enron ' s trading book carried a value of $ 12 billion . today , that has fallen to $ 6 billion to $ 7 billion , he said . ` ` we do not today have every ` i ' dotted and every ` t ' crossed , ' ' in crafting the chapter 11 reorganization , bienenstock said . more enron affiliates will file for bankruptcy protection ` ` in the days ahead , ' ' he said , without providing details . arthur andersen enron ' s nosedive - - its shares have lost 99 percent of their value - - has also placed a spotlight on arthur andersen llp , the company ' s auditor . enron said last month it overstated its 1998 income by $ 113 million , part of $ 586 million that the company cut from its profits since 1997 . the securities and exchange commission is investigating . ` ` until we ' ve seen the fallout from this bankruptcy , i don ' t think you ' re going to find a lot of entities that are prepared to trade with ' ' enron , said daniel gordon , head of commodities trading at hagerstown , maryland - based allegheny energy inc . , which owns utilities in five states . ` ` anyone who thinks this will be a quick bankruptcy is deluding themselves . ' ' the company had about 21 , 000 employees at the end of september , two - thirds in the u . s . , about a fifth in the u . k . and the rest in other parts of the world . it fired 1 , 100 workers in the u . k . last week . severance workers streamed out of enron ' s sleek glass office tower in downtown houston today , carrying boxes of personal possessions and saying their goodbyes . police officers on horseback helped direct traffic on nearby streets . employees said they were separated at the office into two groups . one was told to leave and check enron voice - mail for updates on their status . others were told they will be kept and were ordered to stay on the job . ` ` the worst thing was the ones they are going to keep were whisked away into a room like they were having champagne and caviar , and we were getting booted , ' ' said chris ihrig , who traded steel and forest products . ` ` they always preached respect , integrity , communications and excellence , and it never was upheld . ' ' enron won gonzalez ' s permission to pay a minimum of $ 4 , 500 in severance to fired employees , to spend as much as $ 40 million to complete construction of its office tower in houston and up to $ 8 million for internet access and other expenses critical to its trading operation . enron ' s lay said he will try to keep workers who are key to running trading operations , which used to provide 97 percent of enron ' s revenue . - - jeff st . onge and jim polson in new york with andy pratt in enron ' s collapse may have repercussions throughout houston 2001 - 12 - 03 19 : 48 ( new york ) enron ' s collapse may have repercussions throughout houston houston , dec . 3 ( bloomberg ) - - enron corp . ' s bankruptcy and the firing of 4 , 000 local employees , more than half its workforce in houston , evoked words of sympathy from city officials , although the newly re - elected mayor said there are no specific plans for assistance . the impact to houston should be minimal , mayor lee brown told a press conference on his first working day after narrowly winning an election run - off saturday . ` ` seattle didn ' t disappear after boeing decided it would move , ' ' brown said . ` ` we have 20 other fortune 500 companies . . . . one company ' s problems will not impact the other strong companies we have . ' ' state officials were more forthcoming . texas governor rick perry directed the texas workforce commission to send rapid response teams to houston to begin assistance programs for fired workers , spokesman gene acuna said . enron filed yesterday for bankruptcy protection , the biggest such filing in u . s . history , after business began to collapse in october because it wrote off more than $ 1 billion in failed investments amid a $ 1 . 2 billion loss in shareholder equity . investors continued to lose confidence in the company when it restated more than four years of earnings . enron sought to merge with dynegy inc . , but that agreement fell through last week , forcing the largest energy trader to seek reorganization in bankruptcy court . enron shares , which have fallen 99 percent this year , rose 14 cents to 40 cents . dynegy , which is being sued for $ 10 billion by enron for breaking the merger agreement , fell $ 3 . 18 , or 10 percent , to $ 27 . 17 . tide of loss the tide of employees that emerged from enron ' s glass building monday , when the company told most of its workers to go home and await word on their jobs , may have repercussions throughout houston ' s downtown area , affecting new office projects as well as small businesses , houstonians said . the gateway newsstand , situated between enron and a large parking garage , would lose about 30 percent of its business if the energy trader were to cut all of its jobs , owner noor kamdar said . enron workers on lunch break usually crowd the shop for cigarettes , soft drinks and sandwiches . ` ` it has been slow just the past few days , like a holiday , ' ' kamdar said . ` ` i guess we will have to find a new crowd . ' ' houston ' s downtown has been the focus of an intense revitalization effort in recent years , as residential developers build expensive loft apartments and commercial builders construct four new office complexes . about 150 , 000 people work in downtown houston , said laura van ness , director of business development for economic development group central houston inc . the number of people living downtown grew 4 . 5 percent in 2001 , and is expected to increase 15 percent annually for the next five years , she said . office projects enron is completing a second office tower to match its mirrored headquarters . work on the project continues , with completion expected in mid - january , according to hines , the real estate company that ' s developing the project . enron today received permission from a bankruptcy judge to spend as much as $ 40 million to finish the tower . that will put about a million square feet of office space on the downtown market , said dan bellows , president of commercial broker staubach & co . ' s houston office . ` ` it ' ll definitely create a little more vacancy downtown , ' ' bellow said , who estimated vacancy rates could climb to 10 percent from 5 percent now . still , enron ' s buildings are expected to be in high demand in a market lacking large blocks of space for major new entrants . ` ` there are several large companies in this city who have already expressed interest in one or more of the buildings if they come available , ' ' bellows said . other major downtown office projects under construction are pre - leased to anchor tenants that include energy traders reliant inc . and calpine corp . , bellows said . development postponed work on all the projects continues . trammel crow co . , however , postponed its $ 108 million , 34 - story office development because of uncertainty about the impact enron ' s collapse will have on demand . perhaps the most visible loss to houston will be the prestige associated with the company ' s name , which adorns the downtown ballpark , enron field . the trader is among three of the city ' s most visible employers to hit hard times . layoffs were announced earlier this year at continental airlines inc . , where demand dropped following the attacks in new york and washington , and at compaq computer corp . , which is being bought by hewlett - packard co . ` ` if you ' re the ( chamber of commerce ) , you ' re out scrambling around for a new icon , ' ' said barton smith , an economist at the university of houston and director of the institute for regional forecasting . ` ` enron was the icon for houston for the new energy economy . ' ' - - jim kennett in houston , ( 713 ) 353 - 4871 , with reporting by eileen\""
      ]
     },
     "execution_count": 58,
     "metadata": {},
     "output_type": "execute_result"
    }
   ],
   "source": [
    "# Make the df_enron2 dataframe\n",
    "df_enron3 = main('data/enron-data/enron3')\n",
    "\n",
    "\n",
    "# Return the length of the body for ham status\n",
    "def length(column):\n",
    "    status = column[0]\n",
    "    body = column[2]\n",
    "    if status == 'ham':\n",
    "        return len(body)\n",
    "    return body\n",
    "\n",
    "df_enron3['Body'] = df_enron3.apply(length, axis=1)\n",
    "\n",
    "\n",
    "# Make the ham dataframe containing only the ham status\n",
    "ham = df_enron3[df_enron3['Status'] == 'ham']\n",
    "\n",
    "\n",
    "# Get the max length of the body\n",
    "max_len_body = ham.Body.max()\n",
    "\n",
    "\n",
    "# Get the index of the longest body\n",
    "print(ham[ham['Body'] == max_len_body])\n",
    "\n",
    "print('='*160)\n",
    "\n",
    "# Make the df_enron1 dataframe again and find the index with longest ham email\n",
    "df_enron3 = main('data/enron-data/enron3')\n",
    "\n",
    "df_enron3 = pd.DataFrame(df_enron3)\n",
    "df_enron3.iloc[3225].Body"
   ]
  },
  {
   "cell_type": "markdown",
   "metadata": {},
   "source": [
    "-----\n",
    "\n",
    "\n",
    "## 5.) What is the accuracy of your model? \n",
    ">Enron3\n",
    "\n",
    "----"
   ]
  },
  {
   "cell_type": "markdown",
   "metadata": {},
   "source": [
    " <span style=\"font-family: Arial; font-size:1.4em;color:green;\"> Using 10-fold cross-validation </p>"
   ]
  },
  {
   "cell_type": "code",
   "execution_count": 59,
   "metadata": {},
   "outputs": [
    {
     "name": "stdout",
     "output_type": "stream",
     "text": [
      "(1641, 41319)\n",
      "Accuracy: 91.22 percent\n"
     ]
    }
   ],
   "source": [
    "tf_X_test = tf.transform(X_test)\n",
    "\n",
    "scores = cross_val_score(G_classifier, tf_X_test.toarray(), y_test, cv=10)\n",
    "acc = scores.mean()\n",
    "print(tf_X_test.shape)\n",
    "print(\"Accuracy: %0.2f percent\" % (acc *100))"
   ]
  },
  {
   "cell_type": "code",
   "execution_count": 60,
   "metadata": {},
   "outputs": [],
   "source": [
    "y_test = pd.DataFrame(y_test)\n",
    "\n",
    "df = pd.DataFrame(X_test).merge(y_test, left_index=True, right_index=True)\n",
    "df = df.mask(df == 0, df.max(axis=1), axis=0)\n",
    "\n",
    "df['PRED'] = G_classifier.predict(tf_X_test.toarray())"
   ]
  },
  {
   "cell_type": "code",
   "execution_count": 61,
   "metadata": {},
   "outputs": [
    {
     "data": {
      "text/html": [
       "<div>\n",
       "<style scoped>\n",
       "    .dataframe tbody tr th:only-of-type {\n",
       "        vertical-align: middle;\n",
       "    }\n",
       "\n",
       "    .dataframe tbody tr th {\n",
       "        vertical-align: top;\n",
       "    }\n",
       "\n",
       "    .dataframe thead th {\n",
       "        text-align: right;\n",
       "    }\n",
       "</style>\n",
       "<table border=\"1\" class=\"dataframe\">\n",
       "  <thead>\n",
       "    <tr style=\"text-align: right;\">\n",
       "      <th></th>\n",
       "      <th>Body</th>\n",
       "      <th>Status</th>\n",
       "      <th>PRED</th>\n",
       "    </tr>\n",
       "  </thead>\n",
       "  <tbody>\n",
       "    <tr>\n",
       "      <th>4477</th>\n",
       "      <td>sac solutions le brinda la posibilidad de com...</td>\n",
       "      <td>spam</td>\n",
       "      <td>spam</td>\n",
       "    </tr>\n",
       "    <tr>\n",
       "      <th>3851</th>\n",
       "      <td>greg / louise - i would like your approval fo...</td>\n",
       "      <td>ham</td>\n",
       "      <td>ham</td>\n",
       "    </tr>\n",
       "    <tr>\n",
       "      <th>4080</th>\n",
       "      <td>sí , aunque no lo creas , es diferente porque...</td>\n",
       "      <td>spam</td>\n",
       "      <td>spam</td>\n",
       "    </tr>\n",
       "    <tr>\n",
       "      <th>2458</th>\n",
       "      <td>enron replaces fastow as finance chief - - - ...</td>\n",
       "      <td>ham</td>\n",
       "      <td>ham</td>\n",
       "    </tr>\n",
       "    <tr>\n",
       "      <th>5067</th>\n",
       "      <td>the extender - real product , real result the...</td>\n",
       "      <td>spam</td>\n",
       "      <td>spam</td>\n",
       "    </tr>\n",
       "    <tr>\n",
       "      <th>...</th>\n",
       "      <td>...</td>\n",
       "      <td>...</td>\n",
       "      <td>...</td>\n",
       "    </tr>\n",
       "    <tr>\n",
       "      <th>4621</th>\n",
       "      <td>our art team creates a custom logo for you , ...</td>\n",
       "      <td>spam</td>\n",
       "      <td>spam</td>\n",
       "    </tr>\n",
       "    <tr>\n",
       "      <th>5012</th>\n",
       "      <td>hello , vlsit our pharmacy - bymailshop and s...</td>\n",
       "      <td>spam</td>\n",
       "      <td>spam</td>\n",
       "    </tr>\n",
       "    <tr>\n",
       "      <th>4337</th>\n",
       "      <td>asetar , ) ) 247 % - online doctorz ! up to 7...</td>\n",
       "      <td>spam</td>\n",
       "      <td>spam</td>\n",
       "    </tr>\n",
       "    <tr>\n",
       "      <th>5018</th>\n",
       "      <td>who can resist a 24 kt . white gold rolex wat...</td>\n",
       "      <td>spam</td>\n",
       "      <td>spam</td>\n",
       "    </tr>\n",
       "    <tr>\n",
       "      <th>73</th>\n",
       "      <td>this is good info for frevert ' s presentatio...</td>\n",
       "      <td>ham</td>\n",
       "      <td>ham</td>\n",
       "    </tr>\n",
       "  </tbody>\n",
       "</table>\n",
       "<p>1641 rows × 3 columns</p>\n",
       "</div>"
      ],
      "text/plain": [
       "                                                   Body Status  PRED\n",
       "4477   sac solutions le brinda la posibilidad de com...   spam  spam\n",
       "3851   greg / louise - i would like your approval fo...    ham   ham\n",
       "4080   sí , aunque no lo creas , es diferente porque...   spam  spam\n",
       "2458   enron replaces fastow as finance chief - - - ...    ham   ham\n",
       "5067   the extender - real product , real result the...   spam  spam\n",
       "...                                                 ...    ...   ...\n",
       "4621   our art team creates a custom logo for you , ...   spam  spam\n",
       "5012   hello , vlsit our pharmacy - bymailshop and s...   spam  spam\n",
       "4337   asetar , ) ) 247 % - online doctorz ! up to 7...   spam  spam\n",
       "5018   who can resist a 24 kt . white gold rolex wat...   spam  spam\n",
       "73     this is good info for frevert ' s presentatio...    ham   ham\n",
       "\n",
       "[1641 rows x 3 columns]"
      ]
     },
     "execution_count": 61,
     "metadata": {},
     "output_type": "execute_result"
    }
   ],
   "source": [
    "df"
   ]
  },
  {
   "cell_type": "markdown",
   "metadata": {},
   "source": [
    " <span style=\"font-family: Arial; font-size:1.4em;color:green;\"> Pretty decent model </p>"
   ]
  },
  {
   "cell_type": "code",
   "execution_count": 62,
   "metadata": {},
   "outputs": [
    {
     "name": "stdout",
     "output_type": "stream",
     "text": [
      "              precision    recall  f1-score   support\n",
      "\n",
      "         ham       0.94      0.98      0.96      1191\n",
      "        spam       0.95      0.84      0.89       450\n",
      "\n",
      "    accuracy                           0.95      1641\n",
      "   macro avg       0.95      0.91      0.93      1641\n",
      "weighted avg       0.95      0.95      0.94      1641\n",
      "\n"
     ]
    },
    {
     "data": {
      "image/png": "[encoded data removed]",
      "text/plain": [
       "<Figure size 720x360 with 2 Axes>"
      ]
     },
     "metadata": {},
     "output_type": "display_data"
    }
   ],
   "source": [
    "from sklearn import metrics\n",
    "from sklearn.metrics import classification_report\n",
    "\n",
    "cm = metrics.confusion_matrix(y_test, G_classifier.predict(tf_X_test.toarray()))\n",
    "\n",
    "ax= plt.subplot()\n",
    "sns.heatmap(cm, annot=True, fmt='g', ax=ax, cmap=\"YlGnBu\");  #annot=True to annotate cells, ftm='g' to disable scientific notation\n",
    "\n",
    "# labels, title and ticks\n",
    "ax.set_xlabel('Predicted labels');ax.set_ylabel('Actual labels'); \n",
    "ax.set_title('Using only the Body'); \n",
    "ax.xaxis.set_ticklabels(['Ham', 'Spam']); ax.yaxis.set_ticklabels(['Ham', 'Spam']);\n",
    "\n",
    "print(classification_report(y_test, G_classifier.predict(tf_X_test.toarray())))"
   ]
  },
  {
   "cell_type": "markdown",
   "metadata": {},
   "source": [
    " <span style=\"font-family: Arial; font-size:1.4em;color:green;\"> Let's try this out! </p>"
   ]
  },
  {
   "cell_type": "code",
   "execution_count": 64,
   "metadata": {},
   "outputs": [
    {
     "data": {
      "text/plain": [
       "array(['spam', 'ham'], dtype='<U4')"
      ]
     },
     "execution_count": 64,
     "metadata": {},
     "output_type": "execute_result"
    }
   ],
   "source": [
    "examples = ['Free Viagra now!!!', 'Hi Bob, how about a game of golf tomorrow?']\n",
    "example_counts = tf.transform(examples)\n",
    "predictions = G_classifier.predict(example_counts.toarray())\n",
    "predictions"
   ]
  },
  {
   "cell_type": "markdown",
   "metadata": {},
   "source": [
    "-----\n",
    "\n",
    "\n",
    "## 6.) Include the Subject in the analysis of the emails, does the accuracy/performance of the model increase? \n",
    ">Enron3\n",
    "\n",
    "----"
   ]
  },
  {
   "cell_type": "code",
   "execution_count": 65,
   "metadata": {},
   "outputs": [],
   "source": [
    "df_enron3 = df_enron3[df_enron3['Body'] != ' ']\n",
    "df_enron3['Subject & Body'] = df_enron3['Subject'].map(str) + df_enron3['Body'].map(str)\n",
    "\n",
    "X_train, X_test, y_train, y_test = train_test_split(df_enron3['Subject & Body'], df_enron3['Status'], test_size=0.3, random_state=42)"
   ]
  },
  {
   "cell_type": "code",
   "execution_count": 66,
   "metadata": {},
   "outputs": [
    {
     "data": {
      "text/plain": [
       "GaussianNB()"
      ]
     },
     "execution_count": 66,
     "metadata": {},
     "output_type": "execute_result"
    }
   ],
   "source": [
    "# Vectorizer\n",
    "tf = TfidfVectorizer(stop_words='english')\n",
    "\n",
    "tf_X_train = tf.fit_transform(X_train)\n",
    "\n",
    "G_classifier = GaussianNB()\n",
    "G_classifier.fit(tf_X_train.toarray(), y_train)"
   ]
  },
  {
   "cell_type": "code",
   "execution_count": 67,
   "metadata": {},
   "outputs": [
    {
     "name": "stdout",
     "output_type": "stream",
     "text": [
      "(1641, 41908)\n",
      "Accuracy: 92.20 percent\n"
     ]
    }
   ],
   "source": [
    "tf_X_test = tf.transform(X_test)\n",
    "\n",
    "scores = cross_val_score(G_classifier, tf_X_test.toarray(), y_test, cv=10)\n",
    "acc = scores.mean()\n",
    "print(tf_X_test.shape)\n",
    "print(\"Accuracy: %0.2f percent\" % (acc *100))"
   ]
  },
  {
   "cell_type": "markdown",
   "metadata": {},
   "source": [
    " <span style=\"font-family: Arial; font-size:1.4em;color:green;\"> Not much of a change in precision on spam as well as the accuracy </p>"
   ]
  },
  {
   "cell_type": "code",
   "execution_count": 68,
   "metadata": {},
   "outputs": [
    {
     "name": "stdout",
     "output_type": "stream",
     "text": [
      "              precision    recall  f1-score   support\n",
      "\n",
      "         ham       0.95      0.98      0.97      1191\n",
      "        spam       0.95      0.87      0.91       450\n",
      "\n",
      "    accuracy                           0.95      1641\n",
      "   macro avg       0.95      0.93      0.94      1641\n",
      "weighted avg       0.95      0.95      0.95      1641\n",
      "\n"
     ]
    },
    {
     "data": {
      "image/png": "[encoded data removed]",
      "text/plain": [
       "<Figure size 720x360 with 2 Axes>"
      ]
     },
     "metadata": {},
     "output_type": "display_data"
    }
   ],
   "source": [
    "from sklearn import metrics\n",
    "from sklearn.metrics import classification_report\n",
    "\n",
    "cm = metrics.confusion_matrix(y_test, G_classifier.predict(tf_X_test.toarray()))\n",
    "\n",
    "ax= plt.subplot()\n",
    "sns.heatmap(cm, annot=True, fmt='g', ax=ax, cmap=\"YlGnBu\");  #annot=True to annotate cells, ftm='g' to disable scientific notation\n",
    "\n",
    "# labels, title and ticks\n",
    "ax.set_xlabel('Predicted labels');ax.set_ylabel('Actual labels'); \n",
    "ax.set_title('Using the Subject & Body'); \n",
    "ax.xaxis.set_ticklabels(['Ham', 'Spam']); ax.yaxis.set_ticklabels(['Ham', 'Spam']);\n",
    "\n",
    "print(classification_report(y_test, G_classifier.predict(tf_X_test.toarray())))"
   ]
  },
  {
   "cell_type": "markdown",
   "metadata": {},
   "source": [
    " <span style=\"font-family: Arial; font-size:1.4em;color:green;\"> Let's try this out! </p>"
   ]
  },
  {
   "cell_type": "code",
   "execution_count": 72,
   "metadata": {},
   "outputs": [
    {
     "data": {
      "text/plain": [
       "array(['spam', 'ham'], dtype='<U4')"
      ]
     },
     "execution_count": 72,
     "metadata": {},
     "output_type": "execute_result"
    }
   ],
   "source": [
    "# Format: [Subject Body, Subject Body]\n",
    "\n",
    "examples = ['October Deal Free Viagra now!!!', 'Gametime Hi Bob, how about a game of golf tomorrow?']\n",
    "example_counts = tf.transform(examples)\n",
    "predictions = G_classifier.predict(example_counts.toarray())\n",
    "predictions"
   ]
  }
 ],
 "metadata": {
  "kernelspec": {
   "display_name": "Python 3 (ipykernel)",
   "language": "python",
   "name": "python3"
  },
  "language_info": {
   "codemirror_mode": {
    "name": "ipython",
    "version": 3
   },
   "file_extension": ".py",
   "mimetype": "text/x-python",
   "name": "python",
   "nbconvert_exporter": "python",
   "pygments_lexer": "ipython3",
   "version": "3.9.7"
  }
 },
 "nbformat": 4,
 "nbformat_minor": 4
}
